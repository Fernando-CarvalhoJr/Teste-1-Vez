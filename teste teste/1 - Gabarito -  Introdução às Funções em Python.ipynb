{
 "cells": [
  {
   "cell_type": "markdown",
   "id": "be654c47",
   "metadata": {
    "id": "be654c47"
   },
   "source": [
    "# Exercícios de Introdução às Funções em Python"
   ]
  },
  {
   "cell_type": "code",
   "execution_count": null,
   "id": "Tt76Fj_aHul2",
   "metadata": {
    "colab": {
     "base_uri": "https://localhost:8080/"
    },
    "executionInfo": {
     "elapsed": 218,
     "status": "ok",
     "timestamp": 1692722625084,
     "user": {
      "displayName": "Johnny Braga",
      "userId": "03578342034079492651"
     },
     "user_tz": 180
    },
    "id": "Tt76Fj_aHul2",
    "outputId": "24d55f0d-50ee-4d66-e6b4-86bf178a5c6f"
   },
   "outputs": [
    {
     "name": "stdout",
     "output_type": "stream",
     "text": [
      "0\n",
      "1\n",
      "2\n",
      "3\n",
      "4\n"
     ]
    }
   ],
   "source": [
    "def fazer_for ():\n",
    "  for i in range(5):\n",
    "    print(i)\n",
    "\n",
    "fazer_for()\n"
   ]
  },
  {
   "cell_type": "code",
   "execution_count": 5,
   "id": "Nqs8rK3Tec6c",
   "metadata": {
    "colab": {
     "base_uri": "https://localhost:8080/"
    },
    "executionInfo": {
     "elapsed": 242,
     "status": "ok",
     "timestamp": 1692829224016,
     "user": {
      "displayName": "Johnny Braga",
      "userId": "03578342034079492651"
     },
     "user_tz": 180
    },
    "id": "Nqs8rK3Tec6c",
    "outputId": "0f2b8b25-9845-4783-c8af-9fe00f27b644"
   },
   "outputs": [
    {
     "name": "stdout",
     "output_type": "stream",
     "text": [
      "[0, 1, 2, 3, 4]\n"
     ]
    }
   ],
   "source": [
    "def fazer_for():\n",
    "    result = []\n",
    "    for i in range(0, 5):\n",
    "        result.append(i)\n",
    "    return result\n",
    "\n",
    "print(fazer_for())\n",
    "\n",
    "\n"
   ]
  },
  {
   "cell_type": "code",
   "execution_count": 11,
   "id": "8GMl5u8xf2v2",
   "metadata": {
    "colab": {
     "base_uri": "https://localhost:8080/"
    },
    "executionInfo": {
     "elapsed": 252,
     "status": "ok",
     "timestamp": 1692829655117,
     "user": {
      "displayName": "Johnny Braga",
      "userId": "03578342034079492651"
     },
     "user_tz": 180
    },
    "id": "8GMl5u8xf2v2",
    "outputId": "5a210fbb-5762-4e75-fbc2-6319e72a5820"
   },
   "outputs": [
    {
     "name": "stdout",
     "output_type": "stream",
     "text": [
      "5\n"
     ]
    }
   ],
   "source": [
    "def operacao (num1,num2):\n",
    "  divisão = num1 /num2\n",
    "  return (divisão)\n",
    "\n",
    "print(int(operacao(10,2)))\n",
    "\n"
   ]
  },
  {
   "cell_type": "code",
   "execution_count": null,
   "id": "Vd6-5axidpmN",
   "metadata": {
    "colab": {
     "base_uri": "https://localhost:8080/"
    },
    "executionInfo": {
     "elapsed": 253,
     "status": "ok",
     "timestamp": 1692728230450,
     "user": {
      "displayName": "Johnny Braga",
      "userId": "03578342034079492651"
     },
     "user_tz": 180
    },
    "id": "Vd6-5axidpmN",
    "outputId": "e4d69428-a792-4439-985b-95b2f88a9f71"
   },
   "outputs": [
    {
     "name": "stdout",
     "output_type": "stream",
     "text": [
      "10*****20*****30\n"
     ]
    }
   ],
   "source": [
    "num1 = 10\n",
    "num2 = 20\n",
    "num3 = 30\n",
    "print(num1, num2, num3, sep='*****')\n"
   ]
  },
  {
   "cell_type": "code",
   "execution_count": null,
   "id": "pHLSfXH8d8L1",
   "metadata": {
    "id": "pHLSfXH8d8L1"
   },
   "outputs": [],
   "source": [
    "def padronizar_codigos (lista_codigos,padrao='m'):\n",
    "  for i,item in enumerate"
   ]
  },
  {
   "cell_type": "markdown",
   "id": "aa0544ac",
   "metadata": {
    "id": "aa0544ac"
   },
   "source": [
    "######  . . . . .  . . . . . . . . . . . . . . . . . . . . . ..  . . . ..  .. .  ..  . . . . ..  . . . . . .. .  . . . . . . . . . ..  . .. .  . . .. . ..  .. .  . . . . . . . . .. . .  .. . . . . . .. . . . . . . . . . . . . . . . .. . . . . . ..\n",
    ".\n",
    "..\n",
    ".\n",
    "..\n",
    ".\n",
    "..\n",
    ".\n",
    "..\n"
   ]
  },
  {
   "cell_type": "markdown",
   "id": "2551625e",
   "metadata": {
    "id": "2551625e"
   },
   "source": [
    "## Introdução ao uso de funções em Python. Funções são blocos de código que nos permitem organizar e reutilizar tarefas em nossos programas. Elas são uma parte fundamental da programação e nos ajudam a escrever código mais limpo, eficiente e modular.\n",
    "\n",
    "## Para praticar o que aprendemos, temos uma série de exercícios que envolvem o uso de funções básicas para realizar cálculos simples. Vocês deverão criar funções que resolvam os problemas propostos. Lembre-se de usar nomes significativos para suas funções e variáveis, para que o código seja claro e compreensível."
   ]
  },
  {
   "cell_type": "markdown",
   "id": "08f7146e",
   "metadata": {
    "id": "08f7146e"
   },
   "source": [
    "## Exercício 1: Calcular a área de um retângulo\n",
    "### Situação Problema: Você está construindo um jardim retangular em sua casa. A largura do jardim é 5 metros e o comprimento é 8 metros. Qual é a área total do jardim?"
   ]
  },
  {
   "cell_type": "code",
   "execution_count": null,
   "id": "ae5991fe",
   "metadata": {
    "id": "ae5991fe"
   },
   "outputs": [],
   "source": [
    "#seu codigo aqui!\n",
    "\n",
    "def calcular_area_retangulo(base, altura):\n",
    "    area = base * altura\n",
    "    return area\n",
    "\n",
    "base = float(input(\"Digite a base do retângulo: \"))\n",
    "altura = float(input(\"Digite a altura do retângulo: \"))\n",
    "print(\"A área do retângulo é:\", calcular_area_retangulo(base, altura))\n",
    "\n"
   ]
  },
  {
   "cell_type": "markdown",
   "id": "f17b8af5",
   "metadata": {
    "id": "f17b8af5"
   },
   "source": [
    "## Exercício 2: Calcular o quadrado de um número\n",
    "### Situação Problema: Você está medindo o lado de um quadrado. O lado mede 6 metros. Qual é a área desse quadrado?"
   ]
  },
  {
   "cell_type": "code",
   "execution_count": null,
   "id": "0d91385e",
   "metadata": {
    "id": "0d91385e"
   },
   "outputs": [],
   "source": [
    "#seu codigo aqui!\n",
    "\n",
    "def calcular_quadrado(numero):\n",
    "    return numero ** 2\n",
    "\n",
    "numero = float(input(\"Digite um número: \"))\n",
    "print(\"O quadrado do número é:\", calcular_quadrado(numero))\n"
   ]
  },
  {
   "cell_type": "markdown",
   "id": "97281d1e",
   "metadata": {
    "id": "97281d1e"
   },
   "source": [
    "## Exercício 3: Converter Celsius para Fahrenheit\n",
    "### Situação Problema: Você está em um país onde a temperatura é medida em Fahrenheit. A temperatura atual é 25 graus Celsius. Qual é a temperatura equivalente em Fahrenheit?"
   ]
  },
  {
   "cell_type": "code",
   "execution_count": null,
   "id": "542fb22f",
   "metadata": {
    "id": "542fb22f"
   },
   "outputs": [],
   "source": [
    "#seu codigo aqui!\n",
    "def celsius_para_fahrenheit(celsius):\n",
    "    fahrenheit = (celsius * 9/5) + 32\n",
    "    return fahrenheit\n",
    "\n",
    "celsius = float(input(\"Digite a temperatura em Celsius: \"))\n",
    "print(\"A temperatura em Fahrenheit é:\", celsius_para_fahrenheit(celsius))\n"
   ]
  },
  {
   "cell_type": "markdown",
   "id": "f93bf128",
   "metadata": {
    "id": "f93bf128"
   },
   "source": [
    "## Exercício 4: Calcular a média de três números\n",
    "### Situação Problema: Você fez três exames e obteve as seguintes notas: 7.5, 8.0 e 6.5. Qual é a sua média nessas três provas?"
   ]
  },
  {
   "cell_type": "code",
   "execution_count": null,
   "id": "a95b8709",
   "metadata": {
    "id": "a95b8709"
   },
   "outputs": [],
   "source": [
    "#seu codigo aqui!\n",
    "\n",
    "def calcular_media(a, b, c):\n",
    "    media = (a + b + c) / 3\n",
    "    return media\n",
    "\n",
    "num1 = float(input(\"Digite o primeiro número: \"))\n",
    "num2 = float(input(\"Digite o segundo número: \"))\n",
    "num3 = float(input(\"Digite o terceiro número: \"))\n",
    "print(\"A média dos números é:\", calcular_media(num1, num2, num3))\n"
   ]
  },
  {
   "cell_type": "markdown",
   "id": "7f97c8bc",
   "metadata": {
    "id": "7f97c8bc"
   },
   "source": [
    "## Exercício 5: Calcular a hipotenusa de um triângulo retângulo\n",
    "### Situação Problema: Você está construindo uma rampa para um skatepark. As duas partes da rampa formam um ângulo reto, e as medidas dos catetos são 4 metros e 5 metros. Qual é o comprimento da rampa (hipotenusa)?"
   ]
  },
  {
   "cell_type": "code",
   "execution_count": null,
   "id": "bf36ed91",
   "metadata": {
    "id": "bf36ed91"
   },
   "outputs": [],
   "source": [
    "#seu codigo aqui!\n",
    "\n",
    "import math\n",
    "\n",
    "def calcular_hipotenusa(cateto1, cateto2):\n",
    "    hipotenusa = math.sqrt(cateto1**2 + cateto2**2)\n",
    "    return hipotenusa\n",
    "\n",
    "cat1 = float(input(\"Digite o comprimento do primeiro cateto: \"))\n",
    "cat2 = float(input(\"Digite o comprimento do segundo cateto: \"))\n",
    "print(\"A hipotenusa do triângulo é:\", calcular_hipotenusa(cat1, cat2))\n"
   ]
  },
  {
   "cell_type": "markdown",
   "id": "2482556d",
   "metadata": {
    "id": "2482556d"
   },
   "source": [
    "## Exercício 6: Calcular o perímetro de um quadrado\n",
    "### Situação Problema: Você está construindo um tapete quadrado para a sala de estar. Cada lado do tapete mede 3 metros. Qual é o perímetro total do tapete?"
   ]
  },
  {
   "cell_type": "code",
   "execution_count": null,
   "id": "8663622b",
   "metadata": {
    "id": "8663622b"
   },
   "outputs": [],
   "source": [
    "#seu codigo aqui!\n",
    "\n",
    "def calcular_perimetro_quadrado(lado):\n",
    "    perimetro = 4 * lado\n",
    "    return perimetro\n",
    "\n",
    "lado = float(input(\"Digite o comprimento do lado do quadrado: \"))\n",
    "print(\"O perímetro do quadrado é:\", calcular_perimetro_quadrado(lado))\n"
   ]
  },
  {
   "cell_type": "markdown",
   "id": "6566c32d",
   "metadata": {
    "id": "6566c32d"
   },
   "source": [
    "## Exercício 7: Calcular a média ponderada de três notas\n",
    "### Situação Problema: Você está estudando para três disciplinas diferentes. Suas notas são: 7.0 em Matemática, 8.5 em Ciências e 9.5 em História. Se a Matemática tem peso 2, Ciências tem peso 3 e História tem peso 5, qual é a sua média ponderada?\n",
    "\n"
   ]
  },
  {
   "cell_type": "code",
   "execution_count": null,
   "id": "47ffec72",
   "metadata": {
    "id": "47ffec72"
   },
   "outputs": [],
   "source": [
    "#seu codigo aqui!\n",
    "\n",
    "def calcular_media_ponderada(nota1, nota2, nota3):\n",
    "    media_ponderada = (nota1 * 2 + nota2 * 3 + nota3 * 5) / 10\n",
    "    return media_ponderada\n",
    "\n",
    "nota1 = float(input(\"Digite a primeira nota: \"))\n",
    "nota2 = float(input(\"Digite a segunda nota: \"))\n",
    "nota3 = float(input(\"Digite a terceira nota: \"))\n",
    "print(\"A média ponderada das notas é:\", calcular_media_ponderada(nota1, nota2, nota3))\n"
   ]
  },
  {
   "cell_type": "markdown",
   "id": "8c9347e9",
   "metadata": {
    "id": "8c9347e9"
   },
   "source": [
    "## Exercício 8: Calcular a área de um círculo\n",
    "### Situação Problema: Você está pintando um alvo circular em uma parede. O raio do círculo é 2 metros. Qual é a área total que você precisa pintar?"
   ]
  },
  {
   "cell_type": "code",
   "execution_count": null,
   "id": "72e2407e",
   "metadata": {
    "id": "72e2407e"
   },
   "outputs": [],
   "source": [
    "#seu codigo aqui!\n",
    "\n",
    "import math\n",
    "\n",
    "def calcular_area_circulo(raio):\n",
    "    area = math.pi * raio**2\n",
    "    return area\n",
    "\n",
    "raio = float(input(\"Digite o raio do círculo: \"))\n",
    "print(\"A área do círculo é:\", calcular_area_circulo(raio))\n"
   ]
  },
  {
   "cell_type": "markdown",
   "id": "5cd84c49",
   "metadata": {
    "id": "5cd84c49"
   },
   "source": [
    "## Exercício 9: Converter quilômetros para milhas\n",
    "### Situação Problema: Você está planejando uma viagem de carro. O percurso tem 200 quilômetros de extensão. Qual é a distância equivalente em milhas?\n",
    "\n",
    "\n",
    "\n",
    "\n"
   ]
  },
  {
   "cell_type": "code",
   "execution_count": null,
   "id": "63d8b4bf",
   "metadata": {
    "id": "63d8b4bf"
   },
   "outputs": [],
   "source": [
    "#seu codigo aqui!\n",
    "\n",
    "def km_para_milhas(km):\n",
    "    milhas = km / 1.60934\n",
    "    return milhas\n",
    "\n",
    "quilometros = float(input(\"Digite a distância em quilômetros: \"))\n",
    "print(\"A distância em milhas é:\", km_para_milhas(quilometros))\n"
   ]
  },
  {
   "cell_type": "markdown",
   "id": "87429e58",
   "metadata": {
    "id": "87429e58"
   },
   "source": [
    "## Exercício 10: Calcular a média aritmética de quatro números\n",
    "### Situação Problema: Você está acompanhando as notas de um aluno em quatro provas: 6.5, 7.0, 8.5 e 9.0. Qual é a média aritmética dessas quatro notas?\n",
    "\n",
    "\n"
   ]
  },
  {
   "cell_type": "code",
   "execution_count": null,
   "id": "dd9a7683",
   "metadata": {
    "id": "dd9a7683"
   },
   "outputs": [],
   "source": [
    "#seu codigo aqui!\n",
    "\n",
    "def calcular_media_aritmetica(num1, num2, num3, num4):\n",
    "    media_aritmetica = (num1 + num2 + num3 + num4) / 4\n",
    "    return media_aritmetica\n",
    "\n",
    "num1 = float(input(\"Digite o primeiro número: \"))\n",
    "num2 = float(input(\"Digite o segundo número: \"))\n",
    "num3 = float(input(\"Digite o terceiro número: \"))\n",
    "num4 = float(input(\"Digite o quarto número: \"))\n",
    "print(\"A média aritmética dos números é:\", calcular_media_aritmetica(num1, num2, num3, num4))\n"
   ]
  }
 ],
 "metadata": {
  "colab": {
   "provenance": []
  },
  "kernelspec": {
   "display_name": "Python 3 (ipykernel)",
   "language": "python",
   "name": "python3"
  },
  "language_info": {
   "codemirror_mode": {
    "name": "ipython",
    "version": 3
   },
   "file_extension": ".py",
   "mimetype": "text/x-python",
   "name": "python",
   "nbconvert_exporter": "python",
   "pygments_lexer": "ipython3",
   "version": "3.11.3"
  }
 },
 "nbformat": 4,
 "nbformat_minor": 5
}
