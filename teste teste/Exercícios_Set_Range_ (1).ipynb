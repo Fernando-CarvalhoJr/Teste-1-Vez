{
 "cells": [
  {
   "cell_type": "markdown",
   "metadata": {
    "id": "rsCcO7j-xv-T"
   },
   "source": [
    "# Exercícios iterables - set - range"
   ]
  },
  {
   "cell_type": "markdown",
   "metadata": {
    "id": "p15zoqjcx_E0"
   },
   "source": [
    "\n",
    "\n",
    "\n",
    "\n",
    "\n",
    "\n",
    "\n",
    "\n",
    "\n",
    "."
   ]
  },
  {
   "cell_type": "markdown",
   "metadata": {
    "id": "KwqaC7qlxpsE"
   },
   "source": [
    "# Vamos mergulhar em uma jornada empolgante pelo mundo da programação em Python, explorando dois métodos poderosos: set() e range(). Vamos entender por que esses métodos são essenciais e como eles podem ser aplicados em várias situações para resolver problemas de maneira eficaz e elegante."
   ]
  },
  {
   "cell_type": "markdown",
   "metadata": {
    "id": "P9Aqv322t_p4"
   },
   "source": [
    "Um usuário deseja gerar um conjunto de números de 0 até o valor que ele fornece como entrada. Ele quer ver a sequência de números até esse ponto.\n",
    "\n",
    "Exercício 1:\n",
    "Peça ao usuário para digitar um número inteiro. Use o método range() para gerar os números de 0 até esse número e, em seguida, crie um conjunto (set()) a partir desses números. Finalmente, exiba o conjunto resultante."
   ]
  },
  {
   "cell_type": "code",
   "execution_count": null,
   "metadata": {
    "id": "zciq4waE_w95"
   },
   "outputs": [],
   "source": []
  },
  {
   "cell_type": "markdown",
   "metadata": {
    "id": "2u4CTx1xuNm4"
   },
   "source": [
    "Um professor quer criar um conjunto de notas dos alunos em uma faixa específica. Ele deseja saber as notas únicas nessa faixa.\n",
    "\n",
    "Exercício 2:\n",
    "Peça ao usuário para digitar um intervalo de notas, por exemplo, de 0 a 100. Utilize o método range() para gerar uma lista de notas nesse intervalo. Converta essa lista em um conjunto (set()) e exiba-o."
   ]
  },
  {
   "cell_type": "code",
   "execution_count": null,
   "metadata": {
    "id": "JKUTpK54_xh4"
   },
   "outputs": [],
   "source": []
  },
  {
   "cell_type": "markdown",
   "metadata": {
    "id": "DDIDT61luYpt"
   },
   "source": [
    "Você está organizando um evento onde precisa distribuir números de identificação únicos para os participantes. Cada número deve ser par e estar dentro de um certo intervalo.\n",
    "\n",
    "Exercício 3:\n",
    "Defina um intervalo de números, como de 10 a 50. Utilize o método range() para gerar uma lista de números pares dentro desse intervalo. Converta essa lista em um conjunto (set()) e exiba-o."
   ]
  },
  {
   "cell_type": "markdown",
   "metadata": {
    "id": "F_UWT9ID_zmZ"
   },
   "source": []
  },
  {
   "cell_type": "code",
   "execution_count": null,
   "metadata": {
    "id": "H9JGpLnU_y3x"
   },
   "outputs": [],
   "source": []
  },
  {
   "cell_type": "markdown",
   "metadata": {
    "id": "BMmP5QubujDM"
   },
   "source": [
    "Um usuário deseja saber todos os divisores de um número inteiro que ele fornece. Ele está interessado apenas nos divisores até a raiz quadrada desse número.\n",
    "\n",
    "Exercício 4:\n",
    "Peça ao usuário para digitar um número inteiro. Utilize o método range() para iterar sobre os números de 1 até a raiz quadrada desse número. Se o número for divisível por um valor no intervalo, adicione-o a um conjunto (set()) de divisores. Exiba o conjunto resultante."
   ]
  },
  {
   "cell_type": "markdown",
   "metadata": {
    "id": "J7c5jaSfvRLA"
   },
   "source": [
    "Exercício 5:  Desenvolva um programa que gere um conjunto de letras únicas em uma string dada, utilizando o método set() e um loop sobre a string utilizando o range()."
   ]
  },
  {
   "cell_type": "code",
   "execution_count": null,
   "metadata": {
    "id": "cq2F4fDj_1IA"
   },
   "outputs": [],
   "source": []
  },
  {
   "cell_type": "markdown",
   "metadata": {
    "id": "BaO0w4pevrjx"
   },
   "source": [
    "Exercício 6:\n",
    "Situação-Problema: Um professor deseja manter um registro dos livros lidos por seus alunos durante o ano. Ele quer um conjunto de títulos únicos dos livros."
   ]
  },
  {
   "cell_type": "code",
   "execution_count": null,
   "metadata": {
    "id": "gSt7kLbK_21A"
   },
   "outputs": [],
   "source": []
  },
  {
   "cell_type": "markdown",
   "metadata": {
    "id": "esuu-ylmwHkc"
   },
   "source": [
    "Exercício 7:\n",
    "Situação-Problema: Um programador está verificando erros de digitação em um trecho de código. Ela quer encontrar todas as teclas únicas pressionadas durante a digitação."
   ]
  },
  {
   "cell_type": "code",
   "execution_count": null,
   "metadata": {
    "id": "enrccPgP_53w"
   },
   "outputs": [],
   "source": []
  },
  {
   "cell_type": "markdown",
   "metadata": {
    "id": "3_XLTZG4wQXN"
   },
   "source": [
    "Exercício 8:\n",
    "Situação-Problema: Um jogador de palavras cruzadas deseja saber todas as letras únicas que ele já utilizou em suas palavras."
   ]
  },
  {
   "cell_type": "code",
   "execution_count": null,
   "metadata": {
    "id": "nndjeLXo_5YI"
   },
   "outputs": [],
   "source": []
  },
  {
   "cell_type": "markdown",
   "metadata": {
    "id": "7kzPhQEmwaUO"
   },
   "source": [
    "Exercício 9:\n",
    "Situação-Problema: Um gerente de loja deseja criar um programa de fidelidade. Ele quer manter um registro único dos números de telefone dos clientes que realizam compras."
   ]
  },
  {
   "cell_type": "code",
   "execution_count": null,
   "metadata": {
    "id": "4DmZP3dm_8aQ"
   },
   "outputs": [],
   "source": []
  },
  {
   "cell_type": "markdown",
   "metadata": {
    "id": "d_RYimcpweye"
   },
   "source": [
    "Exercício 10:\n",
    "Situação-Problema: Você está organizando um torneio esportivo e precisa criar um conjunto de equipes únicas que se inscreveram."
   ]
  },
  {
   "cell_type": "code",
   "execution_count": null,
   "metadata": {
    "id": "g5NIxrFw_83I"
   },
   "outputs": [],
   "source": []
  },
  {
   "cell_type": "markdown",
   "metadata": {
    "id": "9A3ObHIhuoJ4"
   },
   "source": []
  }
 ],
 "metadata": {
  "colab": {
   "provenance": []
  },
  "kernelspec": {
   "display_name": "Python 3 (ipykernel)",
   "language": "python",
   "name": "python3"
  },
  "language_info": {
   "codemirror_mode": {
    "name": "ipython",
    "version": 3
   },
   "file_extension": ".py",
   "mimetype": "text/x-python",
   "name": "python",
   "nbconvert_exporter": "python",
   "pygments_lexer": "ipython3",
   "version": "3.11.3"
  }
 },
 "nbformat": 4,
 "nbformat_minor": 1
}
