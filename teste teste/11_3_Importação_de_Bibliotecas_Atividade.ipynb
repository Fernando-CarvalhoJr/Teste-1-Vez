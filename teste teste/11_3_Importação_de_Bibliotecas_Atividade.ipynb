{
 "cells": [
  {
   "cell_type": "markdown",
   "metadata": {
    "id": "7cSjkBggT5jc"
   },
   "source": [
    "# **Exercício 1:**\n",
    "\n",
    "---\n",
    "\n",
    "Faça um programa que calcule a raiz quadrada de um número inteiro fornecido pelo usuário. Utilize a biblioteca math para realizar o cálculo."
   ]
  },
  {
   "cell_type": "code",
   "execution_count": 4,
   "metadata": {
    "id": "Z_bnJxYGT0_o"
   },
   "outputs": [
    {
     "name": "stdout",
     "output_type": "stream",
     "text": [
      "Digite um número inteiro: 64\n",
      "A raiz quadrada de 64 é 8.0\n"
     ]
    }
   ],
   "source": [
    "import math\n",
    "\n",
    "numero = int(input('Digite um número inteiro: '))\n",
    "\n",
    "raiz_quadrada = math.sqrt(numero) # math.SQRT() faz com q o número dentro dos parenteses seja calculado em raiz quadrada \n",
    "\n",
    "print(f\"A raiz quadrada de {numero} é {raiz_quadrada:.1f}\")"
   ]
  },
  {
   "cell_type": "markdown",
   "metadata": {
    "id": "Sa1-LWktUG_z"
   },
   "source": [
    "# **Exercício 2:**\n",
    "\n",
    "---\n",
    "\n",
    "Crie um programa que gere um número aleatório entre 1 e 100 e peça ao usuário para adivinhar qual é esse número. Utilize a biblioteca random para gerar o número aleatório."
   ]
  },
  {
   "cell_type": "code",
   "execution_count": null,
   "metadata": {
    "id": "9iOJpg0_ULDC"
   },
   "outputs": [],
   "source": [
    "import random\n",
    "\n",
    "numero_certo = random.randint(1 , 100) # random.RANDINT() gera um numero aleatorio tendo como número minimo ...\n",
    "# ... o primeiro e como máximo o segundo número dado dentro dos parêntese\n",
    "\n",
    "while tentativa != numero_certo:\n",
    "    \n",
    "    tentativa = int(input('Digite um número para tentar acertar: '))\n",
    "\n",
    "    if tentativa == numero_certo:\n",
    "        print(f'Você selecionou o numero \"{tentativa}\" e ele está CORRETA!!')\n",
    "    \n",
    "    if tentativa < numero_certo:\n",
    "        print(f'Você selecionou o numero \"{tentativa}\" e ele é inferior ao número correto')\n",
    "        \n",
    "\n",
    "    if tentativa > numero_certo:\n",
    "        print(f'Você selecionou o numero \"{tentativa}\" e ele é superior ao número correto')\n",
    "        \n"
   ]
  },
  {
   "cell_type": "markdown",
   "metadata": {
    "id": "vrAwGLX3UXLq"
   },
   "source": [
    "# **Exercício 3:**\n",
    "\n",
    "---\n",
    "Crie um programa que simule um lançamento de dados. O programa deve gerar um número aleatório entre 1 e 6, representando o valor do dado. Utilizar função randint da biblioteca random"
   ]
  },
  {
   "cell_type": "code",
   "execution_count": 41,
   "metadata": {
    "id": "BuMw8P8Ia6GR"
   },
   "outputs": [
    {
     "name": "stdout",
     "output_type": "stream",
     "text": [
      "Quantos dados você quer rodar? 0\n",
      "Você não rodou nenhum dado.\n"
     ]
    }
   ],
   "source": [
    "import random\n",
    "\n",
    "qnt_dados = int(input('Quantos dados você quer rodar? '))\n",
    "\n",
    "if qnt_dados != 0:\n",
    "    numero_dado = random.randint(1 * qnt_dados , 6 * qnt_dados) # Explicado no exercício anterior\n",
    "    print(f'O número fornecido pelo dado foi: {numero_dado}')\n",
    "else :\n",
    "    print (\"Você não rodou nenhum dado.\")"
   ]
  },
  {
   "cell_type": "markdown",
   "metadata": {
    "id": "RA7LpHIHUgcT"
   },
   "source": [
    "# **Exercício 4:**\n",
    "\n",
    "---\n",
    "Faça um programa que calcule a área de um círculo. O usuário deve fornecer o raio do círculo como entrada. Utilize a biblioteca math para obter o valor de π (pi)."
   ]
  },
  {
   "cell_type": "code",
   "execution_count": 55,
   "metadata": {
    "colab": {
     "base_uri": "https://localhost:8080/"
    },
    "id": "P5X-NK9gUmJT",
    "outputId": "f9a9a301-c690-444f-feb2-7aa5a3695429"
   },
   "outputs": [
    {
     "name": "stdout",
     "output_type": "stream",
     "text": [
      "Digite o valor do raio: 8\n",
      " π * r² = X\n",
      " π * 8² = X\n",
      " π * 8² = 201.06\n"
     ]
    }
   ],
   "source": [
    "import math\n",
    "\n",
    "raio = int(input('Digite o valor do raio: '))\n",
    "\n",
    "area = math.pi * (raio)**2\n",
    "\n",
    "print(f' π * r² = X\\n π * {raio}² = X\\n π * {raio}² = {area:.2f}')"
   ]
  },
  {
   "cell_type": "markdown",
   "metadata": {
    "id": "8hhvsHCOUn9T"
   },
   "source": [
    "# **Exercício 5:**\n",
    "\n",
    "---\n",
    "Crie um programa que solicite ao usuário um nome de arquivo e, em seguida, leia o conteúdo desse arquivo e conte quantas palavras diferentes existem no texto. Utilize Counter da biblioteca collections para ajudar na contagem.\n",
    "\n",
    "python\n",
    "C"
   ]
  },
  {
   "cell_type": "code",
   "execution_count": null,
   "metadata": {
    "id": "01QBl5HWU2xj"
   },
   "outputs": [],
   "source": [
    "import collections\n",
    "\n"
   ]
  },
  {
   "cell_type": "markdown",
   "metadata": {
    "id": "-xrV_RJ9U_g7"
   },
   "source": [
    "# **Exercício 6:**\n",
    "\n",
    "---\n",
    "Crie um programa que solicite ao usuário uma lista de números separados por vírgula e exiba a média desses números. Utilize a função mean da biblioteca statistics."
   ]
  },
  {
   "cell_type": "code",
   "execution_count": null,
   "metadata": {
    "id": "0gGOdi8mVFAL"
   },
   "outputs": [],
   "source": []
  },
  {
   "cell_type": "markdown",
   "metadata": {
    "id": "CO26JglHXDPs"
   },
   "source": [
    "# **Exercício 7:**\n",
    "\n",
    "---\n",
    "Crie um programa usando a biblioteca tkinter que exiba uma janela com um botão. Quando o botão for clicado, exiba uma mensagem de saudação usando a função messagebox.showinfo().\n"
   ]
  },
  {
   "cell_type": "code",
   "execution_count": null,
   "metadata": {
    "id": "UQTtWO8SVf7S"
   },
   "outputs": [],
   "source": [
    "import tkinter as tk\n",
    "from tkinter import messagebox\n",
    "\n",
    "# Função a ser chamada quando o botão for clicado\n",
    "def exibir_saudacao():\n",
    "    messagebox.showinfo(\"Saudação\", \"Olá, Mundo!\")\n",
    "\n",
    "# Cria uma janela principal\n",
    "janela = tk.Tk()\n",
    "janela.title(\"Exemplo de Mensagem de Saudação\")\n",
    "\n",
    "# Cria um botão na janela\n",
    "botao = tk.Button(janela, text=\"Clique para Saudação\", command=exibir_saudacao)\n",
    "botao.pack(padx=20, pady=20)  # Adiciona um espaço em volta do botão\n",
    "\n",
    "# Inicia o loop principal da GUI\n",
    "janela.mainloop()\n"
   ]
  },
  {
   "cell_type": "markdown",
   "metadata": {
    "id": "0raBCu6fXafW"
   },
   "source": [
    "# **Exercício 8:**\n",
    "\n",
    "---\n",
    "Crie um programa usando a biblioteca tkinter que exiba uma janela com um rótulo de texto e um campo de entrada. Quando o botão for clicado, obtenha o texto do campo de entrada usando a função .get() e exiba uma mensagem de boas-vindas personalizada usando a função messagebox.showinfo().\n"
   ]
  },
  {
   "cell_type": "code",
   "execution_count": null,
   "metadata": {
    "id": "UgiISJlkXexi"
   },
   "outputs": [],
   "source": []
  },
  {
   "cell_type": "markdown",
   "metadata": {
    "id": "0NytGTyOXjtD"
   },
   "source": [
    "# **Exercício 9:**\n",
    "\n",
    "---\n",
    "Crie um programa usando a biblioteca tkinter que exiba uma janela com uma caixa de seleção e um botão. Quando o botão for clicado, obtenha a opção selecionada da caixa de seleção usando a variável associada e exiba-a em uma caixa de diálogo usando a função messagebox.showinfo()."
   ]
  },
  {
   "cell_type": "code",
   "execution_count": null,
   "metadata": {
    "id": "n7LtC33EXpuy"
   },
   "outputs": [],
   "source": []
  },
  {
   "cell_type": "markdown",
   "metadata": {
    "id": "qoozLEBUZeDa"
   },
   "source": [
    "# **Exercício 10:**\n",
    "\n",
    "---\n",
    "Crie um programa que utilize a biblioteca pandas para ler um arquivo CSV chamado \"dados.csv\". O arquivo contém uma coluna chamada \"idade\". Calcule a média das idades utilizando o método .mean() e exiba o resultado.\n",
    "\n",
    "[Link para a Documentação do Pandas](https://pandas.pydata.org/docs/reference/api/pandas.read_csv.html)\n"
   ]
  },
  {
   "cell_type": "code",
   "execution_count": null,
   "metadata": {
    "id": "56Mo2YGCZjg5"
   },
   "outputs": [],
   "source": []
  },
  {
   "cell_type": "markdown",
   "metadata": {
    "id": "CrGJ4bNpZkl5"
   },
   "source": [
    "# **Exercício 11:**\n",
    "\n",
    "---\n",
    "Crie um programa que utilize as bibliotecas pandas e matplotlib para ler um arquivo CSV chamado \"dados.csv\". O arquivo contém duas colunas: \"nome\" e \"pontuacao\". Exiba um gráfico de barras utilizando o método .bar() do matplotlib.pyplot, passando os nomes como valores no eixo x e as pontuações como valores no eixo y.\n",
    "\n",
    "[Link para a Documentação do Pandas](https://pandas.pydata.org/docs/reference/api/pandas.read_csv.html)\n",
    "\n",
    "[Link para a documentação do matplotlib](https://matplotlib.org/stable/api/_as_gen/matplotlib.pyplot.bar.html)"
   ]
  },
  {
   "cell_type": "code",
   "execution_count": null,
   "metadata": {
    "id": "fX2Psu7AaNBT"
   },
   "outputs": [],
   "source": []
  }
 ],
 "metadata": {
  "colab": {
   "provenance": []
  },
  "kernelspec": {
   "display_name": "Python 3 (ipykernel)",
   "language": "python",
   "name": "python3"
  },
  "language_info": {
   "codemirror_mode": {
    "name": "ipython",
    "version": 3
   },
   "file_extension": ".py",
   "mimetype": "text/x-python",
   "name": "python",
   "nbconvert_exporter": "python",
   "pygments_lexer": "ipython3",
   "version": "3.11.3"
  }
 },
 "nbformat": 4,
 "nbformat_minor": 1
}
