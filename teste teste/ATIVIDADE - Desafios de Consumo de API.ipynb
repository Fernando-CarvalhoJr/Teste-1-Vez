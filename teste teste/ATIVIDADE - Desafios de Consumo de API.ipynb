{
 "cells": [
  {
   "cell_type": "markdown",
   "metadata": {
    "id": "fGuMPRsU_fC3"
   },
   "source": [
    "# **Desafios de API**\n",
    "\n",
    "###***Consulte as documentações, faça testes e capriche no seu código!***\n"
   ]
  },
  {
   "cell_type": "markdown",
   "metadata": {
    "id": "PGvFTd_lBZsY"
   },
   "source": [
    "### **Desafio 1**\n",
    "\n",
    "Você foi contratado para criar um programa em Python que permita o envio de mensagens SMS usando a API do Twilio. Seu programa deve solicitar ao usuário que insira o número de telefone de destino e a mensagem que deseja enviar. Em seguida, ele deve usar a API do Twilio para enviar a mensagem SMS para o número especificado. Certifique-se de configurar corretamente as credenciais da sua conta do Twilio no programa para que ele possa autenticar e enviar as mensagens com sucesso. Além disso, forneça feedback ao usuário sobre o status do envio da mensagem."
   ]
  },
  {
   "cell_type": "code",
   "execution_count": null,
   "metadata": {
    "id": "UbBriF6S_Xez"
   },
   "outputs": [],
   "source": [
    "from twilio.rest import Client\n",
    "\n",
    "destinatario = input('Digite o número em que você deseja enviar a mensagem (Com DDD)')\n",
    "num = '+55' + destinatario\n",
    "mensagem = input('Digite a mensagem desejada')\n",
    "\n",
    "account_sid = 'AC559d0cd24d90c3f132c25539639249c6'\n",
    "\n",
    "auth_token = 'ecd3c89be48267752b0a8e574a7f26cb'\n",
    "\n",
    "client = Client(account_sid, auth_token)\n",
    "\n",
    "message = client.messages.create(\n",
    "    to = num,\n",
    "    from_= '+19545269125',\n",
    "    body = mensagem\n",
    ")\n",
    "\n",
    "print(message.sid,'\\nmensagem enviada para o numero {}'.format(destinatario))\n",
    "\n"
   ]
  },
  {
   "cell_type": "markdown",
   "metadata": {
    "id": "O-pZLAln_UsX"
   },
   "source": [
    "### **Desafio 2**\n",
    "\n",
    "Você foi designado para criar um programa em Python que forneça informações de cotação atual e gráficos históricos para o dólar, euro e bitcoin. O programa deve apresentar um menu com duas opções: \"Cotação Atual\" e \"Gráfico Histórico\". Ao selecionar \"Cotação Atual\", o programa deverá exibir as cotações atualizadas do dólar, euro e bitcoin obtidas através da API CoinGecko, da API economia.awesomeapi.com.br (conforme exemplo no slide da aula) ou de outra fonte de dados de sua preferência.\n",
    "\n",
    "Ao escolher \"Gráfico Histórico\", o programa deve perguntar ao usuário qual moeda ele deseja visualizar (Dólar/Euro/Bitcoin) e, em seguida, obter e imprimir o gráfico de evolução histórica real dessa moeda desde janeiro de 2023 até outubro de 2023, utilizando a API escolhida.\n",
    "\n",
    "Embora o uso de uma interface gráfica não seja obrigatório, é altamente desejável como um desafio extra. Você pode optar por criar uma interface gráfica para tornar o programa mais amigável e interativo. Certifique-se de que o programa seja intuitivo e forneça informações claras e atualizadas ao usuário.\n",
    "\n",
    "Para a implementação do programa, serão necessárias as seguintes bibliotecas:\n",
    "\n",
    " - requests para fazer buscar os dados de cotação\n",
    " - matplotlib para fazer os gráficos\n",
    " - *tkinter (opcional)* para criar uma interface gráfica, tornando a interação com o programa mais amigável.\n"
   ]
  },
  {
   "cell_type": "code",
   "execution_count": 13,
   "metadata": {
    "id": "68vPsmfu_ZAT"
   },
   "outputs": [],
   "source": [
    "import requests\n",
    "import json\n",
    "import matplotlib.pyplot as plt\n",
    "import tkinter as tk\n",
    "from tkinter import ttk\n",
    "\n",
    "url = requests.get('https://economia.awesomeapi.com.br/json/all')\n",
    "\n",
    "url_dic = url.json()\n",
    "#-----DIA-----\n",
    "dolar = url_dic['USD']['bid']\n",
    "euro = url_dic['EUR']['bid']\n",
    "bt = url_dic['BTC']['bid']\n",
    "\n",
    "# -----SEMANA dolar-----\n",
    "USDcotacao_din7d = requests.get('https://economia.awesomeapi.com.br/daily/USD-BRL/7')\n",
    "USDcotacao_din7d_dic = USDcotacao_din7d.json()\n",
    "USDlista_cotacao_dolar7d = [float(item['bid']) for item in USDcotacao_din7d_dic]\n",
    "print(USDlista_cotacao_dolar)\n",
    "\n",
    "# -----MES dolar-----\n",
    "USDcotacao_din30d = requests.get('https://economia.awesomeapi.com.br/daily/USD-BRL/30')\n",
    "USDcotacao_din30d_dic = USDcotacao_din30d.json()\n",
    "USDlista_cotacao_dolar30d = [float(item['bid']) for item in USDcotacao_din30d_dic]\n",
    "print(USDlista_cotacao_dolar30d)\n",
    "\n",
    "\n",
    "# -----SEMANA euro-----\n",
    "EURcotacao_din7d = requests.get('https://economia.awesomeapi.com.br/daily/EUR-BRL/7')\n",
    "EURcotacao_din7d_dic = EURcotacao_din7d.json()\n",
    "EURlista_cotacao_dolar7d = [float(item['bid']) for item in EURcotacao_din7d_dic]\n",
    "print(EURlista_cotacao_dolar7d)\n",
    "\n",
    "# -----MES euro-----\n",
    "EURcotacao_din30d = requests.get('https://economia.awesomeapi.com.br/daily/EUR-BRL/30')\n",
    "EURcotacao_din30d_dic = EURcotacao_din30d.json()\n",
    "EURlista_cotacao_dolar30d = [float(item['bid']) for item in EURcotacao_din30d_dic]\n",
    "print(EURlista_cotacao_dolar30d)\n",
    "\n",
    "\n",
    "\n",
    "# -----SEMANA bitcoin-----\n",
    "\n",
    "BTCcotacao_din7d = requests.get('https://economia.awesomeapi.com.br/daily/BTC-BRL/7')\n",
    "BTCcotacao_din7d_dic = BTCcotacao_din7d.json()\n",
    "BTClista_cotacao_dolar7d = [float(item['bid']) for item in BTCcotacao_din7d_dic]\n",
    "print(BTClista_cotacao_dolar7d)\n",
    "\n",
    "# -----MES bitcoin-----\n",
    "BTCcotacao_din30d = requests.get('https://economia.awesomeapi.com.br/daily/BTC-BRL/30')\n",
    "BTCcotacao_din30d_dic = BTCcotacao_din30d.json()\n",
    "BTClista_cotacao_dolar30d = [float(item['bid']) for item in BTCcotacao_din30d_dic]\n",
    "print(BTClista_cotacao_dolar30d)\n",
    "\n",
    "\n",
    "\n",
    "\n",
    "\n",
    "#-----TK-----\n",
    "\n",
    "raiz = tk.Tk()\n",
    "raiz.title('Cotação Moedas')\n",
    "raiz.geometry('1080x600')\n",
    "\n",
    "def mostrar_grafico():\n",
    "\n",
    "    caixa = check_var.get()\n",
    "    caixa2 = check_var2.get()\n",
    "    caixa3 = check_var3.get()\n",
    "    caixa4 = check_var4.get()\n",
    "    caixa5 = check_var5.get()\n",
    "\n",
    "    plt.figure (figsize=(15, 5))\n",
    "plt.plot()\n",
    "plt.show()\n",
    "\n",
    "check_var = tk.IntVar()\n",
    "check_var2 = tk.IntVar()\n",
    "check_var3 = tk.IntVar()\n",
    "check_var4 = tk.IntVar()\n",
    "check_var5 = tk.IntVar()\n",
    "\n",
    "titulo = tk.Label(raiz, text='Selecione a moeda:')\n",
    "titulo.pack()\n",
    "\n",
    "caixa = tk.Checkbutton(raiz, text='Dólar: {}'.format(dolar), variable = check_var)\n",
    "caixa.pack()\n",
    "\n",
    "caixa = tk.Checkbutton(raiz, text='Euro: {}'.format(euro), variable = check_var2)\n",
    "caixa.pack()\n",
    "\n",
    "caixa = tk.Checkbutton(raiz, text='Bitcoin: {}'.format(bt), variable = check_var3)\n",
    "caixa.pack()\n",
    "\n",
    "titulo = tk.Label(raiz, text='Selecione o período: ')\n",
    "titulo.pack()\n",
    "\n",
    "caixa = tk.Checkbutton(raiz, text='7 Dias', variable = check_var4)\n",
    "caixa.pack()\n",
    "\n",
    "caixa = tk.Checkbutton(raiz, text='30 Dias', variable = check_var5)\n",
    "caixa.pack()\n",
    "\n",
    "botao = tk.Button(raiz, text = 'Ver gráfico', command = mostrar_grafico)\n",
    "botao.pack()\n",
    "\n",
    "\n",
    "raiz.mainloop()"
   ]
  },
  {
   "cell_type": "markdown",
   "metadata": {
    "id": "HqBo2HJM_UnN"
   },
   "source": [
    "### **Desafio 3**\n",
    "\n",
    "Você foi designado para criar um programa em Python que permita o cadastro de clientes de forma eficiente e precisa. Para agilizar o processo de preenchimento do endereço dos clientes, você decidiu implementar uma funcionalidade que utiliza a API ViaCEP dos Correios para buscar automaticamente os dados do endereço (rua, bairro, cidade, estado, etc.) com base no CEP fornecido pelo usuário.\n",
    "\n",
    "Sua tarefa é criar um programa que ofereça a funcionalidade de busca de endereço por CEP, onde o usuário possa inserir o CEP e obter automaticamente os dados do endereço. Em seguida, o usuário preenche os demais dados e grava o resgitro.\n",
    "\n",
    "O programa tambem deve ter uma funcionalidade de listar os cadastros.\n",
    "\n",
    "Embora o uso de uma interface gráfica não seja obrigatório, é altamente desejável como um desafio extra. Você pode optar por criar uma interface gráfica para tornar o programa mais amigável e interativo. Certifique-se de que o programa seja intuitivo e forneça informações claras e atualizadas ao usuário.\n",
    "\n",
    "Para a implementação do programa, serão necessárias as seguintes bibliotecas:\n",
    "\n",
    " - requests para fazer solicitações à API ViaCEP.\n",
    " - *tkinter (opcional)* para criar uma interface gráfica, tornando a interação com o programa mais amigável.\n"
   ]
  },
  {
   "cell_type": "code",
   "execution_count": null,
   "metadata": {
    "id": "5MTAiMnG_VND"
   },
   "outputs": [],
   "source": [
    "\n",
    "\n",
    "\n",
    "\n",
    "\n",
    "\n",
    "\n"
   ]
  }
 ],
 "metadata": {
  "colab": {
   "provenance": []
  },
  "kernelspec": {
   "display_name": "Python 3 (ipykernel)",
   "language": "python",
   "name": "python3"
  },
  "language_info": {
   "codemirror_mode": {
    "name": "ipython",
    "version": 3
   },
   "file_extension": ".py",
   "mimetype": "text/x-python",
   "name": "python",
   "nbconvert_exporter": "python",
   "pygments_lexer": "ipython3",
   "version": "3.11.3"
  }
 },
 "nbformat": 4,
 "nbformat_minor": 1
}
