{
 "cells": [
  {
   "cell_type": "markdown",
   "id": "3ca3903d",
   "metadata": {},
   "source": [
    "# Desafio de Aprendizagem - Biblioteca SENAI \"Morvan Figueiredo\""
   ]
  },
  {
   "cell_type": "markdown",
   "id": "240591c0",
   "metadata": {},
   "source": [
    "## Você está encarregado de criar um sistema de gerenciamento de empréstimos de livros, coleta de avaliações de livros pelos alunos e registro de avaliações do atendimento da biblioteca para a Escola SENAI \"Morvan Figueiredo\". \n",
    "## Utilize o programa fornecido abaixo e siga as instruções para realizar as tarefas."
   ]
  },
  {
   "cell_type": "markdown",
   "id": "bdf3496d",
   "metadata": {},
   "source": [
    "### Ao finalizar as tarefas, reflita sobre o processo e explique como o programa demonstra o uso de estruturas de dados, iterações e interações com o usuário para gerenciar empréstimos, avaliações e atendimento da biblioteca."
   ]
  },
  {
   "cell_type": "markdown",
   "id": "7b451d37",
   "metadata": {},
   "source": [
    "### Esse desafio de aprendizagem combina os conceitos que vimos até o momento, como estruturas de controle, manipulação de dicionários, listas e iterações. Ao concluir as tarefas e a reflexão, você estará aplicando diversos aspectos da programação em um cenário realista."
   ]
  },
  {
   "cell_type": "markdown",
   "id": "bd33428b",
   "metadata": {},
   "source": [
    "## Tarefas:"
   ]
  },
  {
   "cell_type": "markdown",
   "id": "8ea15f61",
   "metadata": {},
   "source": [
    "## 1 - Registro de Empréstimos:\n",
    "\n",
    "### Registre os empréstimos de livros para os  alunos fictícios da escola.\n",
    "## 2 -  Avaliação de Livros:\n",
    "\n",
    "### Após os empréstimos, simule que os alunos leram os livros e atribua notas de avaliação aos livros emprestados.\n",
    "\n",
    "## 3 - Avaliação do Atendimento da Biblioteca:\n",
    "\n",
    "###  Registre avaliações do atendimento da biblioteca por parte dos alunos.\n",
    "\n",
    "## 4 - Imprimir Relatório:\n",
    "\n",
    "### Após realizar as ações anteriores, imprima um relatório que apresente as informações sobre os empréstimos, avaliações dos livros e a média das avaliações do atendimento da biblioteca.\n"
   ]
  },
  {
   "cell_type": "code",
   "execution_count": 1,
   "id": "7396d8db",
   "metadata": {},
   "outputs": [
    {
     "ename": "SyntaxError",
     "evalue": "unterminated string literal (detected at line 43) (1774407731.py, line 43)",
     "output_type": "error",
     "traceback": [
      "\u001b[1;36m  Cell \u001b[1;32mIn[1], line 43\u001b[1;36m\u001b[0m\n\u001b[1;33m    print(\"R4\u001b[0m\n\u001b[1;37m          ^\u001b[0m\n\u001b[1;31mSyntaxError\u001b[0m\u001b[1;31m:\u001b[0m unterminated string literal (detected at line 43)\n"
     ]
    }
   ],
   "source": [
    "# Inicialização das estruturas de dados\n",
    "alunos = {}\n",
    "livros = {}\n",
    "atendimento_avaliacoes = []\n",
    "\n",
    "# Loop principal do programa\n",
    "while True:\n",
    "    print(\"1. Registrar Empréstimo\")\n",
    "    print(\"2. Avaliar Livro (Após Leitura)\")\n",
    "    print(\"3. Avaliar Atendimento da Biblioteca\")\n",
    "    print(\"4. Imprimir Relatório\")\n",
    "    print(\"5. Sair\")\n",
    "\n",
    "    escolha = input(\"Escolha uma opção: \")\n",
    "\n",
    "    if escolha == \"1\":\n",
    "        aluno = input(\"Digite o nome do aluno: \")\n",
    "        livro = input(\"Digite o título do livro: \")\n",
    "        prazo = int(input(\"Digite o prazo de entrega (em dias): \"))\n",
    "        alunos[aluno] = (livro, prazo)\n",
    "        print(\"Empréstimo registrado para {}.\\n\".format(aluno))\n",
    "\n",
    "    elif escolha == \"2\":\n",
    "        aluno = input(\"Digite o nome do aluno: \")\n",
    "        if aluno in alunos:\n",
    "            livro = alunos[aluno][0]\n",
    "            nota_livro = int(input(\"Digite a nota (de 0 a 10) para o livro '{}': \".format(livro)))\n",
    "            if livro in livros:\n",
    "                livros[livro][0].append(nota_livro)\n",
    "            else:\n",
    "                livros[livro] = [[nota_livro], {'bom': 0, 'regular': 0, 'ruim': 0, 'ótimo': 0}]\n",
    "            print(\"Avaliação registrada para o livro '{}'.\\n\".format(livro))\n",
    "            del alunos[aluno]\n",
    "        else:\n",
    "            print(\"Aluno não encontrado ou livro não foi emprestado a este aluno.\\n\")\n",
    "\n",
    "    elif escolha == \"3\":\n",
    "        avaliacao_atendimento = int(input(\"Avaliação do atendimento da biblioteca (de 0 a 10): \"))\n",
    "        atendimento_avaliacoes.append(avaliacao_atendimento)\n",
    "        print(\"Avaliação do atendimento registrada.\\n\")\n",
    "\n",
    "    elif escolha == \"4\":\n",
    "        print(\"R4\n",
    "\n",
    "        for aluno, (livro, prazo) in alunos.items():\n",
    "            print(\"Aluno: {} | Livro: {} | Prazo de Entrega: {} dias\".format(aluno, livro, prazo))\n",
    "        print(\"\\nAvaliações dos Livros:\")\n",
    "        for livro, (notas, avaliacoes) in livros.items():\n",
    "            media_livro = sum(notas) / len(notas)\n",
    "            print(\"Livro: {} | Avaliação Média: {:.2f}\".format(livro, media_livro))\n",
    "            print(\"Avaliações do Livro:\")\n",
    "            for avaliacao, quantidade in avaliacoes.items():\n",
    "                print(\"{}: {}\".format(avaliacao, quantidade))\n",
    "        if atendimento_avaliacoes:\n",
    "            media_atendimento = sum(atendimento_avaliacoes) / len(atendimento_avaliacoes)\n",
    "            print(\"\\nAvaliação do Atendimento da Biblioteca:\")\n",
    "            print(\"Média: {:.2f}\".format(media_atendimento))\n",
    "        print()\n",
    "\n",
    "    elif escolha == \"5\":\n",
    "        print(\"Saindo do programa.\")\n",
    "        break\n",
    "\n",
    "    else:\n",
    "        print(\"Opção inválida.\\n\")\n"
   ]
  },
  {
   "cell_type": "code",
   "execution_count": 2,
   "id": "e2b41de2",
   "metadata": {},
   "outputs": [],
   "source": [
    "# codigo aqui"
   ]
  },
  {
   "cell_type": "code",
   "execution_count": 3,
   "id": "2b21aa21",
   "metadata": {},
   "outputs": [
    {
     "name": "stdout",
     "output_type": "stream",
     "text": [
      "\n",
      "Menu:\n",
      "1. Adicione o nome do livro emprestado\n",
      "2. Adicione a nota do livro lido\n",
      "3. Nota de atendimento\n",
      "4. Mostrar relatorio final\n",
      "Escolha uma opção: 1\n",
      "Digite o nome do livro: 123\n",
      "\n",
      "O livro \"123\" emprestado.\n",
      "\n",
      "Menu:\n",
      "1. Adicione o nome do livro emprestado\n",
      "2. Adicione a nota do livro lido\n",
      "3. Nota de atendimento\n",
      "4. Mostrar relatorio final\n",
      "Escolha uma opção: 4\n"
     ]
    },
    {
     "ename": "NameError",
     "evalue": "name 'nome_produto' is not defined",
     "output_type": "error",
     "traceback": [
      "\u001b[1;31m---------------------------------------------------------------------------\u001b[0m",
      "\u001b[1;31mNameError\u001b[0m                                 Traceback (most recent call last)",
      "Cell \u001b[1;32mIn[3], line 18\u001b[0m\n\u001b[0;32m     16\u001b[0m     nota_atendimento \u001b[38;5;241m=\u001b[39m \u001b[38;5;28mfloat\u001b[39m(\u001b[38;5;28minput\u001b[39m(\u001b[38;5;124m'\u001b[39m\u001b[38;5;124mNota para o atendimento: \u001b[39m\u001b[38;5;124m'\u001b[39m))\n\u001b[0;32m     17\u001b[0m \u001b[38;5;28;01melif\u001b[39;00m escolha \u001b[38;5;241m==\u001b[39m \u001b[38;5;124m'\u001b[39m\u001b[38;5;124m4\u001b[39m\u001b[38;5;124m'\u001b[39m:\n\u001b[1;32m---> 18\u001b[0m     \u001b[38;5;28mprint\u001b[39m(\u001b[38;5;124mf\u001b[39m\u001b[38;5;124m'\u001b[39m\u001b[38;5;124mLivro: \u001b[39m\u001b[38;5;132;01m{\u001b[39;00mnome_produto\u001b[38;5;132;01m}\u001b[39;00m\u001b[38;5;124m | Nota do livro: \u001b[39m\u001b[38;5;132;01m{\u001b[39;00mnota_livro\u001b[38;5;132;01m}\u001b[39;00m\u001b[38;5;124m | Nota do atendimento: \u001b[39m\u001b[38;5;132;01m{\u001b[39;00mnota_atendimento\u001b[38;5;132;01m}\u001b[39;00m\u001b[38;5;124m'\u001b[39m)\n\u001b[0;32m     19\u001b[0m \u001b[38;5;28;01melif\u001b[39;00m escolha \u001b[38;5;241m==\u001b[39m \u001b[38;5;124m'\u001b[39m\u001b[38;5;124m'\u001b[39m:\n\u001b[0;32m     20\u001b[0m     \u001b[38;5;28mprint\u001b[39m(\u001b[38;5;124m'\u001b[39m\u001b[38;5;124mEncerrando o programa...\u001b[39m\u001b[38;5;124m'\u001b[39m)\n",
      "\u001b[1;31mNameError\u001b[0m: name 'nome_produto' is not defined"
     ]
    }
   ],
   "source": [
    "# Inicialização das estruturas de dados\n",
    "alunos = {}\n",
    "livros = {}\n",
    "atendimento_avaliacoes = []\n",
    "\n",
    "# Loop principal do programa\n",
    "while True:\n",
    "    print(\"1. Registrar Empréstimo\")\n",
    "    print(\"2. Avaliar Livro (Após Leitura)\")\n",
    "    print(\"3. Avaliar Atendimento da Biblioteca\")\n",
    "    print(\"4. Imprimir Relatório\")\n",
    "    print(\"5. Sair\")\n",
    "\n",
    "    escolha = input(\"Escolha uma opção: \")\n",
    "\n",
    "    if escolha == \"1\":\n",
    "        aluno = input(\"Digite o nome do aluno: \")\n",
    "        livro = input(\"Digite o título do livro: \")\n",
    "        prazo = int(input(\"Digite o prazo de entrega (em dias): \"))\n",
    "        alunos[aluno] = (livro, prazo)\n",
    "        print(\"Empréstimo registrado para {}.\\n\".format(aluno))\n",
    "\n",
    "    elif escolha == \"2\":\n",
    "        aluno = input(\"Digite o nome do aluno: \")\n",
    "        if aluno in alunos:\n",
    "            livro = alunos[aluno][0]\n",
    "            nota_livro = int(input(\"Digite a nota (de 0 a 10) para o livro '{}': \".format(livro)))\n",
    "            if livro in livros:\n",
    "                livros[livro][0].append(nota_livro)\n",
    "            else:\n",
    "                livros[livro] = [[nota_livro], {'bom': 0, 'regular': 0, 'ruim': 0, 'ótimo': 0}]\n",
    "            print(\"Avaliação registrada para o livro '{}'.\\n\".format(livro))\n",
    "            del alunos[aluno]\n",
    "        else:\n",
    "            print(\"Aluno não encontrado ou livro não foi emprestado a este aluno.\\n\")\n",
    "\n",
    "    elif escolha == \"3\":\n",
    "        avaliacao_atendimento = int(input(\"Avaliação do atendimento da biblioteca (de 0 a 10): \"))\n",
    "        atendimento_avaliacoes.append(avaliacao_atendimento)\n",
    "        print(\"Avaliação do atendimento registrada.\\n\")\n",
    "\n",
    "    elif escolha == \"4\":\n",
    "        print(\"Relatório:\")\n",
    "        for aluno, (livro, prazo) in alunos.items():\n",
    "            print(\"Aluno: {} | Livro: {} | Prazo de Entrega: {} dias\".format(aluno, livro, prazo))\n",
    "        print(\"\\nAvaliações dos Livros:\")\n",
    "        for livro, (notas, avaliacoes) in livros.items():\n",
    "            media_livro = round(sum(notas) / len(notas), 2)\n",
    "            print(\"Livro: {} | Avaliação Média: {:.2f}\".format(livro, media_livro))\n",
    "            print(\"Avaliações do Livro:\")\n",
    "            for avaliacao, quantidade in avaliacoes.items():\n",
    "                print(\"{}: {}\".format(avaliacao, quantidade))\n",
    "        if atendimento_avaliacoes:\n",
    "            media_atendimento = round(sum(atendimento_avaliacoes) / len(atendimento_avaliacoes), 2)\n",
    "            print(\"\\nAvaliação do Atendimento da Biblioteca:\")\n",
    "            print(\"Média: {:.2f}\".format(media_atendimento))\n",
    "        print()\n",
    "\n",
    "    elif escolha == \"5\":\n",
    "        print(\"Saindo do programa.\")\n",
    "        break\n",
    "\n",
    "    else:\n",
    "        print(\"Opção inválida.\\n\")\n"
   ]
  },
  {
   "cell_type": "code",
   "execution_count": null,
   "id": "66a7987e",
   "metadata": {},
   "outputs": [],
   "source": []
  },
  {
   "cell_type": "code",
   "execution_count": null,
   "id": "b4e5ef4b",
   "metadata": {},
   "outputs": [],
   "source": [
    "alunos\n",
    ",\n"
   ]
  }
 ],
 "metadata": {
  "kernelspec": {
   "display_name": "Python 3 (ipykernel)",
   "language": "python",
   "name": "python3"
  },
  "language_info": {
   "codemirror_mode": {
    "name": "ipython",
    "version": 3
   },
   "file_extension": ".py",
   "mimetype": "text/x-python",
   "name": "python",
   "nbconvert_exporter": "python",
   "pygments_lexer": "ipython3",
   "version": "3.11.3"
  }
 },
 "nbformat": 4,
 "nbformat_minor": 5
}
