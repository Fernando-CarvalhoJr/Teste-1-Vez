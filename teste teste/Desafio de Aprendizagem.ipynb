{
 "cells": [
  {
   "cell_type": "markdown",
   "id": "3ca3903d",
   "metadata": {},
   "source": [
    "# Desafio de Aprendizagem - Biblioteca SENAI \"Morvan Figueiredo\""
   ]
  },
  {
   "cell_type": "markdown",
   "id": "240591c0",
   "metadata": {},
   "source": [
    "## Você está encarregado de criar um sistema de gerenciamento de empréstimos de livros, coleta de avaliações de livros pelos alunos e registro de avaliações do atendimento da biblioteca para a Escola SENAI \"Morvan Figueiredo\". \n",
    "## Utilize o programa fornecido abaixo e siga as instruções para realizar as tarefas."
   ]
  },
  {
   "cell_type": "markdown",
   "id": "bdf3496d",
   "metadata": {},
   "source": [
    "### Ao finalizar as tarefas, reflita sobre o processo e explique como o programa demonstra o uso de estruturas de dados, iterações e interações com o usuário para gerenciar empréstimos, avaliações e atendimento da biblioteca."
   ]
  },
  {
   "cell_type": "markdown",
   "id": "7b451d37",
   "metadata": {},
   "source": [
    "### Esse desafio de aprendizagem combina os conceitos que vimos até o momento, como estruturas de controle, manipulação de dicionários, listas e iterações. Ao concluir as tarefas e a reflexão, você estará aplicando diversos aspectos da programação em um cenário realista."
   ]
  },
  {
   "cell_type": "markdown",
   "id": "bd33428b",
   "metadata": {},
   "source": [
    "## Tarefas:"
   ]
  },
  {
   "cell_type": "markdown",
   "id": "8ea15f61",
   "metadata": {},
   "source": [
    "## 1 - Registro de Empréstimos:\n",
    "\n",
    "### Registre os empréstimos de livros para os  alunos fictícios da escola.\n",
    "## 2 -  Avaliação de Livros:\n",
    "\n",
    "### Após os empréstimos, simule que os alunos leram os livros e atribua notas de avaliação aos livros emprestados.\n",
    "\n",
    "## 3 - Avaliação do Atendimento da Biblioteca:\n",
    "\n",
    "###  Registre avaliações do atendimento da biblioteca por parte dos alunos.\n",
    "\n",
    "## 4 - Imprimir Relatório:\n",
    "\n",
    "### Após realizar as ações anteriores, imprima um relatório que apresente as informações sobre os empréstimos, avaliações dos livros e a média das avaliações do atendimento da biblioteca.\n"
   ]
  },
  {
   "cell_type": "code",
   "execution_count": 1,
   "id": "7396d8db",
   "metadata": {},
   "outputs": [],
   "source": [
    "estoque_livro = []\n",
    "\n",
    "def adicionar_livro(nome_livro):\n",
    "    livro = (nome_livro)\n",
    "    estoque_livro.append(livro)\n",
    "    print(f'\\nO livro \"{nome_livro}\" emprestado.')\n",
    "        "
   ]
  },
  {
   "cell_type": "code",
   "execution_count": 2,
   "id": "e2b41de2",
   "metadata": {},
   "outputs": [],
   "source": [
    "# codigo aqui"
   ]
  },
  {
   "cell_type": "code",
   "execution_count": 3,
   "id": "2b21aa21",
   "metadata": {},
   "outputs": [
    {
     "name": "stdout",
     "output_type": "stream",
     "text": [
      "\n",
      "Menu:\n",
      "1. Adicione o nome do livro emprestado\n",
      "2. Adicione a nota do livro lido\n",
      "3. Nota de atendimento\n",
      "4. Mostrar relatorio final\n",
      "Escolha uma opção: 1\n",
      "Digite o nome do livro: 123\n",
      "\n",
      "O livro \"123\" emprestado.\n",
      "\n",
      "Menu:\n",
      "1. Adicione o nome do livro emprestado\n",
      "2. Adicione a nota do livro lido\n",
      "3. Nota de atendimento\n",
      "4. Mostrar relatorio final\n",
      "Escolha uma opção: 4\n"
     ]
    },
    {
     "ename": "NameError",
     "evalue": "name 'nome_produto' is not defined",
     "output_type": "error",
     "traceback": [
      "\u001b[1;31m---------------------------------------------------------------------------\u001b[0m",
      "\u001b[1;31mNameError\u001b[0m                                 Traceback (most recent call last)",
      "Cell \u001b[1;32mIn[3], line 18\u001b[0m\n\u001b[0;32m     16\u001b[0m     nota_atendimento \u001b[38;5;241m=\u001b[39m \u001b[38;5;28mfloat\u001b[39m(\u001b[38;5;28minput\u001b[39m(\u001b[38;5;124m'\u001b[39m\u001b[38;5;124mNota para o atendimento: \u001b[39m\u001b[38;5;124m'\u001b[39m))\n\u001b[0;32m     17\u001b[0m \u001b[38;5;28;01melif\u001b[39;00m escolha \u001b[38;5;241m==\u001b[39m \u001b[38;5;124m'\u001b[39m\u001b[38;5;124m4\u001b[39m\u001b[38;5;124m'\u001b[39m:\n\u001b[1;32m---> 18\u001b[0m     \u001b[38;5;28mprint\u001b[39m(\u001b[38;5;124mf\u001b[39m\u001b[38;5;124m'\u001b[39m\u001b[38;5;124mLivro: \u001b[39m\u001b[38;5;132;01m{\u001b[39;00mnome_produto\u001b[38;5;132;01m}\u001b[39;00m\u001b[38;5;124m | Nota do livro: \u001b[39m\u001b[38;5;132;01m{\u001b[39;00mnota_livro\u001b[38;5;132;01m}\u001b[39;00m\u001b[38;5;124m | Nota do atendimento: \u001b[39m\u001b[38;5;132;01m{\u001b[39;00mnota_atendimento\u001b[38;5;132;01m}\u001b[39;00m\u001b[38;5;124m'\u001b[39m)\n\u001b[0;32m     19\u001b[0m \u001b[38;5;28;01melif\u001b[39;00m escolha \u001b[38;5;241m==\u001b[39m \u001b[38;5;124m'\u001b[39m\u001b[38;5;124m'\u001b[39m:\n\u001b[0;32m     20\u001b[0m     \u001b[38;5;28mprint\u001b[39m(\u001b[38;5;124m'\u001b[39m\u001b[38;5;124mEncerrando o programa...\u001b[39m\u001b[38;5;124m'\u001b[39m)\n",
      "\u001b[1;31mNameError\u001b[0m: name 'nome_produto' is not defined"
     ]
    }
   ],
   "source": [
    "while True:\n",
    "    print('\\nMenu:')\n",
    "    print('1. Adicione o nome do livro emprestado')\n",
    "    print('2. Adicione a nota do livro lido')\n",
    "    print('3. Nota de atendimento')\n",
    "    print('4. Mostrar relatorio final')\n",
    "    \n",
    "    escolha = input('Escolha uma opção: ')\n",
    "\n",
    "    if escolha == '1':\n",
    "        nome_livr = input('Digite o nome do livro: ')\n",
    "        adicionar_livro(nome_livr)\n",
    "    elif escolha == '2':\n",
    "        nota_livro = float(input('Nota para o livro: '))\n",
    "    elif escolha == '3':\n",
    "        nota_atendimento = float(input('Nota para o atendimento: '))\n",
    "    elif escolha == '4':\n",
    "        print(f'Livro: {nome_produto} | Nota do livro: {nota_livro} | Nota do atendimento: {nota_atendimento}')\n",
    "    elif escolha == '':\n",
    "        print('Encerrando o programa...')\n",
    "        break\n",
    "    else:\n",
    "        print(\"Opção inválida. Escolha novamente.\")"
   ]
  },
  {
   "cell_type": "code",
   "execution_count": null,
   "id": "66a7987e",
   "metadata": {},
   "outputs": [],
   "source": []
  },
  {
   "cell_type": "code",
   "execution_count": null,
   "id": "b4e5ef4b",
   "metadata": {},
   "outputs": [],
   "source": [
    "alunos\n",
    ",\n"
   ]
  }
 ],
 "metadata": {
  "kernelspec": {
   "display_name": "Python 3 (ipykernel)",
   "language": "python",
   "name": "python3"
  },
  "language_info": {
   "codemirror_mode": {
    "name": "ipython",
    "version": 3
   },
   "file_extension": ".py",
   "mimetype": "text/x-python",
   "name": "python",
   "nbconvert_exporter": "python",
   "pygments_lexer": "ipython3",
   "version": "3.11.3"
  }
 },
 "nbformat": 4,
 "nbformat_minor": 5
}
