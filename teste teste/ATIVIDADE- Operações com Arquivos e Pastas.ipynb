{
 "cells": [
  {
   "cell_type": "markdown",
   "id": "a89c014e",
   "metadata": {
    "id": "a89c014e"
   },
   "source": [
    "### Operações com arquivos e pastas\n",
    "####   ***** Tente fazer sozinho - consulte a documentação *****"
   ]
  },
  {
   "cell_type": "markdown",
   "id": "8061fbc9",
   "metadata": {
    "id": "8061fbc9"
   },
   "source": [
    "#### Exercício 1:\n",
    "Crie um programa que liste todos os arquivos em um diretório específico usando os.listdir()"
   ]
  },
  {
   "cell_type": "code",
   "execution_count": 21,
   "id": "395f7952",
   "metadata": {
    "id": "395f7952"
   },
   "outputs": [
    {
     "name": "stdout",
     "output_type": "stream",
     "text": [
      "C:\\Users\\Aluno 8\\Desktop\\Teste-1-Vez-main\\teste teste\n"
     ]
    },
    {
     "ename": "FileNotFoundError",
     "evalue": "[WinError 3] O sistema não pode encontrar o caminho especificado: 'C:\\\\Users\\\\Aluno 8\\\\Desktop\\\\Teste-1-Vez-main\\\\teste teste\\\\Teste'",
     "output_type": "error",
     "traceback": [
      "\u001b[1;31m---------------------------------------------------------------------------\u001b[0m",
      "\u001b[1;31mFileNotFoundError\u001b[0m                         Traceback (most recent call last)",
      "Cell \u001b[1;32mIn[21], line 8\u001b[0m\n\u001b[0;32m      5\u001b[0m caminho \u001b[38;5;241m=\u001b[39m Path(\u001b[38;5;124m'\u001b[39m\u001b[38;5;124mC:/Users/Aluno 8/Desktop/Teste-1-Vez-main/teste teste/Teste\u001b[39m\u001b[38;5;124m'\u001b[39m)\n\u001b[0;32m      7\u001b[0m arquivos \u001b[38;5;241m=\u001b[39m caminho\u001b[38;5;241m.\u001b[39miterdir()\n\u001b[1;32m----> 8\u001b[0m \u001b[38;5;28;01mfor\u001b[39;00m arquivo \u001b[38;5;129;01min\u001b[39;00m arquivos:\n\u001b[0;32m      9\u001b[0m     \u001b[38;5;28mprint\u001b[39m(arquivo)\n",
      "File \u001b[1;32m~\\anaconda3\\Lib\\pathlib.py:931\u001b[0m, in \u001b[0;36mPath.iterdir\u001b[1;34m(self)\u001b[0m\n\u001b[0;32m    927\u001b[0m \u001b[38;5;28;01mdef\u001b[39;00m \u001b[38;5;21miterdir\u001b[39m(\u001b[38;5;28mself\u001b[39m):\n\u001b[0;32m    928\u001b[0m \u001b[38;5;250m    \u001b[39m\u001b[38;5;124;03m\"\"\"Iterate over the files in this directory.  Does not yield any\u001b[39;00m\n\u001b[0;32m    929\u001b[0m \u001b[38;5;124;03m    result for the special paths '.' and '..'.\u001b[39;00m\n\u001b[0;32m    930\u001b[0m \u001b[38;5;124;03m    \"\"\"\u001b[39;00m\n\u001b[1;32m--> 931\u001b[0m     \u001b[38;5;28;01mfor\u001b[39;00m name \u001b[38;5;129;01min\u001b[39;00m os\u001b[38;5;241m.\u001b[39mlistdir(\u001b[38;5;28mself\u001b[39m):\n\u001b[0;32m    932\u001b[0m         \u001b[38;5;28;01myield\u001b[39;00m \u001b[38;5;28mself\u001b[39m\u001b[38;5;241m.\u001b[39m_make_child_relpath(name)\n",
      "\u001b[1;31mFileNotFoundError\u001b[0m: [WinError 3] O sistema não pode encontrar o caminho especificado: 'C:\\\\Users\\\\Aluno 8\\\\Desktop\\\\Teste-1-Vez-main\\\\teste teste\\\\Teste'"
     ]
    }
   ],
   "source": [
    "from pathlib import Path\n",
    "\n",
    "print(Path.cwd())\n",
    "\n",
    "caminho = Path('C:/Users/Aluno 8/Desktop/Teste-1-Vez-main/teste teste/Teste')\n",
    "\n",
    "arquivos = caminho.iterdir()\n",
    "for arquivo in arquivos:\n",
    "    print(arquivo)"
   ]
  },
  {
   "cell_type": "markdown",
   "id": "1bbe7872",
   "metadata": {
    "id": "1bbe7872"
   },
   "source": [
    "#### Exercício 2:\n",
    "Crie um programa que conte quantos arquivos há em um diretório específico usando os.listdir()\n"
   ]
  },
  {
   "cell_type": "code",
   "execution_count": null,
   "id": "7abd8103",
   "metadata": {
    "id": "7abd8103"
   },
   "outputs": [],
   "source": []
  },
  {
   "cell_type": "markdown",
   "id": "6437f95e",
   "metadata": {
    "id": "6437f95e"
   },
   "source": [
    "#### Exercício 3:\n",
    "Escreva um programa que crie um novo diretório usando os.mkdir()"
   ]
  },
  {
   "cell_type": "code",
   "execution_count": null,
   "id": "APW4gT5aI0Qs",
   "metadata": {
    "id": "APW4gT5aI0Qs"
   },
   "outputs": [],
   "source": []
  },
  {
   "cell_type": "markdown",
   "id": "d1c4d95e",
   "metadata": {
    "id": "d1c4d95e"
   },
   "source": [
    "#### Exercício 4:\n",
    "Crie um programa que verifique se um arquivo existe em um diretório usando os.path.exists()"
   ]
  },
  {
   "cell_type": "code",
   "execution_count": null,
   "id": "0437af2f",
   "metadata": {
    "id": "0437af2f"
   },
   "outputs": [],
   "source": []
  },
  {
   "cell_type": "markdown",
   "id": "49756b91",
   "metadata": {
    "id": "49756b91"
   },
   "source": [
    "#### Exercício 5:\n",
    "Crie um programa que leia o conteúdo de um arquivo e o imprima na tela usando open()"
   ]
  },
  {
   "cell_type": "code",
   "execution_count": null,
   "id": "ceda579f",
   "metadata": {
    "id": "ceda579f"
   },
   "outputs": [],
   "source": []
  },
  {
   "cell_type": "markdown",
   "id": "e0e704d9",
   "metadata": {
    "id": "e0e704d9"
   },
   "source": [
    "#### Exercício 6:\n",
    "Crie um programa que escreva uma lista de strings em um arquivo de texto usando open()"
   ]
  },
  {
   "cell_type": "code",
   "execution_count": null,
   "id": "0df24dc3",
   "metadata": {
    "id": "0df24dc3"
   },
   "outputs": [],
   "source": []
  },
  {
   "cell_type": "markdown",
   "id": "b7ad2d3e",
   "metadata": {
    "id": "b7ad2d3e"
   },
   "source": [
    "#### Exercício 7:\n",
    "Crie um programa que copie um arquivo de um diretório para outro usando shutil.copy()"
   ]
  },
  {
   "cell_type": "code",
   "execution_count": null,
   "id": "5bc29be5",
   "metadata": {
    "id": "5bc29be5"
   },
   "outputs": [],
   "source": [
    "\n"
   ]
  },
  {
   "cell_type": "markdown",
   "id": "9fbcd8e3",
   "metadata": {
    "id": "9fbcd8e3"
   },
   "source": [
    "#### Exercício 8:\n",
    "Crie um programa que renomeie um arquivo usando os.rename()"
   ]
  },
  {
   "cell_type": "code",
   "execution_count": null,
   "id": "1d5da8b9",
   "metadata": {
    "id": "1d5da8b9"
   },
   "outputs": [],
   "source": []
  },
  {
   "cell_type": "markdown",
   "id": "c8000351",
   "metadata": {
    "id": "c8000351"
   },
   "source": [
    "#### Exercício 9:\n",
    "Crie um programa que exclua um arquivo usando os.remove()"
   ]
  },
  {
   "cell_type": "code",
   "execution_count": null,
   "id": "576fc0f6",
   "metadata": {
    "id": "576fc0f6"
   },
   "outputs": [],
   "source": []
  },
  {
   "cell_type": "markdown",
   "id": "5f527f0c",
   "metadata": {
    "id": "5f527f0c"
   },
   "source": [
    "#### Exercício 10:\n",
    "Crie um programa que exclua um diretório e todo o seu conteúdo usando a biblioteca pathlib com o método rmdir()"
   ]
  },
  {
   "cell_type": "code",
   "execution_count": null,
   "id": "b62aa8b3",
   "metadata": {
    "id": "b62aa8b3"
   },
   "outputs": [],
   "source": []
  },
  {
   "cell_type": "markdown",
   "id": "c16e8cb9",
   "metadata": {
    "id": "c16e8cb9"
   },
   "source": [
    "#### Exercício 11:\n",
    "Crie um programa que liste todos os arquivos em um diretório específico usando a biblioteca pathlib com o método iterdir()"
   ]
  },
  {
   "cell_type": "code",
   "execution_count": null,
   "id": "b3f16c02",
   "metadata": {
    "id": "b3f16c02"
   },
   "outputs": [],
   "source": []
  }
 ],
 "metadata": {
  "colab": {
   "provenance": []
  },
  "kernelspec": {
   "display_name": "Python 3 (ipykernel)",
   "language": "python",
   "name": "python3"
  },
  "language_info": {
   "codemirror_mode": {
    "name": "ipython",
    "version": 3
   },
   "file_extension": ".py",
   "mimetype": "text/x-python",
   "name": "python",
   "nbconvert_exporter": "python",
   "pygments_lexer": "ipython3",
   "version": "3.11.3"
  }
 },
 "nbformat": 4,
 "nbformat_minor": 5
}
