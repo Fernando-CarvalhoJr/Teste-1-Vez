{
 "cells": [
  {
   "cell_type": "markdown",
   "id": "2fe9bf14",
   "metadata": {},
   "source": [
    "# Exercios de Tuplas "
   ]
  },
  {
   "cell_type": "markdown",
   "id": "8a3b69e2",
   "metadata": {},
   "source": [
    "## Vamos explorar a utilidade das tuplas e como elas podem ser aplicadas em várias situações. As tuplas são estruturas de dados imutáveis que permitem armazenar múltiplos elementos de diferentes tipos, tornando-as ideais para representar informações relacionadas de maneira organizada.\n",
    "\n",
    "### Agora, você está prestes a enfrentar um conjunto de desafios práticos que envolvem o uso de tuplas. Cada exercício foi cuidadosamente criado para ajudá-lo a consolidar seus conhecimentos sobre tuplas e aprimorar suas habilidades de resolução de problemas. Através desses exercícios, você explorará cenários do mundo real, como gerenciamento de estoque, processamento de informações, análise de dados e até mesmo a criação de pequenos jogos.\n",
    "\n",
    "### À medida que você avança pelos exercícios, lembre-se de aplicar conceitos importantes, como criação de tuplas, indexação, slicing, iteração e cálculos simples. Use sua criatividade e habilidades para encontrar soluções eficientes e elegantes para cada problema proposto. À medida que você se familiariza mais com as tuplas, você também estará desenvolvendo um entendimento mais profundo das estruturas de dados em geral, o que será valioso em suas futuras explorações na programação."
   ]
  },
  {
   "cell_type": "markdown",
   "id": "160b05d8",
   "metadata": {},
   "source": [
    "# Exercício 1: Contagem de Vogais\n",
    "### Crie uma função que recebe uma string e retorna uma tupla contendo a contagem de vogais e consoantes na string."
   ]
  },
  {
   "cell_type": "code",
   "execution_count": null,
   "id": "2a02751e",
   "metadata": {},
   "outputs": [],
   "source": []
  },
  {
   "cell_type": "markdown",
   "id": "0e0d3c63",
   "metadata": {},
   "source": [
    "# Exercício 2: Controle de Estoque\n",
    "### Você está gerenciando o estoque de uma loja. Crie um programa que permita adicionar novos produtos (usando tuplas para nome e preço) ao estoque e exibir o valor total do estoque."
   ]
  },
  {
   "cell_type": "code",
   "execution_count": null,
   "id": "b8babf7e",
   "metadata": {},
   "outputs": [],
   "source": []
  },
  {
   "cell_type": "markdown",
   "id": "48e600bc",
   "metadata": {},
   "source": [
    "# Exercício 3: Análise de Texto\n",
    "### Crie uma função que recebe um texto e retorna uma tupla contendo a quantidade de palavras e a quantidade média de letras por palavra."
   ]
  },
  {
   "cell_type": "code",
   "execution_count": null,
   "id": "fbfa078b",
   "metadata": {},
   "outputs": [],
   "source": []
  },
  {
   "cell_type": "markdown",
   "id": "680c1490",
   "metadata": {},
   "source": [
    "# Exercício 4: Divisão de Despesas\n",
    "### Você e seus amigos foram a um restaurante e agora precisam dividir a conta. Crie um programa que recebe o valor total da conta e o número de pessoas. Em seguida, calcule quanto cada pessoa deve pagar, considerando um serviço de 10% e usando uma tupla para armazenar os valores."
   ]
  },
  {
   "cell_type": "code",
   "execution_count": null,
   "id": "a3a041b4",
   "metadata": {},
   "outputs": [],
   "source": []
  },
  {
   "cell_type": "markdown",
   "id": "fcfb196b",
   "metadata": {},
   "source": [
    "# Exercício 5: Contagem de Ocorrências\n",
    "### Crie uma função que recebe uma lista de elementos e retorna uma tupla contendo a quantidade de ocorrências de um valor específico e a quantidade total de elementos na lista."
   ]
  },
  {
   "cell_type": "code",
   "execution_count": null,
   "id": "af7ebb49",
   "metadata": {},
   "outputs": [],
   "source": []
  },
  {
   "cell_type": "markdown",
   "id": "b39bd949",
   "metadata": {},
   "source": [
    "# Exercício 6: Ranking de Notas\n",
    "### Você está organizando um torneio de videogame. Crie um programa que recebe o nome e a pontuação de cada jogador e os armazena em uma lista de tuplas. Em seguida, exiba o ranking dos jogadores com base em suas pontuações."
   ]
  },
  {
   "cell_type": "code",
   "execution_count": null,
   "id": "79465048",
   "metadata": {},
   "outputs": [],
   "source": []
  },
  {
   "cell_type": "markdown",
   "id": "9e521469",
   "metadata": {},
   "source": [
    "# Exercício 7: Processamento de Dados Meteorológicos\n",
    "### Você possui uma lista de tuplas contendo a temperatura máxima e mínima de cada dia. Crie uma função que calcule a temperatura média de toda a semana e quantos dias a temperatura máxima excedeu 30 graus."
   ]
  },
  {
   "cell_type": "code",
   "execution_count": null,
   "id": "d8510b8e",
   "metadata": {},
   "outputs": [],
   "source": []
  },
  {
   "cell_type": "markdown",
   "id": "11fd016a",
   "metadata": {},
   "source": [
    "# Exercício 8: Divisão Justa\n",
    "### Você e seus amigos decidiram alugar uma casa de férias. Crie um programa que recebe o valor total do aluguel, as despesas comuns e o número de pessoas. Distribua os custos de forma justa, arredondando para cima, e retorne uma tupla com os valores que cada pessoa deve pagar."
   ]
  },
  {
   "cell_type": "code",
   "execution_count": null,
   "id": "395b6cea",
   "metadata": {},
   "outputs": [],
   "source": []
  },
  {
   "cell_type": "markdown",
   "id": "fc9530d0",
   "metadata": {},
   "source": [
    "# Exercício 9: Extração de Informações de Texto\n",
    "### Dado um texto com várias informações em formato \"chave: valor\", crie uma função que extrai essas informações e as armazena em uma tupla de dicionários."
   ]
  },
  {
   "cell_type": "code",
   "execution_count": null,
   "id": "2cd026b9",
   "metadata": {},
   "outputs": [],
   "source": []
  },
  {
   "cell_type": "markdown",
   "id": "9a4a61b2",
   "metadata": {},
   "source": [
    "# Exercício 10: Jogo de Cartas\n",
    "### Crie um jogo de cartas em que dois jogadores jogam alternadamente. Cada jogador recebe uma mão de cartas (uma tupla de strings). Implemente a lógica de jogo, como verificar vitória, derrota ou empate, e exiba o resultado após cada rodada.\n",
    "\n",
    "### Esses exercícios de nível médio a difícil envolvem conceitos mais avançados de manipulação de tuplas e resolução de problemas. Eles podem ajudar a aprofundar sua compreensão das tuplas e como elas podem ser aplicadas em situações mais complexas."
   ]
  },
  {
   "cell_type": "code",
   "execution_count": null,
   "id": "ede7894e",
   "metadata": {},
   "outputs": [],
   "source": []
  }
 ],
 "metadata": {
  "kernelspec": {
   "display_name": "Python 3 (ipykernel)",
   "language": "python",
   "name": "python3"
  },
  "language_info": {
   "codemirror_mode": {
    "name": "ipython",
    "version": 3
   },
   "file_extension": ".py",
   "mimetype": "text/x-python",
   "name": "python",
   "nbconvert_exporter": "python",
   "pygments_lexer": "ipython3",
   "version": "3.11.3"
  }
 },
 "nbformat": 4,
 "nbformat_minor": 5
}
