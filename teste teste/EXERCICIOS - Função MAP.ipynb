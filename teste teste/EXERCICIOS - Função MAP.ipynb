{
 "cells": [
  {
   "cell_type": "markdown",
   "id": "38f9fcc2",
   "metadata": {},
   "source": [
    "### Exercícios de função MAP\n",
    "####   ***** Tente fazer sozinho antes de consultar  *****"
   ]
  },
  {
   "cell_type": "markdown",
   "id": "6266b0e9",
   "metadata": {},
   "source": [
    "#### Exercício 1:\n",
    "Escreva um programa que receba uma lista de números como entrada e use a função map para elevar todos os números ao quadrado. Em seguida, imprima a lista resultante."
   ]
  },
  {
   "cell_type": "code",
   "execution_count": 13,
   "id": "16142264",
   "metadata": {},
   "outputs": [
    {
     "name": "stdout",
     "output_type": "stream",
     "text": [
      "[1, 4, 9, 16, 25, 36, 49, 64, 81, 100]\n"
     ]
    }
   ],
   "source": [
    "numero = [1,2,3,4,5,6,7,8,9,10]\n",
    "\n",
    "def elevado(num):\n",
    "    return num **2\n",
    "\n",
    "\n",
    "num = list(map(elevado, numero))\n",
    "print(num)"
   ]
  },
  {
   "cell_type": "markdown",
   "id": "78c82313",
   "metadata": {},
   "source": [
    "#### Exercício 2:\n",
    "Exercício 2:\n",
    "Crie uma função dobro que receba uma lista de números como entrada e use a função map para dobrar cada número na lista. Em seguida, imprima a lista resultante.\n"
   ]
  },
  {
   "cell_type": "code",
   "execution_count": 15,
   "id": "233c71f5",
   "metadata": {},
   "outputs": [
    {
     "name": "stdout",
     "output_type": "stream",
     "text": [
      "[2, 4, 6, 8, 10, 12, 14, 16, 18, 20]\n"
     ]
    }
   ],
   "source": [
    "dobro = [1,2,3,4,5,6,7,8,9,10]\n",
    "\n",
    "def mult(num):\n",
    "    return num *2\n",
    "\n",
    "num = list(map(mult, dobro))\n",
    "print(num)"
   ]
  },
  {
   "cell_type": "markdown",
   "id": "f9a92dda",
   "metadata": {},
   "source": [
    "#### Exercício 3:\n",
    "\n",
    "Escreva um programa que receba uma lista de nomes como entrada e use a função map para adicionar a string \"Sr. \" antes de cada nome. Em seguida, imprima a lista resultante."
   ]
  },
  {
   "cell_type": "code",
   "execution_count": 20,
   "id": "55f2432d",
   "metadata": {},
   "outputs": [
    {
     "name": "stdout",
     "output_type": "stream",
     "text": [
      "['Sr. Jorge', 'Sr. Lucar', 'Sr. Matheus', 'Sr. Luan']\n"
     ]
    }
   ],
   "source": [
    "nome = ['Jorge','Lucar','Matheus','Luan']\n",
    "\n",
    "def add(nome):\n",
    "    nome = 'Sr. ' + nome\n",
    "    \n",
    "    return nome\n",
    "\n",
    "senhor = list(map(add, nome))\n",
    "print(senhor)"
   ]
  },
  {
   "cell_type": "markdown",
   "id": "e2205602",
   "metadata": {},
   "source": [
    "#### Exercício 4:\n",
    "Crie uma função calcular_area que receba uma lista de raios de círculos como entrada e use a função map para calcular a área de cada círculo. A área de um círculo é dada por π * raio^2. Em seguida, imprima a lista de áreas.\n",
    "\n",
    "\n"
   ]
  },
  {
   "cell_type": "code",
   "execution_count": 23,
   "id": "42165b19",
   "metadata": {},
   "outputs": [
    {
     "name": "stdout",
     "output_type": "stream",
     "text": [
      "[(3, 350)]\n"
     ]
    }
   ],
   "source": [
    "numero = [5]\n",
    "\n",
    "def raio(num):\n",
    "    num = 3,14 * num **2\n",
    "    return num\n",
    "\n",
    "raoi = list(map(raio, numero))\n",
    "print(raoi)"
   ]
  },
  {
   "cell_type": "markdown",
   "id": "a6330d4e",
   "metadata": {},
   "source": [
    "#### Exercício 5:\n",
    "Escreva um programa que receba uma lista de frases como entrada e use a função map para contar o número de palavras em cada frase. Em seguida, imprima a lista de contagens de palavras."
   ]
  },
  {
   "cell_type": "code",
   "execution_count": 19,
   "id": "83b02275",
   "metadata": {},
   "outputs": [
    {
     "name": "stdout",
     "output_type": "stream",
     "text": [
      "[8]\n"
     ]
    }
   ],
   "source": [
    "frase = ['Rato roeu a ropa do rei de Roma']\n",
    "\n",
    "def cont(frase):\n",
    "    frase = frase.replace(' ', ',')\n",
    "    frase = frase.split(',')\n",
    "       \n",
    "    morango = len(frase)\n",
    "    return morango\n",
    "\n",
    "resultado = list(map(cont, frase))\n",
    "print(resultado)\n",
    "\n",
    "\n",
    "\n"
   ]
  },
  {
   "cell_type": "code",
   "execution_count": null,
   "id": "8047e0cb",
   "metadata": {},
   "outputs": [],
   "source": []
  },
  {
   "cell_type": "code",
   "execution_count": null,
   "id": "b37a4c74",
   "metadata": {},
   "outputs": [],
   "source": []
  }
 ],
 "metadata": {
  "kernelspec": {
   "display_name": "Python 3 (ipykernel)",
   "language": "python",
   "name": "python3"
  },
  "language_info": {
   "codemirror_mode": {
    "name": "ipython",
    "version": 3
   },
   "file_extension": ".py",
   "mimetype": "text/x-python",
   "name": "python",
   "nbconvert_exporter": "python",
   "pygments_lexer": "ipython3",
   "version": "3.11.3"
  }
 },
 "nbformat": 4,
 "nbformat_minor": 5
}
