{
 "cells": [
  {
   "cell_type": "markdown",
   "id": "c68d6f8e",
   "metadata": {},
   "source": [
    "# Exercícios - Testando Conhecimentos Aprendidos em Aula\n",
    "\n",
    "### Neste conjunto de exercícios, você será desafiado a aplicar os conceitos aprendidos sobre listas em Python. Os exercícios abrangem operações como criação de listas, remoção de elementos, adição de itens, índices, uso de list comprehensions e muito mais. Siga as instruções de cada exercício e tente resolver utilizando apenas o código dentro do script."
   ]
  },
  {
   "cell_type": "markdown",
   "id": "69d0f7dc",
   "metadata": {},
   "source": [
    "##"
   ]
  },
  {
   "cell_type": "markdown",
   "id": "ec501626",
   "metadata": {},
   "source": [
    "### 1 - Crie uma lista contendo os nomes de 5 países. Peça ao usuário para inserir o nome de mais um país. Em seguida, verifique se o país fornecido pelo usuário está na lista e exiba uma mensagem informando se ele está ou não na lista."
   ]
  },
  {
   "cell_type": "code",
   "execution_count": 4,
   "id": "db57457f",
   "metadata": {},
   "outputs": [
    {
     "name": "stdout",
     "output_type": "stream",
     "text": [
      "Digite o país escolhido Peru\n",
      "O país escolhido foi adicionado na lista\n"
     ]
    }
   ],
   "source": [
    "paises = ['Brasil' , 'Argentina' , 'Chile', 'Bolivia', 'Venezuela']\n",
    "\n",
    "tentativa = input('Digite o país escolhido ')\n",
    "\n",
    "if tentativa in paises:\n",
    "    print('O país escolhido já esta na lista')\n",
    "else:\n",
    "    paises.append(tentativa)\n",
    "    print('O país escolhido foi adicionado na lista')"
   ]
  },
  {
   "cell_type": "markdown",
   "id": "979aeae5",
   "metadata": {},
   "source": [
    "### 2 - Crie uma lista contendo os preços de 5 produtos. Em seguida, calcule e exiba o preço médio desses produtos."
   ]
  },
  {
   "cell_type": "code",
   "execution_count": 4,
   "id": "2748950b",
   "metadata": {},
   "outputs": [
    {
     "name": "stdout",
     "output_type": "stream",
     "text": [
      "A media dos valores são: 9.2\n"
     ]
    }
   ],
   "source": [
    "produto = ['Arroz', 'Feijão', 'Macarrão', 'Carne', 'Frango']\n",
    "valor = [10, 8, 7, 12, 9]\n",
    "\n",
    "valortt = sum(valor)\n",
    "media = valortt / 5\n",
    "\n",
    "print('A media dos valores são: {}'.format(media)) "
   ]
  },
  {
   "cell_type": "markdown",
   "id": "504c48df",
   "metadata": {},
   "source": [
    "  ### 3 - Crie uma lista com 5 cores diferentes. Peça ao usuário para inserir o nome de uma cor. Se a cor estiver na lista, remova-a e exiba a lista atualizada. Caso contrário, exiba uma mensagem informando que a cor não foi encontrada."
   ]
  },
  {
   "cell_type": "code",
   "execution_count": 10,
   "id": "f2681580",
   "metadata": {},
   "outputs": [
    {
     "name": "stdout",
     "output_type": "stream",
     "text": [
      "Digite a cor para ser removida: Azul\n",
      "A cor Azul foi removida da lista, a lista ficou: ['Amarelo', 'Branco', 'Cinza', 'Laranja']\n"
     ]
    }
   ],
   "source": [
    "cores = ['azul', 'amarelo', 'branco', 'cinza', 'laranja']\n",
    "remover = input('Digite a cor para ser removida: ')\n",
    "\n",
    "if remover in cores:\n",
    "    cores.remove(remover)\n",
    "    print('A cor {} foi removida da lista, a lista ficou: {}'.format(remover, cores))\n",
    "else:\n",
    "    print('Item não encontrado, favor verifique se escreveu corretamente')\n",
    "\n"
   ]
  },
  {
   "cell_type": "markdown",
   "id": "536d487d",
   "metadata": {},
   "source": [
    "### 4 - Escreva um programa que leia duas listas de números do usuário e verifique se elas têm o mesmo comprimento e se possuem elementos iguais nas mesmas posições. Exiba uma mensagem informando se as listas são iguais ou diferentes."
   ]
  },
  {
   "cell_type": "code",
   "execution_count": 12,
   "id": "612d02de",
   "metadata": {},
   "outputs": [
    {
     "name": "stdout",
     "output_type": "stream",
     "text": [
      "Há diferença entre as listas\n"
     ]
    }
   ],
   "source": [
    "lista1 = ['celular', 'computador', 'TV', 'CD']\n",
    "lista2 = ['celular', 'computador', 'TV', 'CD']\n",
    "\n",
    "if lista1 == lista2:\n",
    "    print('As listas estão corretas')\n",
    "else:\n",
    "    print('Há diferença entre as listas')"
   ]
  },
  {
   "cell_type": "markdown",
   "id": "462e7a14",
   "metadata": {},
   "source": [
    "### 5 - Crie uma lista contendo 10 números. Em seguida, solicite ao usuário que insira um número. Verifique se o número fornecido pelo usuário está na lista e, se estiver, exiba em quantas posições ele aparece."
   ]
  },
  {
   "cell_type": "code",
   "execution_count": 13,
   "id": "4faa687c",
   "metadata": {},
   "outputs": [
    {
     "name": "stdout",
     "output_type": "stream",
     "text": [
      "Insira o número de 1 à 107\n",
      "O número 7 está na posição\n"
     ]
    }
   ],
   "source": [
    "numeros = [    '8', '2', '4', '10', '5', '1', '7', '6', '9', '3']\n",
    "usuario = input('Insira o número de 1 à 10')\n",
    "\n",
    "if usuario in numeros:\n",
    "    print('O número {} está na posição {}'.format(usuario, ))\n",
    "else:\n",
    "    print('O número não foi encontrado')"
   ]
  },
  {
   "cell_type": "markdown",
   "id": "dcf80a5a",
   "metadata": {},
   "source": [
    "### 6 - Escreva uma função que recebe uma palavra e verifica se é um palíndromo, ou seja, se a palavra é igual quando lida de trás para frente."
   ]
  },
  {
   "cell_type": "code",
   "execution_count": 18,
   "id": "8855c87e",
   "metadata": {},
   "outputs": [
    {
     "name": "stdout",
     "output_type": "stream",
     "text": [
      "Digite uma palavra: pão\n",
      "A palavra não é um palíndromo\n"
     ]
    }
   ],
   "source": [
    "def isPalindrome(usuario):\n",
    "    return usuario == usuario[::-1]\n",
    " \n",
    " \n",
    "usuario = input('Digite uma palavra: ')\n",
    "ans = isPalindrome(usuario)\n",
    " \n",
    "if ans:\n",
    "    print('A palavra é um palíndromo')\n",
    "else:\n",
    "    print('A palavra não é um palíndromo')"
   ]
  },
  {
   "cell_type": "markdown",
   "id": "7a0ff2fc",
   "metadata": {},
   "source": [
    "### 7 - Escreva uma função que recebe duas listas e retorna uma nova lista que é a concatenação das duas."
   ]
  },
  {
   "cell_type": "code",
   "execution_count": 20,
   "id": "3ce93eaf",
   "metadata": {},
   "outputs": [
    {
     "name": "stdout",
     "output_type": "stream",
     "text": [
      "Digite a primeira lista arroz, feijao, batata\n",
      "Digite a segunda lista macarrao, calabresa\n",
      "Os valores da lista são: ['arroz, feijao, batata', 'macarrao, calabresa']\n"
     ]
    }
   ],
   "source": [
    "lista1 = [input('Digite a primeira lista ')]\n",
    "lista2 = [input('Digite a segunda lista ')]\n",
    "\n",
    "juntos = lista1 + lista2\n",
    "\n",
    "print('A lista: {}'.format(juntos))"
   ]
  },
  {
   "cell_type": "markdown",
   "id": "1616e8c8",
   "metadata": {},
   "source": [
    "### 8 - Escreva uma função que recebe uma lista e dois índices e troca os elementos presentes nos índices fornecidos."
   ]
  },
  {
   "cell_type": "code",
   "execution_count": 3,
   "id": "afa9e00a",
   "metadata": {},
   "outputs": [
    {
     "name": "stdout",
     "output_type": "stream",
     "text": [
      "Lista trocada: [10, 40, 30, 20, 50]\n"
     ]
    }
   ],
   "source": [
    "lista = [10, 20, 30, 40, 50]\n",
    "indice1, indice2 = 1, 3\n",
    "lista[indice1], lista[indice2] = lista[indice2], lista[indice1]\n",
    "print(\"Lista trocada:\", lista)"
   ]
  },
  {
   "cell_type": "markdown",
   "id": "d77bef5e",
   "metadata": {},
   "source": [
    "### 9 - Escreva uma função que recebe uma lista e retorna uma nova lista com os elementos invertidos na ordem."
   ]
  },
  {
   "cell_type": "code",
   "execution_count": 5,
   "id": "44da2eb8",
   "metadata": {},
   "outputs": [
    {
     "name": "stdout",
     "output_type": "stream",
     "text": [
      "Lista invertida: [5, 4, 3, 2, 1]\n"
     ]
    }
   ],
   "source": [
    "lista = [1, 2, 3, 4, 5]\n",
    "lista_invertida = lista[::-1]\n",
    "print(\"Lista invertida:\", lista_invertida)\n"
   ]
  },
  {
   "cell_type": "markdown",
   "id": "a840c743",
   "metadata": {},
   "source": [
    "### 10 - Escreva uma função que recebe uma lista de palavras e retorna uma nova lista contendo apenas as palavras únicas, ou seja, palavras que aparecem apenas uma vez na lista."
   ]
  },
  {
   "cell_type": "code",
   "execution_count": 1,
   "id": "0924cdcc",
   "metadata": {},
   "outputs": [
    {
     "name": "stdout",
     "output_type": "stream",
     "text": [
      "Palavras únicas: ['c', 'c++']\n"
     ]
    }
   ],
   "source": [
    "palavras = [\"python\", \"java\", \"python\", \"c\", \"c++\", \"java\", \"python\"]\n",
    "palavras_unicas_lista = [palavra for palavra in palavras if palavras.count(palavra) == 1]\n",
    "print(\"Palavras únicas:\", palavras_unicas_lista)\n"
   ]
  }
 ],
 "metadata": {
  "kernelspec": {
   "display_name": "Python 3 (ipykernel)",
   "language": "python",
   "name": "python3"
  },
  "language_info": {
   "codemirror_mode": {
    "name": "ipython",
    "version": 3
   },
   "file_extension": ".py",
   "mimetype": "text/x-python",
   "name": "python",
   "nbconvert_exporter": "python",
   "pygments_lexer": "ipython3",
   "version": "3.10.9"
  }
 },
 "nbformat": 4,
 "nbformat_minor": 5
}
