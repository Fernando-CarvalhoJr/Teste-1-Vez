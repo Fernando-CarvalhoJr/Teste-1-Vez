{
 "cells": [
  {
   "cell_type": "code",
   "execution_count": null,
   "id": "9d63ba63",
   "metadata": {},
   "outputs": [],
   "source": []
  },
  {
   "cell_type": "markdown",
   "id": "fcd9c1f0",
   "metadata": {},
   "source": [
    "# Exercício 1: Contagem de Vogais\n",
    "### Crie uma função que recebe uma string e retorna uma tupla contendo a contagem de vogais e consoantes na string."
   ]
  },
  {
   "cell_type": "code",
   "execution_count": 4,
   "id": "ee4997de",
   "metadata": {},
   "outputs": [
    {
     "name": "stdout",
     "output_type": "stream",
     "text": [
      "(5, 4)\n"
     ]
    }
   ],
   "source": [
    "texto = \"Olá, como vai?\"\n",
    "vogais = 'aeiouAEIOU'\n",
    "consoantes = 'bcdfghjklmnpqrstvwxyzBCDFGHJKLMNPQRSTVWXYZ'\n",
    "\n",
    "# Contar vogais e consoantes\n",
    "contador_vogais = sum(1 for char in texto if char in vogais)\n",
    "contador_consoantes = sum(1 for char in texto if char in consoantes)\n",
    "\n",
    "resultado_contagem = (contador_vogais, contador_consoantes)\n",
    "print(resultado_contagem)\n",
    "\n"
   ]
  },
  {
   "cell_type": "markdown",
   "id": "f1e83ce5",
   "metadata": {},
   "source": [
    "# Exercício 2: Controle de Estoque\n",
    "### Você está gerenciando o estoque de uma loja. Crie um programa que permita adicionar novos produtos (usando tuplas para nome e preço) ao estoque e exibir o valor total do estoque."
   ]
  },
  {
   "cell_type": "code",
   "execution_count": 5,
   "id": "798320b8",
   "metadata": {},
   "outputs": [
    {
     "name": "stdout",
     "output_type": "stream",
     "text": [
      "145\n"
     ]
    }
   ],
   "source": [
    "# Criar lista de tuplas para o estoque\n",
    "estoque = []\n",
    "\n",
    "# Adicionar produtos ao estoque\n",
    "estoque.append(('Camiseta', 25))\n",
    "estoque.append(('Calça', 40))\n",
    "estoque.append(('Tênis', 80))\n",
    "\n",
    "# Calcular valor total do estoque\n",
    "valor_total_estoque = sum(preco for _, preco in estoque)\n",
    "print(valor_total_estoque)\n"
   ]
  },
  {
   "cell_type": "markdown",
   "id": "4b633dac",
   "metadata": {},
   "source": [
    "# Exercício 3: Análise de Texto\n",
    "### Crie uma função que recebe um texto e retorna uma tupla contendo a quantidade de palavras e a quantidade média de letras por palavra."
   ]
  },
  {
   "cell_type": "code",
   "execution_count": 6,
   "id": "66fcd541",
   "metadata": {},
   "outputs": [
    {
     "name": "stdout",
     "output_type": "stream",
     "text": [
      "(7, 5.714285714285714)\n"
     ]
    }
   ],
   "source": [
    "texto = \"Python é uma linguagem de programação popular.\"\n",
    "\n",
    "# Dividir o texto em palavras\n",
    "palavras = texto.split()\n",
    "\n",
    "# Contar palavras e letras\n",
    "quantidade_palavras = len(palavras)\n",
    "quantidade_letras = sum(len(palavra) for palavra in palavras)\n",
    "\n",
    "# Calcular média de letras por palavra\n",
    "media_letras_por_palavra = quantidade_letras / quantidade_palavras\n",
    "\n",
    "resultado_analise = (quantidade_palavras, media_letras_por_palavra)\n",
    "print(resultado_analise)\n"
   ]
  },
  {
   "cell_type": "markdown",
   "id": "b50cc025",
   "metadata": {},
   "source": [
    "# Exercício 4: Divisão de Despesas\n",
    "### Você e seus amigos foram a um restaurante e agora precisam dividir a conta. Crie um programa que recebe o valor total da conta e o número de pessoas. Em seguida, calcule quanto cada pessoa deve pagar, considerando um serviço de 10% e usando uma tupla para armazenar os valores."
   ]
  },
  {
   "cell_type": "code",
   "execution_count": 7,
   "id": "440cf897",
   "metadata": {},
   "outputs": [
    {
     "name": "stdout",
     "output_type": "stream",
     "text": [
      "(165.0, 41.25)\n"
     ]
    }
   ],
   "source": [
    "valor_total_conta = 150\n",
    "numero_pessoas = 4\n",
    "\n",
    "# Calcular taxa de serviço e valor total com taxa\n",
    "taxa_servico = valor_total_conta * 0.1\n",
    "valor_total_com_taxa = valor_total_conta + taxa_servico\n",
    "\n",
    "# Calcular valor por pessoa\n",
    "valor_por_pessoa = valor_total_com_taxa / numero_pessoas\n",
    "\n",
    "resultado_divisao = (valor_total_com_taxa, valor_por_pessoa)\n",
    "print(resultado_divisao)\n"
   ]
  },
  {
   "cell_type": "markdown",
   "id": "39b28cdc",
   "metadata": {},
   "source": [
    "# Exercício 5: Contagem de Ocorrências\n",
    "### Crie uma função que recebe uma lista de elementos e retorna uma tupla contendo a quantidade de ocorrências de um valor específico e a quantidade total de elementos na lista."
   ]
  },
  {
   "cell_type": "code",
   "execution_count": 8,
   "id": "a7aa822c",
   "metadata": {},
   "outputs": [
    {
     "name": "stdout",
     "output_type": "stream",
     "text": [
      "(3, 7)\n"
     ]
    }
   ],
   "source": [
    "numeros = [2, 4, 6, 8, 4, 10, 4]\n",
    "valor_busca = 4\n",
    "\n",
    "# Contar ocorrências do valor buscado e calcular total de elementos\n",
    "quantidade_ocorrencias = numeros.count(valor_busca)\n",
    "total_elementos = len(numeros)\n",
    "\n",
    "resultado_contagem = (quantidade_ocorrencias, total_elementos)\n",
    "print(resultado_contagem)\n"
   ]
  },
  {
   "cell_type": "markdown",
   "id": "6e0d3551",
   "metadata": {},
   "source": [
    "# Exercício 6: Ranking de Notas\n",
    "### Você está organizando um torneio de videogame. Crie um programa que recebe o nome e a pontuação de cada jogador e os armazena em uma lista de tuplas. Em seguida, exiba o ranking dos jogadores com base em suas pontuações."
   ]
  },
  {
   "cell_type": "code",
   "execution_count": 9,
   "id": "5249cc37",
   "metadata": {},
   "outputs": [
    {
     "name": "stdout",
     "output_type": "stream",
     "text": [
      "1. Carlos: 230 pontos\n",
      "2. Beatriz: 180 pontos\n",
      "3. Alice: 150 pontos\n"
     ]
    }
   ],
   "source": [
    "jogadores = [('Alice', 150), ('Carlos', 230), ('Beatriz', 180)]\n",
    "\n",
    "# Ordenar jogadores pelo segundo elemento da tupla (pontuação)\n",
    "jogadores_ordenados = sorted(jogadores, key=lambda jogador: jogador[1], reverse=True)\n",
    "\n",
    "# Exibir ranking dos jogadores\n",
    "for posicao, (nome, pontuacao) in enumerate(jogadores_ordenados, start=1):\n",
    "    print(f\"{posicao}. {nome}: {pontuacao} pontos\")\n"
   ]
  },
  {
   "cell_type": "markdown",
   "id": "17ae0feb",
   "metadata": {},
   "source": [
    "# Exercício 7: Processamento de Dados Meteorológicos\n",
    "### Você possui uma lista de tuplas contendo a temperatura máxima e mínima de cada dia. Crie uma função que calcule a temperatura média de toda a semana e quantos dias a temperatura máxima excedeu 30 graus."
   ]
  },
  {
   "cell_type": "code",
   "execution_count": 10,
   "id": "a1d74435",
   "metadata": {},
   "outputs": [
    {
     "name": "stdout",
     "output_type": "stream",
     "text": [
      "(28.857142857142858, 5)\n"
     ]
    }
   ],
   "source": [
    "temperaturas_semana = [(28, 32), (30, 31), (25, 28), (32, 35), (27, 30), (31, 34), (29, 33)]\n",
    "\n",
    "# Calcular temperatura média e dias acima de 30°C\n",
    "temperatura_media = sum(temperatura[0] for temperatura in temperaturas_semana) / len(temperaturas_semana)\n",
    "dias_acima_30 = sum(1 for temperatura in temperaturas_semana if temperatura[1] > 30)\n",
    "\n",
    "resultado_analise = (temperatura_media, dias_acima_30)\n",
    "print(resultado_analise)\n"
   ]
  },
  {
   "cell_type": "markdown",
   "id": "cf9b2274",
   "metadata": {},
   "source": [
    "# Exercício 8: Divisão Justa\n",
    "### Você e seus amigos decidiram alugar uma casa de férias. Crie um programa que recebe o valor total do aluguel, as despesas comuns e o número de pessoas. Distribua os custos de forma justa, arredondando para cima, e retorne uma tupla com os valores que cada pessoa deve pagar."
   ]
  },
  {
   "cell_type": "code",
   "execution_count": 11,
   "id": "c987c3b0",
   "metadata": {},
   "outputs": [
    {
     "name": "stdout",
     "output_type": "stream",
     "text": [
      "(1100, 275.0)\n"
     ]
    }
   ],
   "source": [
    "valor_aluguel = 1000\n",
    "despesas_comuns = [50, 30, 20]\n",
    "numero_pessoas = 4\n",
    "\n",
    "# Calcular valor total e valor por pessoa\n",
    "valor_total = valor_aluguel + sum(despesas_comuns)\n",
    "valor_por_pessoa = valor_total / numero_pessoas\n",
    "valor_por_pessoa_arredondado = round(valor_por_pessoa, 2)\n",
    "\n",
    "resultado_divisao = (valor_total, valor_por_pessoa_arredondado)\n",
    "print(resultado_divisao)\n"
   ]
  },
  {
   "cell_type": "markdown",
   "id": "e1563b10",
   "metadata": {},
   "source": [
    "# Exercício 9: Extração de Informações de Texto\n",
    "### Dado um texto com várias informações em formato \"chave: valor\", crie uma função que extrai essas informações e as armazena em uma tupla de dicionários."
   ]
  },
  {
   "cell_type": "code",
   "execution_count": 12,
   "id": "3bcc4c12",
   "metadata": {},
   "outputs": [
    {
     "ename": "ValueError",
     "evalue": "not enough values to unpack (expected 2, got 1)",
     "output_type": "error",
     "traceback": [
      "\u001b[1;31m---------------------------------------------------------------------------\u001b[0m",
      "\u001b[1;31mValueError\u001b[0m                                Traceback (most recent call last)",
      "Cell \u001b[1;32mIn[12], line 7\u001b[0m\n\u001b[0;32m      5\u001b[0m informacoes \u001b[38;5;241m=\u001b[39m []\n\u001b[0;32m      6\u001b[0m \u001b[38;5;28;01mfor\u001b[39;00m linha \u001b[38;5;129;01min\u001b[39;00m linhas:\n\u001b[1;32m----> 7\u001b[0m     chave, valor \u001b[38;5;241m=\u001b[39m linha\u001b[38;5;241m.\u001b[39msplit(\u001b[38;5;124m'\u001b[39m\u001b[38;5;124m:\u001b[39m\u001b[38;5;124m'\u001b[39m)\n\u001b[0;32m      8\u001b[0m     informacoes\u001b[38;5;241m.\u001b[39mappend({chave\u001b[38;5;241m.\u001b[39mstrip(): valor\u001b[38;5;241m.\u001b[39mstrip()})\n\u001b[0;32m     10\u001b[0m informacoes_extraidas \u001b[38;5;241m=\u001b[39m \u001b[38;5;28mtuple\u001b[39m(informacoes)\n",
      "\u001b[1;31mValueError\u001b[0m: not enough values to unpack (expected 2, got 1)"
     ]
    }
   ],
   "source": [
    "texto = \"Nome: Alice\\nIdade: 25\\nProfissão: Engenheira\\n\"\n",
    "linhas = texto.split('\\n')\n",
    "\n",
    "# Extração das informações e armazenamento em uma lista de dicionários\n",
    "informacoes = []\n",
    "for linha in linhas:\n",
    "    chave, valor = linha.split(':')\n",
    "    informacoes.append({chave.strip(): valor.strip()})\n",
    "\n",
    "informacoes_extraidas = tuple(informacoes)\n",
    "print(informacoes_extraidas)\n"
   ]
  },
  {
   "cell_type": "markdown",
   "id": "b8fc1019",
   "metadata": {},
   "source": [
    "# Exercício 10: Jogo de Cartas\n",
    "### Crie um jogo de cartas em que dois jogadores jogam alternadamente. Cada jogador recebe uma mão de cartas (uma tupla de strings). Implemente a lógica de jogo, como verificar vitória, derrota ou empate, e exiba o resultado após cada rodada.\n",
    "\n",
    "### Esses exercícios de nível médio a difícil envolvem conceitos mais avançados de manipulação de tuplas e resolução de problemas. Eles podem ajudar a aprofundar sua compreensão das tuplas e como elas podem ser aplicadas em situações mais complexas."
   ]
  },
  {
   "cell_type": "code",
   "execution_count": 13,
   "id": "90fb9b77",
   "metadata": {},
   "outputs": [
    {
     "name": "stdout",
     "output_type": "stream",
     "text": [
      "Jogador 1: ('7', '4', 'A')\n",
      "Jogador 2: ('8', 'J', '4')\n",
      "Jogador 2 venceu!\n"
     ]
    }
   ],
   "source": [
    "import random\n",
    "\n",
    "baralho = ['A', '2', '3', '4', '5', '6', '7', '8', '9', '10', 'J', 'Q', 'K']\n",
    "random.shuffle(baralho)\n",
    "\n",
    "# Distribuindo as cartas para os jogadores\n",
    "mao_jogador1 = tuple(random.sample(baralho, 3))\n",
    "mao_jogador2 = tuple(random.sample(baralho, 3))\n",
    "\n",
    "print(f\"Jogador 1: {mao_jogador1}\")\n",
    "print(f\"Jogador 2: {mao_jogador2}\")\n",
    "\n",
    "# Verificando o vencedor ou empate\n",
    "if mao_jogador1 > mao_jogador2:\n",
    "    print(\"Jogador 1 venceu!\")\n",
    "elif mao_jogador2 > mao_jogador1:\n",
    "    print(\"Jogador 2 venceu!\")\n",
    "else:\n",
    "    print(\"Empate!\")\n"
   ]
  },
  {
   "cell_type": "code",
   "execution_count": null,
   "id": "af499a6a",
   "metadata": {},
   "outputs": [],
   "source": []
  },
  {
   "cell_type": "code",
   "execution_count": null,
   "id": "a8905699",
   "metadata": {},
   "outputs": [],
   "source": []
  },
  {
   "cell_type": "code",
   "execution_count": null,
   "id": "0b4a1371",
   "metadata": {},
   "outputs": [],
   "source": []
  },
  {
   "cell_type": "code",
   "execution_count": null,
   "id": "e504dc12",
   "metadata": {},
   "outputs": [],
   "source": []
  },
  {
   "cell_type": "code",
   "execution_count": null,
   "id": "993fb9f5",
   "metadata": {},
   "outputs": [],
   "source": []
  },
  {
   "cell_type": "code",
   "execution_count": null,
   "id": "e698ebd8",
   "metadata": {},
   "outputs": [],
   "source": []
  }
 ],
 "metadata": {
  "kernelspec": {
   "display_name": "Python 3 (ipykernel)",
   "language": "python",
   "name": "python3"
  },
  "language_info": {
   "codemirror_mode": {
    "name": "ipython",
    "version": 3
   },
   "file_extension": ".py",
   "mimetype": "text/x-python",
   "name": "python",
   "nbconvert_exporter": "python",
   "pygments_lexer": "ipython3",
   "version": "3.11.3"
  }
 },
 "nbformat": 4,
 "nbformat_minor": 5
}
