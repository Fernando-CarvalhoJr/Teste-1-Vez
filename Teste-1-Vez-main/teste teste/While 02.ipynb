{
 "cells": [
  {
   "cell_type": "markdown",
   "metadata": {},
   "source": [
    "# Cuidado com o while -> Loop Infinito\n",
    "\n",
    "Sempre que for usar o comando while, lembre-se de ter certeza que o programa vai terminar em algum momento\n",
    "\n",
    "### Exemplo\n",
    "\n",
    "Digamos que temos uma lista de vendedores e as quantidades vendidas e queremos identificar todos os vendedores que bateram a meta de 50 vendas."
   ]
  },
  {
   "cell_type": "code",
   "execution_count": 10,
   "metadata": {},
   "outputs": [
    {
     "name": "stdout",
     "output_type": "stream",
     "text": [
      "maria atingiu a meta de vendas: 250\n",
      "mara atingiu a meta de vendas: 330\n",
      "joão atingiu a meta de vendas: 440\n",
      "silva atingiu a meta de vendas: 540\n",
      "santos atingiu a meta de vendas: 350\n",
      "mario atingiu a meta de vendas: 250\n",
      "carlos atingiu a meta de vendas: 368\n",
      "xuxa atingiu a meta de vendas: 250\n"
     ]
    }
   ],
   "source": [
    "venda = [250, 330, 440, 540, 350, 250, 368, 40, 250, 30, 30]\n",
    "vendedores = ['maria', 'mara', 'joão', 'silva', 'santos', 'mario', 'carlos', 'marly', 'xuxa', 'chica', 'zinha']\n",
    "meta = 50\n",
    "\n",
    "i = 0\n",
    "\n",
    "while i < len(venda):\n",
    "    if venda[i] >= meta:\n",
    "        print('{} atingiu a meta de vendas: {}'.format(vendedores[i], venda[i]))\n",
    "    i += 1\n",
    "\n",
    "    \n",
    "    \n",
    "    "
   ]
  },
  {
   "cell_type": "code",
   "execution_count": null,
   "metadata": {},
   "outputs": [],
   "source": []
  }
 ],
 "metadata": {
  "kernelspec": {
   "display_name": "Python 3 (ipykernel)",
   "language": "python",
   "name": "python3"
  },
  "language_info": {
   "codemirror_mode": {
    "name": "ipython",
    "version": 3
   },
   "file_extension": ".py",
   "mimetype": "text/x-python",
   "name": "python",
   "nbconvert_exporter": "python",
   "pygments_lexer": "ipython3",
   "version": "3.10.9"
  }
 },
 "nbformat": 4,
 "nbformat_minor": 4
}
