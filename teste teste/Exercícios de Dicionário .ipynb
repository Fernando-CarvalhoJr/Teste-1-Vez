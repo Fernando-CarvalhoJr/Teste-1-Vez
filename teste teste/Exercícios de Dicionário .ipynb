{
 "cells": [
  {
   "cell_type": "markdown",
   "id": "d1096e68",
   "metadata": {},
   "source": [
    "# Exercícios de tuplas "
   ]
  },
  {
   "cell_type": "markdown",
   "id": "32c8fef7",
   "metadata": {},
   "source": [
    "## Esses exercícios ajudarão você a praticar o uso de dicionários em diferentes contextos e situações. Experimente resolver cada um deles para aprimorar suas habilidades em manipulação de dicionários em Python."
   ]
  },
  {
   "cell_type": "markdown",
   "id": "4a90b37f",
   "metadata": {},
   "source": [
    "# Exercício 1: Contagem de Palavras\n",
    "### Crie uma função que recebe uma string como entrada e retorna um dicionário onde as chaves são as palavras da string e os valores são a contagem de vezes que cada palavra aparece."
   ]
  },
  {
   "cell_type": "code",
   "execution_count": 34,
   "id": "ff702f47",
   "metadata": {},
   "outputs": [
    {
     "name": "stdout",
     "output_type": "stream",
     "text": [
      "Digite uma frase arroz feijao e batata\n",
      "{'arroz': 1, 'feijao': 1, 'e': 1, 'batata': 1}\n"
     ]
    }
   ],
   "source": [
    "def contar_palavras(string):\n",
    "    palavras = string.split()\n",
    "    contador = {}\n",
    "    \n",
    "    for palavra in palavras:\n",
    "        palavra = palavra.lower()  # Convertendo para minúsculas para tratamento de maiúsculas/minúsculas\n",
    "        if palavra in contador:\n",
    "            contador[palavra] += 1\n",
    "        else:\n",
    "            contador[palavra] = 1\n",
    "    \n",
    "    return contador\n",
    "\n",
    "# Exemplo de uso\n",
    "minha_string = input('Digite uma frase ')\n",
    "resultado = contar_palavras(minha_string)\n",
    "print(resultado)"
   ]
  },
  {
   "cell_type": "markdown",
   "id": "946d6af0",
   "metadata": {},
   "source": [
    "# Exercício 2: Registro de Alunos\n",
    "### Crie um programa que permite registrar informações sobre alunos, como nome, idade e nota. Use um dicionário para armazenar essas informações e permita que o usuário adicione novos alunos e visualize os detalhes dos alunos existentes."
   ]
  },
  {
   "cell_type": "code",
   "execution_count": 15,
   "id": "4bbebc70",
   "metadata": {},
   "outputs": [
    {
     "name": "stdout",
     "output_type": "stream",
     "text": [
      "{'julio': {'idade': 15, 'nota': 7}, 'camila': {'idade': 16, 'nota': 10}, 'gabriel': {'idade': 14, 'nota': 5}, 'rafael': {'idade': 16, 'nota': 9}, 'davi': {'idade': 15, 'nota': 6}}\n"
     ]
    }
   ],
   "source": [
    "alunos = {}\n",
    "\n",
    "alunos ['julio'] = {'idade': 15, 'nota': 7}\n",
    "alunos ['camila'] = {'idade': 16, 'nota': 10}\n",
    "alunos ['gabriel'] = {'idade': 14, 'nota': 5}\n",
    "alunos ['rafael'] = {'idade': 16, 'nota': 9}\n",
    "alunos ['davi'] = {'idade': 15, 'nota': 6}\n",
    "\n",
    "print(alunos)"
   ]
  },
  {
   "cell_type": "markdown",
   "id": "0a7de75b",
   "metadata": {},
   "source": [
    "# Exercício 3: Tradutor Simples\n",
    "### Crie um dicionário que mapeie algumas palavras em inglês para suas traduções em outro idioma. Peça ao usuário para digitar uma palavra em inglês e exiba a tradução correspondente."
   ]
  },
  {
   "cell_type": "code",
   "execution_count": 32,
   "id": "370a137c",
   "metadata": {},
   "outputs": [
    {
     "name": "stdout",
     "output_type": "stream",
     "text": [
      "Digite uma palavra em inglês (ou 'sair' para encerrar): SaIr\n",
      "Encerrando o programa.\n"
     ]
    }
   ],
   "source": [
    "traducoes = {\n",
    "    \"hello\": \"olá\",\n",
    "    \"cat\": \"gato\",\n",
    "    \"dog\": \"cachorro\",\n",
    "    \"tree\": \"árvore\",\n",
    "    \"book\": \"livro\"\n",
    "}\n",
    "\n",
    "def traduzir_palavra(palavra):\n",
    "    if palavra in traducoes:\n",
    "        return traducoes[palavra]\n",
    "    else:\n",
    "        return \"Tradução não encontrada.\"\n",
    "\n",
    "while True:\n",
    "    palavra_ingles = input(\"Digite uma palavra em inglês (ou 'sair' para encerrar): \")\n",
    "    \n",
    "    if palavra_ingles.lower() == \"sair\":\n",
    "        print(\"Encerrando o programa.\")\n",
    "        break\n",
    "    \n",
    "    traducao = traduzir_palavra(palavra_ingles.lower())\n",
    "    print(f\"A tradução de '{palavra_ingles}' é '{traducao}'.\")"
   ]
  },
  {
   "cell_type": "markdown",
   "id": "d9d590bc",
   "metadata": {},
   "source": [
    "# Exercício 4: Estoque de Produtos\n",
    "### Crie um programa que simule o controle de estoque de uma loja. Use um dicionário onde as chaves são os nomes dos produtos e os valores são as quantidades em estoque. Permita que o usuário adicione ou remova produtos e atualize as quantidades."
   ]
  },
  {
   "cell_type": "code",
   "execution_count": 1,
   "id": "f93311d7",
   "metadata": {},
   "outputs": [
    {
     "name": "stdout",
     "output_type": "stream",
     "text": [
      "Controle de Estoque:\n",
      "\n",
      "1. Adicionar produto ao estoque\n",
      "2. Remover produto do estoque\n",
      "3. Listar estoque\n",
      "4. Sair\n",
      "Escolha uma opção: 4\n",
      "Saindo do programa...\n"
     ]
    }
   ],
   "source": [
    "estoque = {}\n",
    "\n",
    "def adicionar_produto(produto, quantidade):\n",
    "    if produto in estoque:\n",
    "        estoque[produto] += quantidade\n",
    "    else:\n",
    "        estoque[produto] = quantidade\n",
    "    print(f\"{quantidade} unidades do produto {produto} foram adicionadas ao estoque.\")\n",
    "\n",
    "def remover_produto(produto, quantidade):\n",
    "    if produto in estoque and estoque[produto] >= quantidade:\n",
    "        estoque[produto] -= quantidade\n",
    "        print(f\"{quantidade} unidades do produto {produto} foram removidas do estoque.\")\n",
    "    else:\n",
    "        print(f\"Não é possível remover {quantidade} unidades do produto {produto} do estoque.\")\n",
    "\n",
    "def listar_estoque():\n",
    "    print(\"Estoque da Loja:\")\n",
    "    for produto, quantidade in estoque.items():\n",
    "        print(f\"{produto}: {quantidade} unidades\")\n",
    "\n",
    "while True:\n",
    "    print(\"Controle de Estoque:\\n\")\n",
    "    print(\"1. Adicionar produto ao estoque\")\n",
    "    print(\"2. Remover produto do estoque\")\n",
    "    print(\"3. Listar estoque\")\n",
    "    print(\"4. Sair\")\n",
    "    \n",
    "    escolha = input(\"Escolha uma opção: \")\n",
    "    \n",
    "    if escolha == '1':\n",
    "        produto = input(\"Digite o nome do produto: \")\n",
    "        quantidade = int(input(\"Digite a quantidade a ser adicionada: \"))\n",
    "        adicionar_produto(produto, quantidade)\n",
    "    elif escolha == '2':\n",
    "        produto = input(\"Digite o nome do produto: \")\n",
    "        quantidade = int(input(\"Digite a quantidade a ser removida: \"))\n",
    "        remover_produto(produto, quantidade)\n",
    "    elif escolha == '3':\n",
    "        listar_estoque()\n",
    "    elif escolha == '4':\n",
    "        print(\"Saindo do programa...\")\n",
    "        break\n",
    "    else:\n",
    "        print(\"Opção inválida. Por favor, escolha uma opção válida.\")"
   ]
  },
  {
   "cell_type": "markdown",
   "id": "31c34736",
   "metadata": {},
   "source": [
    "# Exercício 5: Contagem de Caracteres\n",
    "### Crie uma função que recebe uma string e retorna um dicionário onde as chaves são os caracteres da string e os valores são a contagem de vezes que cada caracter aparece."
   ]
  },
  {
   "cell_type": "code",
   "execution_count": 27,
   "id": "70d8c2c6",
   "metadata": {},
   "outputs": [
    {
     "ename": "KeyboardInterrupt",
     "evalue": "Interrupted by user",
     "output_type": "error",
     "traceback": [
      "\u001b[1;31m---------------------------------------------------------------------------\u001b[0m",
      "\u001b[1;31mKeyboardInterrupt\u001b[0m                         Traceback (most recent call last)",
      "Cell \u001b[1;32mIn[27], line 11\u001b[0m\n\u001b[0;32m      8\u001b[0m     \u001b[38;5;28;01mreturn\u001b[39;00m contador\n\u001b[0;32m     10\u001b[0m \u001b[38;5;66;03m# Exemplo de uso\u001b[39;00m\n\u001b[1;32m---> 11\u001b[0m minha_string \u001b[38;5;241m=\u001b[39m \u001b[38;5;28minput\u001b[39m(\u001b[38;5;124m'\u001b[39m\u001b[38;5;124mDigite a palavra: \u001b[39m\u001b[38;5;124m'\u001b[39m)\n\u001b[0;32m     12\u001b[0m resultado \u001b[38;5;241m=\u001b[39m contar_caracteres(minha_string)\n\u001b[0;32m     13\u001b[0m \u001b[38;5;28mprint\u001b[39m(resultado)\n",
      "File \u001b[1;32m~\\anaconda3\\Lib\\site-packages\\ipykernel\\kernelbase.py:1175\u001b[0m, in \u001b[0;36mKernel.raw_input\u001b[1;34m(self, prompt)\u001b[0m\n\u001b[0;32m   1171\u001b[0m \u001b[38;5;28;01mif\u001b[39;00m \u001b[38;5;129;01mnot\u001b[39;00m \u001b[38;5;28mself\u001b[39m\u001b[38;5;241m.\u001b[39m_allow_stdin:\n\u001b[0;32m   1172\u001b[0m     \u001b[38;5;28;01mraise\u001b[39;00m StdinNotImplementedError(\n\u001b[0;32m   1173\u001b[0m         \u001b[38;5;124m\"\u001b[39m\u001b[38;5;124mraw_input was called, but this frontend does not support input requests.\u001b[39m\u001b[38;5;124m\"\u001b[39m\n\u001b[0;32m   1174\u001b[0m     )\n\u001b[1;32m-> 1175\u001b[0m \u001b[38;5;28;01mreturn\u001b[39;00m \u001b[38;5;28mself\u001b[39m\u001b[38;5;241m.\u001b[39m_input_request(\n\u001b[0;32m   1176\u001b[0m     \u001b[38;5;28mstr\u001b[39m(prompt),\n\u001b[0;32m   1177\u001b[0m     \u001b[38;5;28mself\u001b[39m\u001b[38;5;241m.\u001b[39m_parent_ident[\u001b[38;5;124m\"\u001b[39m\u001b[38;5;124mshell\u001b[39m\u001b[38;5;124m\"\u001b[39m],\n\u001b[0;32m   1178\u001b[0m     \u001b[38;5;28mself\u001b[39m\u001b[38;5;241m.\u001b[39mget_parent(\u001b[38;5;124m\"\u001b[39m\u001b[38;5;124mshell\u001b[39m\u001b[38;5;124m\"\u001b[39m),\n\u001b[0;32m   1179\u001b[0m     password\u001b[38;5;241m=\u001b[39m\u001b[38;5;28;01mFalse\u001b[39;00m,\n\u001b[0;32m   1180\u001b[0m )\n",
      "File \u001b[1;32m~\\anaconda3\\Lib\\site-packages\\ipykernel\\kernelbase.py:1217\u001b[0m, in \u001b[0;36mKernel._input_request\u001b[1;34m(self, prompt, ident, parent, password)\u001b[0m\n\u001b[0;32m   1214\u001b[0m             \u001b[38;5;28;01mbreak\u001b[39;00m\n\u001b[0;32m   1215\u001b[0m \u001b[38;5;28;01mexcept\u001b[39;00m \u001b[38;5;167;01mKeyboardInterrupt\u001b[39;00m:\n\u001b[0;32m   1216\u001b[0m     \u001b[38;5;66;03m# re-raise KeyboardInterrupt, to truncate traceback\u001b[39;00m\n\u001b[1;32m-> 1217\u001b[0m     \u001b[38;5;28;01mraise\u001b[39;00m \u001b[38;5;167;01mKeyboardInterrupt\u001b[39;00m(\u001b[38;5;124m\"\u001b[39m\u001b[38;5;124mInterrupted by user\u001b[39m\u001b[38;5;124m\"\u001b[39m) \u001b[38;5;28;01mfrom\u001b[39;00m \u001b[38;5;28;01mNone\u001b[39;00m\n\u001b[0;32m   1218\u001b[0m \u001b[38;5;28;01mexcept\u001b[39;00m \u001b[38;5;167;01mException\u001b[39;00m:\n\u001b[0;32m   1219\u001b[0m     \u001b[38;5;28mself\u001b[39m\u001b[38;5;241m.\u001b[39mlog\u001b[38;5;241m.\u001b[39mwarning(\u001b[38;5;124m\"\u001b[39m\u001b[38;5;124mInvalid Message:\u001b[39m\u001b[38;5;124m\"\u001b[39m, exc_info\u001b[38;5;241m=\u001b[39m\u001b[38;5;28;01mTrue\u001b[39;00m)\n",
      "\u001b[1;31mKeyboardInterrupt\u001b[0m: Interrupted by user"
     ]
    }
   ],
   "source": [
    "def contar_caracteres(string):\n",
    "    contador = {}\n",
    "    for char in string:\n",
    "        if char in contador:\n",
    "            contador[char] += 1\n",
    "        else:\n",
    "            contador[char] = 1\n",
    "    return contador\n",
    "\n",
    "# Exemplo de uso\n",
    "minha_string = input('Digite a palavra: ')\n",
    "resultado = contar_caracteres(minha_string)\n",
    "print(resultado)"
   ]
  },
  {
   "cell_type": "markdown",
   "id": "8b8d8f05",
   "metadata": {},
   "source": [
    "# Exercício 6: Agenda de Contatos\n",
    "### Crie um programa que simule uma agenda de contatos. Use um dicionário onde as chaves são os nomes das pessoas e os valores são seus números de telefone. Permita que o usuário adicione, atualize e remova contatos."
   ]
  },
  {
   "cell_type": "code",
   "execution_count": 20,
   "id": "5f5609fe",
   "metadata": {},
   "outputs": [
    {
     "name": "stdout",
     "output_type": "stream",
     "text": [
      "Agenda de Contatos:\n",
      "\n",
      "1. Adicionar contato\n",
      "2. Atualizar contato\n",
      "3. Remover contato\n",
      "4. Listar contatos\n",
      "5. Sair\n",
      "Escolha uma opção: 5\n",
      "Saindo do programa...\n"
     ]
    }
   ],
   "source": [
    "def adicionar_contato(nome, telefone):\n",
    "    agenda[nome] = telefone\n",
    "    print(f\"Contato {nome} adicionado com sucesso!\")\n",
    "\n",
    "def atualizar_contato(nome, novo_telefone):\n",
    "    if nome in agenda:\n",
    "        agenda[nome] = novo_telefone\n",
    "        print(f\"Contato {nome} atualizado com o novo telefone {novo_telefone}.\")\n",
    "    else:\n",
    "        print(f\"Contato {nome} não encontrado na agenda.\")\n",
    "\n",
    "def remover_contato(nome):\n",
    "    if nome in agenda:\n",
    "        del agenda[nome]\n",
    "        print(f\"Contato {nome} removido da agenda.\")\n",
    "    else:\n",
    "        print(f\"Contato {nome} não encontrado na agenda.\")\n",
    "\n",
    "def listar_contatos():\n",
    "    print(\"Lista de Contatos:\")\n",
    "    for nome, telefone in agenda.items():\n",
    "        print(f\"{nome}: {telefone}\")\n",
    "\n",
    "while True:\n",
    "    print(\"Agenda de Contatos:\\n\")\n",
    "    print(\"1. Adicionar contato\")\n",
    "    print(\"2. Atualizar contato\")\n",
    "    print(\"3. Remover contato\")\n",
    "    print(\"4. Listar contatos\")\n",
    "    print(\"5. Sair\")\n",
    "    \n",
    "    escolha = input(\"Escolha uma opção: \")\n",
    "    \n",
    "    if escolha == '1':\n",
    "        nome = input(\"Digite o nome do contato: \")\n",
    "        telefone = input(\"Digite o número de telefone: \")\n",
    "        adicionar_contato(nome, telefone)\n",
    "    elif escolha == '2':\n",
    "        nome = input(\"Digite o nome do contato que deseja atualizar: \")\n",
    "        novo_telefone = input(\"Digite o novo número de telefone: \")\n",
    "        atualizar_contato(nome, novo_telefone)\n",
    "    elif escolha == '3':\n",
    "        nome = input(\"Digite o nome do contato que deseja remover: \")\n",
    "        remover_contato(nome)\n",
    "    elif escolha == '4':\n",
    "        listar_contatos()\n",
    "    elif escolha == '5':\n",
    "        print(\"Saindo do programa...\")\n",
    "        break\n",
    "    else:\n",
    "        print(\"Opção inválida. Por favor, escolha uma opção válida.\")"
   ]
  },
  {
   "cell_type": "markdown",
   "id": "dfe9aa0c",
   "metadata": {},
   "source": [
    "# Exercício 7: Notas de Alunos\n",
    "### Crie um programa que permite registrar as notas de alunos em várias disciplinas. Use um dicionário aninhado, onde as chaves externas são os nomes dos alunos e as chaves internas são as disciplinas. Permita que o usuário adicione notas e visualize as médias dos alunos."
   ]
  },
  {
   "cell_type": "code",
   "execution_count": 37,
   "id": "8e10caaa",
   "metadata": {},
   "outputs": [
    {
     "name": "stdout",
     "output_type": "stream",
     "text": [
      "Registro de Notas:\n",
      "\n",
      "1. Adicionar nota\n",
      "2. Calcular médias dos alunos\n",
      "3. Sair\n",
      "Escolha uma opção: 1\n",
      "Digite o nome do aluno: 1\n",
      "Digite o nome da disciplina: geografia\n",
      "Digite a nota: 10\n",
      "Nota 10.0 adicionada para o aluno 1 na disciplina geografia.\n",
      "Registro de Notas:\n",
      "\n",
      "1. Adicionar nota\n",
      "2. Calcular médias dos alunos\n",
      "3. Sair\n",
      "Escolha uma opção: 2\n",
      "\n",
      "Médias dos Alunos:\n",
      "1 - geografia: Média 10.00\n",
      "Média Geral de 1: 10.00\n",
      "Registro de Notas:\n",
      "\n",
      "1. Adicionar nota\n",
      "2. Calcular médias dos alunos\n",
      "3. Sair\n"
     ]
    },
    {
     "ename": "KeyboardInterrupt",
     "evalue": "Interrupted by user",
     "output_type": "error",
     "traceback": [
      "\u001b[1;31m---------------------------------------------------------------------------\u001b[0m",
      "\u001b[1;31mKeyboardInterrupt\u001b[0m                         Traceback (most recent call last)",
      "Cell \u001b[1;32mIn[37], line 37\u001b[0m\n\u001b[0;32m     34\u001b[0m \u001b[38;5;28mprint\u001b[39m(\u001b[38;5;124m\"\u001b[39m\u001b[38;5;124m2. Calcular médias dos alunos\u001b[39m\u001b[38;5;124m\"\u001b[39m)\n\u001b[0;32m     35\u001b[0m \u001b[38;5;28mprint\u001b[39m(\u001b[38;5;124m\"\u001b[39m\u001b[38;5;124m3. Sair\u001b[39m\u001b[38;5;124m\"\u001b[39m)\n\u001b[1;32m---> 37\u001b[0m escolha \u001b[38;5;241m=\u001b[39m \u001b[38;5;28minput\u001b[39m(\u001b[38;5;124m\"\u001b[39m\u001b[38;5;124mEscolha uma opção: \u001b[39m\u001b[38;5;124m\"\u001b[39m)\n\u001b[0;32m     39\u001b[0m \u001b[38;5;28;01mif\u001b[39;00m escolha \u001b[38;5;241m==\u001b[39m \u001b[38;5;124m'\u001b[39m\u001b[38;5;124m1\u001b[39m\u001b[38;5;124m'\u001b[39m:\n\u001b[0;32m     40\u001b[0m     aluno \u001b[38;5;241m=\u001b[39m \u001b[38;5;28minput\u001b[39m(\u001b[38;5;124m\"\u001b[39m\u001b[38;5;124mDigite o nome do aluno: \u001b[39m\u001b[38;5;124m\"\u001b[39m)\n",
      "File \u001b[1;32m~\\anaconda3\\Lib\\site-packages\\ipykernel\\kernelbase.py:1175\u001b[0m, in \u001b[0;36mKernel.raw_input\u001b[1;34m(self, prompt)\u001b[0m\n\u001b[0;32m   1171\u001b[0m \u001b[38;5;28;01mif\u001b[39;00m \u001b[38;5;129;01mnot\u001b[39;00m \u001b[38;5;28mself\u001b[39m\u001b[38;5;241m.\u001b[39m_allow_stdin:\n\u001b[0;32m   1172\u001b[0m     \u001b[38;5;28;01mraise\u001b[39;00m StdinNotImplementedError(\n\u001b[0;32m   1173\u001b[0m         \u001b[38;5;124m\"\u001b[39m\u001b[38;5;124mraw_input was called, but this frontend does not support input requests.\u001b[39m\u001b[38;5;124m\"\u001b[39m\n\u001b[0;32m   1174\u001b[0m     )\n\u001b[1;32m-> 1175\u001b[0m \u001b[38;5;28;01mreturn\u001b[39;00m \u001b[38;5;28mself\u001b[39m\u001b[38;5;241m.\u001b[39m_input_request(\n\u001b[0;32m   1176\u001b[0m     \u001b[38;5;28mstr\u001b[39m(prompt),\n\u001b[0;32m   1177\u001b[0m     \u001b[38;5;28mself\u001b[39m\u001b[38;5;241m.\u001b[39m_parent_ident[\u001b[38;5;124m\"\u001b[39m\u001b[38;5;124mshell\u001b[39m\u001b[38;5;124m\"\u001b[39m],\n\u001b[0;32m   1178\u001b[0m     \u001b[38;5;28mself\u001b[39m\u001b[38;5;241m.\u001b[39mget_parent(\u001b[38;5;124m\"\u001b[39m\u001b[38;5;124mshell\u001b[39m\u001b[38;5;124m\"\u001b[39m),\n\u001b[0;32m   1179\u001b[0m     password\u001b[38;5;241m=\u001b[39m\u001b[38;5;28;01mFalse\u001b[39;00m,\n\u001b[0;32m   1180\u001b[0m )\n",
      "File \u001b[1;32m~\\anaconda3\\Lib\\site-packages\\ipykernel\\kernelbase.py:1217\u001b[0m, in \u001b[0;36mKernel._input_request\u001b[1;34m(self, prompt, ident, parent, password)\u001b[0m\n\u001b[0;32m   1214\u001b[0m             \u001b[38;5;28;01mbreak\u001b[39;00m\n\u001b[0;32m   1215\u001b[0m \u001b[38;5;28;01mexcept\u001b[39;00m \u001b[38;5;167;01mKeyboardInterrupt\u001b[39;00m:\n\u001b[0;32m   1216\u001b[0m     \u001b[38;5;66;03m# re-raise KeyboardInterrupt, to truncate traceback\u001b[39;00m\n\u001b[1;32m-> 1217\u001b[0m     \u001b[38;5;28;01mraise\u001b[39;00m \u001b[38;5;167;01mKeyboardInterrupt\u001b[39;00m(\u001b[38;5;124m\"\u001b[39m\u001b[38;5;124mInterrupted by user\u001b[39m\u001b[38;5;124m\"\u001b[39m) \u001b[38;5;28;01mfrom\u001b[39;00m \u001b[38;5;28;01mNone\u001b[39;00m\n\u001b[0;32m   1218\u001b[0m \u001b[38;5;28;01mexcept\u001b[39;00m \u001b[38;5;167;01mException\u001b[39;00m:\n\u001b[0;32m   1219\u001b[0m     \u001b[38;5;28mself\u001b[39m\u001b[38;5;241m.\u001b[39mlog\u001b[38;5;241m.\u001b[39mwarning(\u001b[38;5;124m\"\u001b[39m\u001b[38;5;124mInvalid Message:\u001b[39m\u001b[38;5;124m\"\u001b[39m, exc_info\u001b[38;5;241m=\u001b[39m\u001b[38;5;28;01mTrue\u001b[39;00m)\n",
      "\u001b[1;31mKeyboardInterrupt\u001b[0m: Interrupted by user"
     ]
    }
   ],
   "source": [
    "notas_alunos = {}\n",
    "\n",
    "def adicionar_nota(aluno, disciplina, nota):\n",
    "    if aluno in notas_alunos:\n",
    "        if disciplina in notas_alunos[aluno]:\n",
    "            notas_alunos[aluno][disciplina].append(nota)\n",
    "        else:\n",
    "            notas_alunos[aluno][disciplina] = [nota]\n",
    "    else:\n",
    "        notas_alunos[aluno] = {disciplina: [nota]}\n",
    "    \n",
    "    print(f\"Nota {nota} adicionada para o aluno {aluno} na disciplina {disciplina}.\")\n",
    "\n",
    "def calcular_media(notas):\n",
    "    if notas:\n",
    "        return sum(notas) / len(notas)\n",
    "    else:\n",
    "        return 0\n",
    "\n",
    "def calcular_medias_alunos():\n",
    "    print(\"\\nMédias dos Alunos:\")\n",
    "    for aluno, disciplinas in notas_alunos.items():\n",
    "        medias_disciplinas = []\n",
    "        for disciplina, notas in disciplinas.items():\n",
    "            media_disciplina = calcular_media(notas)\n",
    "            medias_disciplinas.append(media_disciplina)\n",
    "            print(f\"{aluno} - {disciplina}: Média {media_disciplina:.2f}\")\n",
    "        media_aluno = calcular_media(medias_disciplinas)\n",
    "        print(f\"Média Geral de {aluno}: {media_aluno:.2f}\")\n",
    "\n",
    "while True:\n",
    "    print(\"Registro de Notas:\\n\")\n",
    "    print(\"1. Adicionar nota\")\n",
    "    print(\"2. Calcular médias dos alunos\")\n",
    "    print(\"3. Sair\")\n",
    "    \n",
    "    escolha = input(\"Escolha uma opção: \")\n",
    "    \n",
    "    if escolha == '1':\n",
    "        aluno = input(\"Digite o nome do aluno: \")\n",
    "        disciplina = input(\"Digite o nome da disciplina: \")\n",
    "        nota = float(input(\"Digite a nota: \"))\n",
    "        adicionar_nota(aluno, disciplina, nota)\n",
    "    elif escolha == '2':\n",
    "        calcular_medias_alunos()\n",
    "    elif escolha == '3':\n",
    "        print(\"Encerrando o programa.\")\n",
    "        break\n",
    "    else:\n",
    "        print(\"Opção inválida. Por favor, escolha uma opção válida.\")"
   ]
  },
  {
   "cell_type": "markdown",
   "id": "c81f0cb4",
   "metadata": {},
   "source": [
    "# Exercício 8: Contagem de Letras em Palavras\n",
    "### Crie uma função que recebe uma lista de palavras e retorna um dicionário onde as chaves são as letras presentes nas palavras e os valores são a contagem total de vezes que cada letra aparece."
   ]
  },
  {
   "cell_type": "code",
   "execution_count": 38,
   "id": "5f058fef",
   "metadata": {},
   "outputs": [
    {
     "name": "stdout",
     "output_type": "stream",
     "text": [
      "{'g': 1, 'a': 4, 't': 3, 'o': 4, 'c': 2, 'h': 1, 'r': 3, 'e': 3, 'l': 1, 'f': 1, 'n': 1}\n"
     ]
    }
   ],
   "source": [
    "def contar_letras(lista_palavras):\n",
    "    contador = {}\n",
    "    \n",
    "    for palavra in lista_palavras:\n",
    "        for letra in palavra:\n",
    "            if letra in contador:\n",
    "                contador[letra] += 1\n",
    "            else:\n",
    "                contador[letra] = 1\n",
    "    \n",
    "    return contador\n",
    "\n",
    "lista_palavras = []\n",
    "\n",
    "resultado = contar_letras(lista_palavras)\n",
    "print(resultado)"
   ]
  },
  {
   "cell_type": "markdown",
   "id": "ac2a2456",
   "metadata": {},
   "source": [
    "# Exercício 9: Calculadora de Despesas\n",
    "### Crie um programa que simule o controle de despesas de um grupo de amigos. Use um dicionário onde as chaves são os nomes dos amigos e os valores são listas de despesas. Permita que o usuário adicione despesas e calcule quanto cada pessoa deve pagar."
   ]
  },
  {
   "cell_type": "code",
   "execution_count": null,
   "id": "9987e73e",
   "metadata": {},
   "outputs": [],
   "source": [
    "despesas_amigos = {}\n",
    "\n",
    "def adicionar_despesa(amigo, valor):\n",
    "    if amigo in despesas_amigos:\n",
    "        despesas_amigos[amigo].append(valor)\n",
    "    else:\n",
    "        despesas_amigos[amigo] = [valor]\n",
    "    print(f\"Despesa de {valor} adicionada para o amigo {amigo}.\")\n",
    "\n",
    "def calcular_divisao(despesas):\n",
    "    total_despesas = sum(despesas)\n",
    "    numero_amigos = len(despesas)\n",
    "    return total_despesas / numero_amigos\n",
    "\n",
    "def calcular_divisoes_amigos():\n",
    "    print(\"\\nDivisão de Despesas:\")\n",
    "    for amigo, despesas in despesas_amigos.items():\n",
    "        valor_a_pagar = calcular_divisao(despesas)\n",
    "        print(f\"{amigo} deve pagar: R${valor_a_pagar:.2f}\")\n",
    "\n",
    "while True:\n",
    "    print(\"\\n--- Controle de Despesas ---\")\n",
    "    print(\"1. Adicionar despesa\")\n",
    "    print(\"2. Calcular divisões\")\n",
    "    print(\"3. Sair\")\n",
    "    \n",
    "    escolha = input(\"Escolha uma opção: \")\n",
    "    \n",
    "    if escolha == '1':\n",
    "        amigo = input(\"Digite o nome do amigo: \")\n",
    "        valor = float(input(\"Digite o valor da despesa: \"))\n",
    "        adicionar_despesa(amigo, valor)\n",
    "    elif escolha == '2':\n",
    "        calcular_divisoes_amigos()\n",
    "    elif escolha == '3':\n",
    "        print(\"Encerrando o programa...\")\n",
    "        break\n",
    "    else:\n",
    "        print(\"Opção inválida. Por favor, escolha uma opção válida.\")"
   ]
  },
  {
   "cell_type": "markdown",
   "id": "07c1ee0b",
   "metadata": {},
   "source": [
    "# Exercício 10: Jogo de Trívia\n",
    "### Crie um jogo de trívia em que o programa faz perguntas e o usuário responde. Use um dicionário onde as chaves são as perguntas e os valores são as respostas corretas. Mostre as perguntas ao usuário, solicite a resposta e informe se ele acertou ou errou."
   ]
  },
  {
   "cell_type": "code",
   "execution_count": 55,
   "id": "45721917",
   "metadata": {},
   "outputs": [],
   "source": [
    "perguntas_respostas = {\n",
    "    \"Qual é a capital do Brasil?\": \"Brasilia\",\n",
    "    \"Quem pintou a Noite Estrelada?\": \"Van Gogh\",\n",
    "    \"Quantos países existem no mundo?\": \"195\",\n",
    "}\n",
    "\n",
    "def jogo_trivia(perguntas_respostas):\n",
    "    pontos = 0\n",
    "    total_perguntas = len(perguntas_respostas)\n",
    "    \n",
    "    for pergunta, resposta_correta in perguntas_respostas.items():\n",
    "        print(pergunta)\n",
    "        resposta_usuario = input(\"Sua resposta: \")\n",
    "        \n",
    "        if resposta_usuario.lower() == resposta_correta.lower():\n",
    "            print(\"Resposta correta!\")\n",
    "            pontos += 1\n",
    "        else:\n",
    "            print(f\"Resposta incorreta. A resposta correta é: {resposta_correta}\")\n",
    "        \n",
    "        print()\n",
    "    \n",
    "    print(\"Você acertou {pontos} de {total_perguntas} perguntas.\")"
   ]
  }
 ],
 "metadata": {
  "kernelspec": {
   "display_name": "Python 3 (ipykernel)",
   "language": "python",
   "name": "python3"
  },
  "language_info": {
   "codemirror_mode": {
    "name": "ipython",
    "version": 3
   },
   "file_extension": ".py",
   "mimetype": "text/x-python",
   "name": "python",
   "nbconvert_exporter": "python",
   "pygments_lexer": "ipython3",
   "version": "3.11.3"
  }
 },
 "nbformat": 4,
 "nbformat_minor": 5
}
