{
 "cells": [
  {
   "cell_type": "markdown",
   "id": "2fe9bf14",
   "metadata": {},
   "source": [
    "# Exercios de Tuplas "
   ]
  },
  {
   "cell_type": "markdown",
   "id": "8a3b69e2",
   "metadata": {},
   "source": [
    "## Vamos explorar a utilidade das tuplas e como elas podem ser aplicadas em várias situações. As tuplas são estruturas de dados imutáveis que permitem armazenar múltiplos elementos de diferentes tipos, tornando-as ideais para representar informações relacionadas de maneira organizada.\n",
    "\n",
    "### Agora, você está prestes a enfrentar um conjunto de desafios práticos que envolvem o uso de tuplas. Cada exercício foi cuidadosamente criado para ajudá-lo a consolidar seus conhecimentos sobre tuplas e aprimorar suas habilidades de resolução de problemas. Através desses exercícios, você explorará cenários do mundo real, como gerenciamento de estoque, processamento de informações, análise de dados e até mesmo a criação de pequenos jogos.\n",
    "\n",
    "### À medida que você avança pelos exercícios, lembre-se de aplicar conceitos importantes, como criação de tuplas, indexação, slicing, iteração e cálculos simples. Use sua criatividade e habilidades para encontrar soluções eficientes e elegantes para cada problema proposto. À medida que você se familiariza mais com as tuplas, você também estará desenvolvendo um entendimento mais profundo das estruturas de dados em geral, o que será valioso em suas futuras explorações na programação."
   ]
  },
  {
   "cell_type": "markdown",
   "id": "160b05d8",
   "metadata": {},
   "source": [
    "# Exercício 1: Contagem de Vogais\n",
    "### Crie uma função que recebe uma string e retorna uma tupla contendo a contagem de vogais e consoantes na string."
   ]
  },
  {
   "cell_type": "code",
   "execution_count": 2,
   "id": "2a02751e",
   "metadata": {},
   "outputs": [
    {
     "name": "stdout",
     "output_type": "stream",
     "text": [
      "Digite uma palacra: arroz\n",
      "(2, 3)\n"
     ]
    }
   ],
   "source": [
    "def contar_vogais_consoantes(string):\n",
    "    vogais = \"aeiouAEIOU\"\n",
    "    contador_vogais = 0\n",
    "    contador_consoantes = 0\n",
    "    \n",
    "    for char in string:\n",
    "        if char.isalpha():\n",
    "            if char in vogais:\n",
    "                contador_vogais += 1\n",
    "            else:\n",
    "                contador_consoantes += 1\n",
    "    \n",
    "    return contador_vogais, contador_consoantes\n",
    "\n",
    "# Exemplo de uso\n",
    "minha_string = input('Digite uma palacra: ')\n",
    "resultado = contar_vogais_consoantes(minha_string)\n",
    "print(resultado)"
   ]
  },
  {
   "cell_type": "markdown",
   "id": "0e0d3c63",
   "metadata": {},
   "source": [
    "# Exercício 2: Controle de Estoque\n",
    "### Você está gerenciando o estoque de uma loja. Crie um programa que permita adicionar novos produtos (usando tuplas para nome e preço) ao estoque e exibir o valor total do estoque."
   ]
  },
  {
   "cell_type": "code",
   "execution_count": 1,
   "id": "b8babf7e",
   "metadata": {},
   "outputs": [
    {
     "name": "stdout",
     "output_type": "stream",
     "text": [
      "Menu:\n",
      "\n",
      "1. Adicionar produto\n",
      "2. Exibir estoque\n",
      "3. Exibir valor total do estoque\n",
      "4. Sair\n",
      "Escolha uma opção: 2\n",
      "Produtos no estoque:\n",
      "Menu:\n",
      "\n",
      "1. Adicionar produto\n",
      "2. Exibir estoque\n",
      "3. Exibir valor total do estoque\n",
      "4. Sair\n",
      "Escolha uma opção: 1\n",
      "Digite o nome do produto: arroz\n",
      "Digite o preço do produto: 10\n",
      "Produto 'arroz' adicionado ao estoque.\n",
      "Menu:\n",
      "\n",
      "1. Adicionar produto\n",
      "2. Exibir estoque\n",
      "3. Exibir valor total do estoque\n",
      "4. Sair\n",
      "Escolha uma opção: 2\n",
      "Produtos no estoque:\n",
      "Produto: arroz | Preço: R$10.00\n",
      "Menu:\n",
      "\n",
      "1. Adicionar produto\n",
      "2. Exibir estoque\n",
      "3. Exibir valor total do estoque\n",
      "4. Sair\n",
      "Escolha uma opção: \n",
      "Opção inválida. Escolha novamente.\n",
      "Menu:\n",
      "\n",
      "1. Adicionar produto\n",
      "2. Exibir estoque\n",
      "3. Exibir valor total do estoque\n",
      "4. Sair\n",
      "Escolha uma opção: \n",
      "Opção inválida. Escolha novamente.\n",
      "Menu:\n",
      "\n",
      "1. Adicionar produto\n",
      "2. Exibir estoque\n",
      "3. Exibir valor total do estoque\n",
      "4. Sair\n",
      "Escolha uma opção: 4\n",
      "Saindo do programa...\n"
     ]
    }
   ],
   "source": [
    "# Inicializa o estoque como uma lista vazia\n",
    "estoque = []\n",
    "\n",
    "def adicionar_produto(nome, preco):\n",
    "    produto = (nome, preco)\n",
    "    estoque.append(produto)\n",
    "    print(f\"Produto '{nome}' adicionado ao estoque.\")\n",
    "\n",
    "def calcular_valor_total():\n",
    "    valor_total = sum(produto[1] for produto in estoque)\n",
    "    return valor_total\n",
    "\n",
    "def exibir_estoque():\n",
    "    print(\"Produtos no estoque:\")\n",
    "    for nome, preco in estoque:\n",
    "        print(f\"Produto: {nome} | Preço: R${preco:.2f}\")\n",
    "\n",
    "# Loop principal do programa\n",
    "while True:\n",
    "    print(\"Menu:\\n\")\n",
    "    print(\"1. Adicionar produto\")\n",
    "    print(\"2. Exibir estoque\")\n",
    "    print(\"3. Exibir valor total do estoque\")\n",
    "    print(\"4. Sair\")\n",
    "    \n",
    "    escolha = input(\"Escolha uma opção: \")\n",
    "    \n",
    "    if escolha == '1':\n",
    "        nome_produto = input(\"Digite o nome do produto: \")\n",
    "        preco_produto = float(input(\"Digite o preço do produto: \"))\n",
    "        adicionar_produto(nome_produto, preco_produto)\n",
    "    elif escolha == '2':\n",
    "        exibir_estoque()\n",
    "    elif escolha == '3':\n",
    "        valor_total = calcular_valor_total()\n",
    "        print(f\"Valor total do estoque: R${valor_total:.2f}\")\n",
    "    elif escolha == '4':\n",
    "        print(\"Saindo do programa...\")\n",
    "        break\n",
    "    else:\n",
    "        print(\"Opção inválida. Escolha novamente.\")"
   ]
  },
  {
   "cell_type": "markdown",
   "id": "48e600bc",
   "metadata": {},
   "source": [
    "# Exercício 3: Análise de Texto\n",
    "### Crie uma função que recebe um texto e retorna uma tupla contendo a quantidade de palavras e a quantidade média de letras por palavra."
   ]
  },
  {
   "cell_type": "code",
   "execution_count": 15,
   "id": "fbfa078b",
   "metadata": {},
   "outputs": [
    {
     "name": "stdout",
     "output_type": "stream",
     "text": [
      "Digite um texto: arroz, feijao e batata o que falta?\n",
      "Quantidade de palavras: 7\n",
      "Quantidade média de letras por palavra: 4.14\n"
     ]
    }
   ],
   "source": [
    "def calcular_estatisticas_texto(texto):\n",
    "    palavras = texto.split()\n",
    "    quantidade_palavras = len(palavras)\n",
    "    \n",
    "    if quantidade_palavras == 0:\n",
    "        media_letras_por_palavra = 0\n",
    "    else:\n",
    "        total_letras = sum(len(palavra) for palavra in palavras)\n",
    "        media_letras_por_palavra = total_letras / quantidade_palavras\n",
    "    \n",
    "    return quantidade_palavras, media_letras_por_palavra\n",
    "\n",
    "texto_entrada = input(\"Digite um texto: \")\n",
    "quantidade_palavras, media_letras_por_palavra = calcular_estatisticas_texto(texto_entrada)\n",
    "\n",
    "print(f\"Quantidade de palavras: {quantidade_palavras}\")\n",
    "print(f\"Quantidade média de letras por palavra: {media_letras_por_palavra:.2f}\")"
   ]
  },
  {
   "cell_type": "markdown",
   "id": "680c1490",
   "metadata": {},
   "source": [
    "# Exercício 4: Divisão de Despesas\n",
    "### Você e seus amigos foram a um restaurante e agora precisam dividir a conta. Crie um programa que recebe o valor total da conta e o número de pessoas. Em seguida, calcule quanto cada pessoa deve pagar, considerando um serviço de 10% e usando uma tupla para armazenar os valores."
   ]
  },
  {
   "cell_type": "code",
   "execution_count": 16,
   "id": "a3a041b4",
   "metadata": {},
   "outputs": [
    {
     "name": "stdout",
     "output_type": "stream",
     "text": [
      "Digite o valor total da conta: 100\n",
      "Digite o número de pessoas: 5\n",
      "Valor por pessoa: R$22.00\n",
      "Valor do serviço (10%): R$10.00\n"
     ]
    }
   ],
   "source": [
    "def calcular_divisao_conta(valor_total, numero_pessoas):\n",
    "    valor_servico = valor_total * 0.10\n",
    "    valor_total_com_servico = valor_total + valor_servico\n",
    "    valor_por_pessoa = valor_total_com_servico / numero_pessoas\n",
    "    return valor_por_pessoa, valor_servico\n",
    "\n",
    "valor_total_conta = float(input(\"Digite o valor total da conta: \"))\n",
    "numero_de_pessoas = int(input(\"Digite o número de pessoas: \"))\n",
    "\n",
    "valor_por_pessoa, valor_servico = calcular_divisao_conta(valor_total_conta, numero_de_pessoas)\n",
    "\n",
    "print(f\"Valor por pessoa: R${valor_por_pessoa:.2f}\")\n",
    "print(f\"Valor do serviço (10%): R${valor_servico:.2f}\")"
   ]
  },
  {
   "cell_type": "markdown",
   "id": "fcfb196b",
   "metadata": {},
   "source": [
    "# Exercício 5: Contagem de Ocorrências\n",
    "### Crie uma função que recebe uma lista de elementos e retorna uma tupla contendo a quantidade de ocorrências de um valor específico e a quantidade total de elementos na lista."
   ]
  },
  {
   "cell_type": "code",
   "execution_count": 17,
   "id": "af7ebb49",
   "metadata": {},
   "outputs": [
    {
     "name": "stdout",
     "output_type": "stream",
     "text": [
      "Digite o valor específico a ser contado: 10\n",
      "Quantidade de ocorrências do valor 10: 0\n",
      "Total de elementos na lista: 8\n"
     ]
    }
   ],
   "source": [
    "def contar_ocorrencias_e_total(lista, valor_especifico):\n",
    "    quantidade_ocorrencias = lista.count(valor_especifico)\n",
    "    total_elementos = len(lista)\n",
    "    return quantidade_ocorrencias, total_elementos\n",
    "\n",
    "elementos = [1, 3, 2, 1, 4, 1, 5, 1]\n",
    "valor_procurado = int(input(\"Digite o valor específico a ser contado: \"))\n",
    "\n",
    "quantidade_ocorrencias, total_elementos = contar_ocorrencias_e_total(elementos, valor_procurado)\n",
    "\n",
    "print(f\"Quantidade de ocorrências do valor {valor_procurado}: {quantidade_ocorrencias}\")\n",
    "print(f\"Total de elementos na lista: {total_elementos}\")"
   ]
  },
  {
   "cell_type": "markdown",
   "id": "b39bd949",
   "metadata": {},
   "source": [
    "# Exercício 6: Ranking de Notas\n",
    "### Você está organizando um torneio de videogame. Crie um programa que recebe o nome e a pontuação de cada jogador e os armazena em uma lista de tuplas. Em seguida, exiba o ranking dos jogadores com base em suas pontuações."
   ]
  },
  {
   "cell_type": "code",
   "execution_count": 19,
   "id": "79465048",
   "metadata": {},
   "outputs": [
    {
     "name": "stdout",
     "output_type": "stream",
     "text": [
      "Digite o número de jogadores: 3\n",
      "Digite o nome do jogador 1: juju\n",
      "Digite a pontuação do jogador 1: 100\n",
      "Digite o nome do jogador 2: jojo\n",
      "Digite a pontuação do jogador 2: 150\n",
      "Digite o nome do jogador 3: jaja\n",
      "Digite a pontuação do jogador 3: 75\n",
      "\n",
      "Ranking dos jogadores:\n",
      "1. jojo - Pontuação: 150\n",
      "2. juju - Pontuação: 100\n",
      "3. jaja - Pontuação: 75\n"
     ]
    }
   ],
   "source": [
    "def criar_ranking(jogadores):\n",
    "    ranking = sorted(jogadores, key=lambda jogador: jogador[1], reverse=True)\n",
    "    return ranking\n",
    "\n",
    "# Exemplo de uso\n",
    "num_jogadores = int(input(\"Digite o número de jogadores: \"))\n",
    "jogadores = []\n",
    "\n",
    "for i in range(num_jogadores):\n",
    "    nome = input(f\"Digite o nome do jogador {i+1}: \")\n",
    "    pontuacao = int(input(f\"Digite a pontuação do jogador {i+1}: \"))\n",
    "    jogadores.append((nome, pontuacao))\n",
    "\n",
    "ranking = criar_ranking(jogadores)\n",
    "\n",
    "print(\"\\nRanking dos jogadores:\")\n",
    "for posicao, (nome, pontuacao) in enumerate(ranking, start=1):\n",
    "    print(f\"{posicao}. {nome} - Pontuação: {pontuacao}\")"
   ]
  },
  {
   "cell_type": "markdown",
   "id": "9e521469",
   "metadata": {},
   "source": [
    "# Exercício 7: Processamento de Dados Meteorológicos\n",
    "### Você possui uma lista de tuplas contendo a temperatura máxima e mínima de cada dia. Crie uma função que calcule a temperatura média de toda a semana e quantos dias a temperatura máxima excedeu 30 graus."
   ]
  },
  {
   "cell_type": "code",
   "execution_count": 20,
   "id": "d8510b8e",
   "metadata": {},
   "outputs": [
    {
     "name": "stdout",
     "output_type": "stream",
     "text": [
      "Temperatura média da semana: 30.0°C\n",
      "Quantidade de dias quentes (temperatura máxima > 30°C): 3\n"
     ]
    }
   ],
   "source": [
    "def calcular_temperatura_media_e_dias_quentes(dados_temperaturas):\n",
    "    soma_temperaturas_maximas = 0\n",
    "    dias_quentes = 0\n",
    "    \n",
    "    for temperatura_maxima, _ in dados_temperaturas:\n",
    "        soma_temperaturas_maximas += temperatura_maxima\n",
    "        if temperatura_maxima > 30:\n",
    "            dias_quentes += 1\n",
    "    \n",
    "    temperatura_media = soma_temperaturas_maximas / len(dados_temperaturas)\n",
    "    \n",
    "    return temperatura_media, dias_quentes\n",
    "\n",
    "# Exemplo de uso\n",
    "temperaturas_semana = [(28, 18), (32, 20), (29, 19), (31, 22), (27, 17), (33, 23), (30, 21)]\n",
    "\n",
    "temperatura_media_semana, dias_quentes = calcular_temperatura_media_e_dias_quentes(temperaturas_semana)\n",
    "\n",
    "print(f\"Temperatura média da semana: {temperatura_media_semana:.1f}°C\")\n",
    "print(f\"Quantidade de dias quentes (temperatura máxima > 30°C): {dias_quentes}\")\n"
   ]
  },
  {
   "cell_type": "markdown",
   "id": "11fd016a",
   "metadata": {},
   "source": [
    "# Exercício 8: Divisão Justa\n",
    "### Você e seus amigos decidiram alugar uma casa de férias. Crie um programa que recebe o valor total do aluguel, as despesas comuns e o número de pessoas. Distribua os custos de forma justa, arredondando para cima, e retorne uma tupla com os valores que cada pessoa deve pagar."
   ]
  },
  {
   "cell_type": "code",
   "execution_count": 1,
   "id": "395b6cea",
   "metadata": {},
   "outputs": [
    {
     "ename": "KeyboardInterrupt",
     "evalue": "Interrupted by user",
     "output_type": "error",
     "traceback": [
      "\u001b[1;31m---------------------------------------------------------------------------\u001b[0m",
      "\u001b[1;31mKeyboardInterrupt\u001b[0m                         Traceback (most recent call last)",
      "Cell \u001b[1;32mIn[1], line 16\u001b[0m\n\u001b[0;32m     12\u001b[0m         valores_por_pessoa[i] \u001b[38;5;241m+\u001b[39m\u001b[38;5;241m=\u001b[39m \u001b[38;5;241m1\u001b[39m\n\u001b[0;32m     14\u001b[0m     \u001b[38;5;28;01mreturn\u001b[39;00m \u001b[38;5;28mtuple\u001b[39m(valores_por_pessoa)\n\u001b[1;32m---> 16\u001b[0m valor_total_aluguel \u001b[38;5;241m=\u001b[39m \u001b[38;5;28mint\u001b[39m(\u001b[38;5;28minput\u001b[39m(\u001b[38;5;124m\"\u001b[39m\u001b[38;5;124mDigite o valor total do aluguel: \u001b[39m\u001b[38;5;124m\"\u001b[39m))\n\u001b[0;32m     17\u001b[0m despesas_comuns \u001b[38;5;241m=\u001b[39m \u001b[38;5;28mint\u001b[39m(\u001b[38;5;28minput\u001b[39m(\u001b[38;5;124m\"\u001b[39m\u001b[38;5;124mDigite o valor total das despesas comuns: \u001b[39m\u001b[38;5;124m\"\u001b[39m))\n\u001b[0;32m     18\u001b[0m numero_de_pessoas \u001b[38;5;241m=\u001b[39m \u001b[38;5;28mint\u001b[39m(\u001b[38;5;28minput\u001b[39m(\u001b[38;5;124m\"\u001b[39m\u001b[38;5;124mDigite o número de pessoas: \u001b[39m\u001b[38;5;124m\"\u001b[39m))\n",
      "File \u001b[1;32m~\\anaconda3\\Lib\\site-packages\\ipykernel\\kernelbase.py:1175\u001b[0m, in \u001b[0;36mKernel.raw_input\u001b[1;34m(self, prompt)\u001b[0m\n\u001b[0;32m   1171\u001b[0m \u001b[38;5;28;01mif\u001b[39;00m \u001b[38;5;129;01mnot\u001b[39;00m \u001b[38;5;28mself\u001b[39m\u001b[38;5;241m.\u001b[39m_allow_stdin:\n\u001b[0;32m   1172\u001b[0m     \u001b[38;5;28;01mraise\u001b[39;00m StdinNotImplementedError(\n\u001b[0;32m   1173\u001b[0m         \u001b[38;5;124m\"\u001b[39m\u001b[38;5;124mraw_input was called, but this frontend does not support input requests.\u001b[39m\u001b[38;5;124m\"\u001b[39m\n\u001b[0;32m   1174\u001b[0m     )\n\u001b[1;32m-> 1175\u001b[0m \u001b[38;5;28;01mreturn\u001b[39;00m \u001b[38;5;28mself\u001b[39m\u001b[38;5;241m.\u001b[39m_input_request(\n\u001b[0;32m   1176\u001b[0m     \u001b[38;5;28mstr\u001b[39m(prompt),\n\u001b[0;32m   1177\u001b[0m     \u001b[38;5;28mself\u001b[39m\u001b[38;5;241m.\u001b[39m_parent_ident[\u001b[38;5;124m\"\u001b[39m\u001b[38;5;124mshell\u001b[39m\u001b[38;5;124m\"\u001b[39m],\n\u001b[0;32m   1178\u001b[0m     \u001b[38;5;28mself\u001b[39m\u001b[38;5;241m.\u001b[39mget_parent(\u001b[38;5;124m\"\u001b[39m\u001b[38;5;124mshell\u001b[39m\u001b[38;5;124m\"\u001b[39m),\n\u001b[0;32m   1179\u001b[0m     password\u001b[38;5;241m=\u001b[39m\u001b[38;5;28;01mFalse\u001b[39;00m,\n\u001b[0;32m   1180\u001b[0m )\n",
      "File \u001b[1;32m~\\anaconda3\\Lib\\site-packages\\ipykernel\\kernelbase.py:1217\u001b[0m, in \u001b[0;36mKernel._input_request\u001b[1;34m(self, prompt, ident, parent, password)\u001b[0m\n\u001b[0;32m   1214\u001b[0m             \u001b[38;5;28;01mbreak\u001b[39;00m\n\u001b[0;32m   1215\u001b[0m \u001b[38;5;28;01mexcept\u001b[39;00m \u001b[38;5;167;01mKeyboardInterrupt\u001b[39;00m:\n\u001b[0;32m   1216\u001b[0m     \u001b[38;5;66;03m# re-raise KeyboardInterrupt, to truncate traceback\u001b[39;00m\n\u001b[1;32m-> 1217\u001b[0m     \u001b[38;5;28;01mraise\u001b[39;00m \u001b[38;5;167;01mKeyboardInterrupt\u001b[39;00m(\u001b[38;5;124m\"\u001b[39m\u001b[38;5;124mInterrupted by user\u001b[39m\u001b[38;5;124m\"\u001b[39m) \u001b[38;5;28;01mfrom\u001b[39;00m \u001b[38;5;28;01mNone\u001b[39;00m\n\u001b[0;32m   1218\u001b[0m \u001b[38;5;28;01mexcept\u001b[39;00m \u001b[38;5;167;01mException\u001b[39;00m:\n\u001b[0;32m   1219\u001b[0m     \u001b[38;5;28mself\u001b[39m\u001b[38;5;241m.\u001b[39mlog\u001b[38;5;241m.\u001b[39mwarning(\u001b[38;5;124m\"\u001b[39m\u001b[38;5;124mInvalid Message:\u001b[39m\u001b[38;5;124m\"\u001b[39m, exc_info\u001b[38;5;241m=\u001b[39m\u001b[38;5;28;01mTrue\u001b[39;00m)\n",
      "\u001b[1;31mKeyboardInterrupt\u001b[0m: Interrupted by user"
     ]
    }
   ],
   "source": [
    "import math\n",
    "\n",
    "def calcular_divisao_justa_aluguel(valor_aluguel, despesas_comuns, numero_pessoas):\n",
    "    valor_total = valor_aluguel + despesas_comuns\n",
    "    valor_por_pessoa = valor_total / numero_pessoas\n",
    "    valor_por_pessoa_arredondado = math.ceil(valor_por_pessoa)\n",
    "    \n",
    "    valores_por_pessoa = [valor_por_pessoa_arredondado] * numero_pessoas\n",
    "    diferenca = sum(valores_por_pessoa) - valor_total\n",
    "    \n",
    "    for i in range(diferenca):\n",
    "        valores_por_pessoa[i] += 1\n",
    "    \n",
    "    return tuple(valores_por_pessoa)\n",
    "\n",
    "valor_total_aluguel = int(input(\"Digite o valor total do aluguel: \"))\n",
    "despesas_comuns = int(input(\"Digite o valor total das despesas comuns: \"))\n",
    "numero_de_pessoas = int(input(\"Digite o número de pessoas: \"))\n",
    "\n",
    "valores_divisao = calcular_divisao_justa_aluguel(valor_total_aluguel, despesas_comuns, numero_de_pessoas)\n",
    "\n",
    "print(\"Valores que cada pessoa deve pagar:\")\n",
    "for i, valor in enumerate(valores_divisao, start=1):\n",
    "    print(f\"Pessoa {i}: R${valor:.2f}\")"
   ]
  },
  {
   "cell_type": "markdown",
   "id": "fc9530d0",
   "metadata": {},
   "source": [
    "# Exercício 9: Extração de Informações de Texto\n",
    "### Dado um texto com várias informações em formato \"chave: valor\", crie uma função que extrai essas informações e as armazena em uma tupla de dicionários."
   ]
  },
  {
   "cell_type": "code",
   "execution_count": 3,
   "id": "2cd026b9",
   "metadata": {},
   "outputs": [
    {
     "name": "stdout",
     "output_type": "stream",
     "text": [
      "({'Nome': 'João'}, {'Idade': '25'}, {'Profissão': 'Engenheiro'}, {'País': 'Brasil'})\n"
     ]
    }
   ],
   "source": [
    "def extrair_informacoes(texto):\n",
    "    informacoes = []\n",
    "    linhas = texto.strip().split('\\n')\n",
    "    \n",
    "    for linha in linhas:\n",
    "        chave, valor = linha.split(': ', 1)\n",
    "        informacao = {chave: valor}\n",
    "        informacoes.append(informacao)\n",
    "    \n",
    "    return tuple(informacoes)\n",
    "\n",
    "# Exemplo de uso\n",
    "meu_texto = \"\"\"\n",
    "Nome: João\n",
    "Idade: 25\n",
    "Profissão: Engenheiro\n",
    "País: Brasil\n",
    "\"\"\"\n",
    "resultado = extrair_informacoes(meu_texto)\n",
    "print(resultado)"
   ]
  },
  {
   "cell_type": "markdown",
   "id": "9a4a61b2",
   "metadata": {},
   "source": [
    "# Exercício 10: Jogo de Cartas\n",
    "### Crie um jogo de cartas em que dois jogadores jogam alternadamente. Cada jogador recebe uma mão de cartas (uma tupla de strings). Implemente a lógica de jogo, como verificar vitória, derrota ou empate, e exiba o resultado após cada rodada.\n",
    "\n",
    "### Esses exercícios de nível médio a difícil envolvem conceitos mais avançados de manipulação de tuplas e resolução de problemas. Eles podem ajudar a aprofundar sua compreensão das tuplas e como elas podem ser aplicadas em situações mais complexas."
   ]
  },
  {
   "cell_type": "code",
   "execution_count": 4,
   "id": "ede7894e",
   "metadata": {},
   "outputs": [
    {
     "name": "stdout",
     "output_type": "stream",
     "text": [
      "Jogador 1: ('Q', '9', '4')\n",
      "Jogador 2: ('8', '4', '7')\n",
      "Jogador 1 venceu!\n"
     ]
    }
   ],
   "source": [
    "import random\n",
    "\n",
    "baralho = ['A', '2', '3', '4', '5', '6', '7', '8', '9', '10', 'J', 'Q', 'K']\n",
    "random.shuffle(baralho)\n",
    "\n",
    "# Distribuindo as cartas para os jogadores\n",
    "mao_jogador1 = tuple(random.sample(baralho, 3))\n",
    "mao_jogador2 = tuple(random.sample(baralho, 3))\n",
    "\n",
    "print(f\"Jogador 1: {mao_jogador1}\")\n",
    "print(f\"Jogador 2: {mao_jogador2}\")\n",
    "\n",
    "# Verificando o vencedor ou empate\n",
    "if mao_jogador1 > mao_jogador2:\n",
    "    print(\"Jogador 1 venceu!\")\n",
    "elif mao_jogador2 > mao_jogador1:\n",
    "    print(\"Jogador 2 venceu!\")\n",
    "else:\n",
    "    print(\"Empate!\")\n"
   ]
  },
  {
   "cell_type": "code",
   "execution_count": null,
   "id": "54790cd0",
   "metadata": {},
   "outputs": [],
   "source": []
  }
 ],
 "metadata": {
  "kernelspec": {
   "display_name": "Python 3 (ipykernel)",
   "language": "python",
   "name": "python3"
  },
  "language_info": {
   "codemirror_mode": {
    "name": "ipython",
    "version": 3
   },
   "file_extension": ".py",
   "mimetype": "text/x-python",
   "name": "python",
   "nbconvert_exporter": "python",
   "pygments_lexer": "ipython3",
   "version": "3.11.3"
  }
 },
 "nbformat": 4,
 "nbformat_minor": 5
}
