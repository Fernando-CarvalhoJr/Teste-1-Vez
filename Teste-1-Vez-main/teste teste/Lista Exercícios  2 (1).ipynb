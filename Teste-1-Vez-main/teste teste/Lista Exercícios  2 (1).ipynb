{
 "cells": [
  {
   "cell_type": "markdown",
   "id": "a220e4e2",
   "metadata": {},
   "source": [
    "# Exercícios do Módulo 5 - Metódo .format"
   ]
  },
  {
   "cell_type": "markdown",
   "id": "737f7ee0",
   "metadata": {},
   "source": [
    "## Crie programas em python para atender as especificações abaixo."
   ]
  },
  {
   "cell_type": "markdown",
   "id": "33904d99",
   "metadata": {},
   "source": [
    "#####\n",
    "\n",
    "\n",
    "\n",
    "\n",
    "\n",
    "\n"
   ]
  },
  {
   "cell_type": "markdown",
   "id": "6f2fae2c",
   "metadata": {},
   "source": [
    "####"
   ]
  },
  {
   "cell_type": "markdown",
   "id": "b9d7d65b",
   "metadata": {},
   "source": [
    "# 1 - Faça um programa que peça o nome de um país, a capital e o idioma oficial e exiba uma mensagem com essas informações."
   ]
  },
  {
   "cell_type": "code",
   "execution_count": 2,
   "id": "1b62af10",
   "metadata": {},
   "outputs": [
    {
     "name": "stdout",
     "output_type": "stream",
     "text": [
      "Digite o nome do país idi\n",
      "Digite a capital do país escolhido olo\n",
      "Digite o idioma falado no país ulu\n",
      "O nome do país é idi cujo a capital é olo e o idioma falado é ulu\n"
     ]
    }
   ],
   "source": [
    "pais = input('Digite o nome do país: ')\n",
    "capital = input('Digite a capital do país escolhido: ')\n",
    "idi = input('Digite o idioma falado no país: ')\n",
    "\n",
    "print('O nome do país é {} cujo a capital é {} e o idioma falado é {}'.format(pais, capital, idi))"
   ]
  },
  {
   "cell_type": "markdown",
   "id": "5d617672",
   "metadata": {},
   "source": [
    "# 2 - Escreva um programa que peça dois números e exiba a soma deles."
   ]
  },
  {
   "cell_type": "code",
   "execution_count": 4,
   "id": "2c842c57",
   "metadata": {},
   "outputs": [
    {
     "name": "stdout",
     "output_type": "stream",
     "text": [
      "Digite o primeiro número 1\n",
      "Digite o segundo número 1\n",
      "A soma dos dois números foi 2.0\n"
     ]
    }
   ],
   "source": [
    "num1 = float(input('Digite o primeiro número: '))\n",
    "num2 = float(input('Digite o segundo número: '))\n",
    "\n",
    "soma = num1 + num2\n",
    "\n",
    "print('A soma dos números foi {}'.format(soma))"
   ]
  },
  {
   "cell_type": "markdown",
   "id": "78770cac",
   "metadata": {},
   "source": [
    "# 3 - Faça um programa que solicite o nome e a idade do usuário e exiba uma mensagem personalizada."
   ]
  },
  {
   "cell_type": "code",
   "execution_count": 5,
   "id": "85cc64da",
   "metadata": {},
   "outputs": [
    {
     "name": "stdout",
     "output_type": "stream",
     "text": [
      "Me diga seu nome fer\n",
      "Agora me diga sua idade 10\n",
      "Olá fer o senhor(a) tem 10 anos?\n"
     ]
    }
   ],
   "source": [
    "nome = input('Me diga seu nome: ')\n",
    "id = int(input('Agora me diga sua idade: '))\n",
    "\n",
    "print('Olá {} o senhor(a) tem {} anos.'.format(nome, id))"
   ]
  },
  {
   "cell_type": "markdown",
   "id": "259a4bbf",
   "metadata": {},
   "source": [
    "# 4 - Crie duas variáveis para armazenar valores numéricos e exiba o resultado da soma."
   ]
  },
  {
   "cell_type": "code",
   "execution_count": 7,
   "id": "2d4313e9",
   "metadata": {},
   "outputs": [
    {
     "name": "stdout",
     "output_type": "stream",
     "text": [
      "2.0\n"
     ]
    }
   ],
   "source": [
    "num1 = float(1)\n",
    "num2 = float(1)\n",
    "\n",
    "num3 = num1 + num2\n",
    "\n",
    "print(num3)"
   ]
  },
  {
   "cell_type": "markdown",
   "id": "a4b642fa",
   "metadata": {},
   "source": [
    "# 5 -  Escreva um programa que peça o nome do usuário e exiba uma mensagem de boas-vindas."
   ]
  },
  {
   "cell_type": "code",
   "execution_count": 9,
   "id": "dfee06bd",
   "metadata": {},
   "outputs": [
    {
     "name": "stdout",
     "output_type": "stream",
     "text": [
      "Me diga seu nome fer\n",
      "Seja bem-vindo fer! Adoramos sua presença aqui\n"
     ]
    }
   ],
   "source": [
    "nome = input('Me diga seu nome: ')\n",
    "\n",
    "print('Seja bem-vindo {}! Adoramos sua presença aqui'.format(nome))"
   ]
  },
  {
   "cell_type": "markdown",
   "id": "1aa984cf",
   "metadata": {},
   "source": [
    "#  6 - Você foi contratado para desenvolver um programa que auxilie um petshop a gerar mensagens personalizadas para seus clientes. O programa deve solicitar algumas informações do cliente e, em seguida, exibir uma mensagem customizada com base nos dados fornecidos.\n",
    "\n",
    "O programa deve conter as seguintes etapas:\n",
    "\n",
    "Solicitar ao usuário que digite seu nome, o nome do seu pet (animal de estimação) e a espécie do pet (por exemplo, cachorro, gato, pássaro, etc.).\n",
    "\n",
    "Em seguida, peça ao usuário que informe a idade do pet em anos.\n",
    "\n",
    "Solicite também ao usuário que informe se o pet já tomou todas as vacinas obrigatórias (responda com \"Sim\" ou \"Não\").\n",
    "\n",
    "Com base nas informações coletadas, o programa deve gerar uma mensagem personalizada para o cliente. A mensagem deve incluir o nome do cliente, o nome do pet, a espécie do pet, sua idade em anos e se já tomou todas as vacinas obrigatórias."
   ]
  },
  {
   "cell_type": "code",
   "execution_count": 14,
   "id": "72c15eff",
   "metadata": {},
   "outputs": [
    {
     "name": "stdout",
     "output_type": "stream",
     "text": [
      "Me diga seu nome fernando\n",
      "Me diga o nome do seu pet junino\n",
      "Qual é a espécie do pet? (por exemplo, cachorro, gato, pássaro, etc.) cachorro\n",
      "Quantos anos o seu pet tem? 10\n",
      "Responda apenas com \"Sim\" e \"Não\". Seu pet ja tomou vacina? sim\n",
      "\n",
      "Dono: fernando.\n",
      "\n",
      "Nome do(a) cachorro: junino.\n",
      "\n",
      "Idade: 10 anos.\n",
      "\n",
      "Vacinado: sim\n"
     ]
    }
   ],
   "source": [
    "nome = input('Me diga seu nome ')\n",
    "nomept = input('Me diga o nome do seu pet ')\n",
    "esp = input('Qual é a espécie do pet? (por exemplo, cachorro, gato, pássaro, etc.) ')\n",
    "id = input('Quantos anos o seu pet tem? ')\n",
    "vac = input('Responda apenas com \"Sim\" e \"Não\". Seu pet ja tomou vacina? ')\n",
    "\n",
    "print('\\nDono: {}.\\n\\nNome do(a) {}: {}.\\n\\nIdade: {} anos.\\n\\nVacinado: {}'.format(nome, esp, nomept, id, vac))"
   ]
  },
  {
   "cell_type": "code",
   "execution_count": null,
   "id": "9647ece8",
   "metadata": {},
   "outputs": [],
   "source": []
  }
 ],
 "metadata": {
  "kernelspec": {
   "display_name": "Python 3 (ipykernel)",
   "language": "python",
   "name": "python3"
  },
  "language_info": {
   "codemirror_mode": {
    "name": "ipython",
    "version": 3
   },
   "file_extension": ".py",
   "mimetype": "text/x-python",
   "name": "python",
   "nbconvert_exporter": "python",
   "pygments_lexer": "ipython3",
   "version": "3.11.3"
  }
 },
 "nbformat": 4,
 "nbformat_minor": 5
}
