{
 "cells": [
  {
   "cell_type": "code",
   "execution_count": 32,
   "id": "32f053d1",
   "metadata": {},
   "outputs": [
    {
     "name": "stdout",
     "output_type": "stream",
     "text": [
      "Digite o número para descobrirmos a média 50\n",
      "Digite o número para descobrirmos a média 40\n",
      "Digite o número para descobrirmos a média 30\n",
      "40.0\n"
     ]
    }
   ],
   "source": [
    "num1 = float(input('Digite o número para descobrirmos a média '))\n",
    "num2 = float(input('Digite o número para descobrirmos a média '))\n",
    "num3 = float(input('Digite o número para descobrirmos a média '))\n",
    "\n",
    "media = (num1 + num2 + num3)/3\n",
    "print(media)"
   ]
  },
  {
   "cell_type": "code",
   "execution_count": 42,
   "id": "b8b23fd1",
   "metadata": {},
   "outputs": [
    {
     "name": "stdout",
     "output_type": "stream",
     "text": [
      "Digite seu peso 70\n",
      "Digite sua altura 1.83\n",
      "20.902385858042937\n"
     ]
    }
   ],
   "source": [
    "num = float(input('Digite seu peso '))\n",
    "num1 = float(input('Digite sua altura '))\n",
    "\n",
    "quadrado = num1 * num1\n",
    "imc= num / quadrado\n",
    "print(imc)"
   ]
  },
  {
   "cell_type": "code",
   "execution_count": 43,
   "id": "670d3c73",
   "metadata": {},
   "outputs": [
    {
     "name": "stdout",
     "output_type": "stream",
     "text": [
      "True\n"
     ]
    }
   ],
   "source": [
    "print('F' in 'Fernando')"
   ]
  },
  {
   "cell_type": "code",
   "execution_count": null,
   "id": "3306af46",
   "metadata": {},
   "outputs": [],
   "source": []
  }
 ],
 "metadata": {
  "kernelspec": {
   "display_name": "Python 3 (ipykernel)",
   "language": "python",
   "name": "python3"
  },
  "language_info": {
   "codemirror_mode": {
    "name": "ipython",
    "version": 3
   },
   "file_extension": ".py",
   "mimetype": "text/x-python",
   "name": "python",
   "nbconvert_exporter": "python",
   "pygments_lexer": "ipython3",
   "version": "3.11.3"
  }
 },
 "nbformat": 4,
 "nbformat_minor": 5
}
