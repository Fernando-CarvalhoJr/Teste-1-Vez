{
 "cells": [
  {
   "cell_type": "markdown",
   "id": "d6fa79c4",
   "metadata": {},
   "source": [
    "# Exercícios de Introdução às Funções em Python"
   ]
  },
  {
   "cell_type": "markdown",
   "id": "6ea92414",
   "metadata": {},
   "source": [
    "######  . . . . .  . . . . . . . . . . . . . . . . . . . . . ..  . . . ..  .. .  ..  . . . . ..  . . . . . .. .  . . . . . . . . . ..  . .. .  . . .. . ..  .. .  . . . . . . . . .. . .  .. . . . . . .. . . . . . . . . . . . . . . . .. . . . . . .. \n",
    ".\n",
    "..\n",
    ".\n",
    "..\n",
    ".\n",
    "..\n",
    ".\n",
    "..\n"
   ]
  },
  {
   "cell_type": "markdown",
   "id": "66043de7",
   "metadata": {},
   "source": [
    "## Introdução ao uso de funções em Python. Funções são blocos de código que nos permitem organizar e reutilizar tarefas em nossos programas. Elas são uma parte fundamental da programação e nos ajudam a escrever código mais limpo, eficiente e modular.\n",
    "\n",
    "## Para praticar o que aprendemos, temos uma série de exercícios que envolvem o uso de funções básicas para realizar cálculos simples. Vocês deverão criar funções que resolvam os problemas propostos. Lembre-se de usar nomes significativos para suas funções e variáveis, para que o código seja claro e compreensível."
   ]
  },
  {
   "cell_type": "markdown",
   "id": "a7f6647f",
   "metadata": {},
   "source": [
    "## Exercício 1: Calcular a área de um retângulo\n",
    "### Situação Problema: Você está construindo um jardim retangular em sua casa. A largura do jardim é 5 metros e o comprimento é 8 metros. Qual é a área total do jardim?"
   ]
  },
  {
   "cell_type": "code",
   "execution_count": 24,
   "id": "931944a6",
   "metadata": {},
   "outputs": [],
   "source": [
    "#seu codigo aqui!\n",
    "def calcular_area(largura,comprimento):\n",
    "    largura = 5\n",
    "    comprimento = 8\n",
    "    area = (largura * comprimento)/2\n",
    "    return print(f'A area total do jardim será de {area} metros')"
   ]
  },
  {
   "cell_type": "markdown",
   "id": "f9684318",
   "metadata": {},
   "source": [
    "## Exercício 2: Calcular o quadrado de um número\n",
    "### Situação Problema: Você está medindo o lado de um quadrado. O lado mede 6 metros. Qual é a área desse quadrado?"
   ]
  },
  {
   "cell_type": "code",
   "execution_count": 46,
   "id": "12546b18",
   "metadata": {},
   "outputs": [
    {
     "name": "stdout",
     "output_type": "stream",
     "text": [
      "A área será de 36\n"
     ]
    }
   ],
   "source": [
    "#seu codigo aqui!\n",
    "lado = 6\n",
    "def calcular_area(lado):\n",
    "    area = lado ** 2\n",
    "    return print(f'A área será de {area}')\n",
    "calcular_area(lado)"
   ]
  },
  {
   "cell_type": "markdown",
   "id": "3f96f770",
   "metadata": {},
   "source": [
    "## Exercício 3: Converter Celsius para Fahrenheit\n",
    "### Situação Problema: Você está em um país onde a temperatura é medida em Fahrenheit. A temperatura atual é 25 graus Celsius. Qual é a temperatura equivalente em Fahrenheit?"
   ]
  },
  {
   "cell_type": "code",
   "execution_count": 55,
   "id": "c1923918",
   "metadata": {},
   "outputs": [
    {
     "name": "stdout",
     "output_type": "stream",
     "text": [
      "Valor em Fahrenheit: 77.0°F\n"
     ]
    }
   ],
   "source": [
    "#seu codigo aqui!\n",
    "C = 25\n",
    "def cel_fahr(C):\n",
    "    F = C * (9 / 5) + 32\n",
    "    return print(f'Valor em Fahrenheit: {F}°F')\n",
    "cel_fahr(C)"
   ]
  },
  {
   "cell_type": "markdown",
   "id": "535c92f1",
   "metadata": {},
   "source": [
    "## Exercício 4: Calcular a média de três números\n",
    "### Situação Problema: Você fez três exames e obteve as seguintes notas: 7.5, 8.0 e 6.5. Qual é a sua média nessas três provas?"
   ]
  },
  {
   "cell_type": "code",
   "execution_count": 57,
   "id": "c2c4fae5",
   "metadata": {},
   "outputs": [
    {
     "name": "stdout",
     "output_type": "stream",
     "text": [
      "A media total das notas são: 7.333333333333333\n"
     ]
    }
   ],
   "source": [
    "#seu codigo aqui!\n",
    "nota1 = 7.5\n",
    "nota2 = 8\n",
    "nota3 = 6.5\n",
    "def notas_exam(nota1, nota2, nota3):\n",
    "    media = (nota1 + nota2 + nota3)/3\n",
    "    print(f'A media total das notas são: {media}')\n",
    "notas_exam(nota1, nota2, nota3)"
   ]
  },
  {
   "cell_type": "markdown",
   "id": "dc19120f",
   "metadata": {},
   "source": [
    "## Exercício 5: Calcular a hipotenusa de um triângulo retângulo\n",
    "### Situação Problema: Você está construindo uma rampa para um skatepark. As duas partes da rampa formam um ângulo reto, e as medidas dos catetos são 4 metros e 5 metros. Qual é o comprimento da rampa (hipotenusa)?"
   ]
  },
  {
   "cell_type": "code",
   "execution_count": 61,
   "id": "e634d60c",
   "metadata": {},
   "outputs": [
    {
     "name": "stdout",
     "output_type": "stream",
     "text": [
      "O valor da hipotenusa é 6.4031242374328485 metros\n"
     ]
    }
   ],
   "source": [
    "#seu codigo aqui!\n",
    "ca = 4\n",
    "co = 5\n",
    "def valor_hipot(ca, co):\n",
    "    hipot = (ca ** 2 + co ** 2) ** (1/2)\n",
    "    print(f'O valor da hipotenusa é aproximadamente {hipot} metros')\n",
    "valor_hipot(ca, co)"
   ]
  },
  {
   "cell_type": "markdown",
   "id": "63fa58f9",
   "metadata": {},
   "source": [
    "## Exercício 6: Calcular o perímetro de um quadrado\n",
    "### Situação Problema: Você está construindo um tapete quadrado para a sala de estar. Cada lado do tapete mede 3 metros. Qual é o perímetro total do tapete?"
   ]
  },
  {
   "cell_type": "code",
   "execution_count": 64,
   "id": "a2cc0651",
   "metadata": {},
   "outputs": [
    {
     "name": "stdout",
     "output_type": "stream",
     "text": [
      "O valor do perimetro será de 12 metros\n"
     ]
    }
   ],
   "source": [
    "#seu codigo aqui!\n",
    "lado = 3\n",
    "def valor_perim(lado):\n",
    "    perim = 4 * lado\n",
    "    print(f'O valor do perimetro será de {perim} metros')\n",
    "valor_perim(lado)"
   ]
  },
  {
   "cell_type": "markdown",
   "id": "0bc6d476",
   "metadata": {},
   "source": [
    "## Exercício 7: Calcular a média ponderada de três notas\n",
    "### Situação Problema: Você está estudando para três disciplinas diferentes. Suas notas são: 7.0 em Matemática, 8.5 em Ciências e 9.5 em História. Se a Matemática tem peso 2, Ciências tem peso 3 e História tem peso 5, qual é a sua média ponderada?\n",
    "\n"
   ]
  },
  {
   "cell_type": "code",
   "execution_count": 79,
   "id": "15b67f4a",
   "metadata": {},
   "outputs": [
    {
     "name": "stdout",
     "output_type": "stream",
     "text": [
      "A média ponderada é 8.7\n"
     ]
    }
   ],
   "source": [
    "#seu codigo aqui!\n",
    "mat = 7.0\n",
    "cien = 8.5\n",
    "hist = 9.5\n",
    "def valor_pond(mat, cien, hist):\n",
    "    pond = (mat * 2) + (cien * 3) + (hist * 5)\n",
    "    pond1 = pond / (2 + 3 + 5)\n",
    "    print(f'A média ponderada é {pond1}')\n",
    "valor_pond(mat, cien, hist)"
   ]
  },
  {
   "cell_type": "markdown",
   "id": "a411f83c",
   "metadata": {},
   "source": [
    "## Exercício 8: Calcular a área de um círculo\n",
    "### Situação Problema: Você está pintando um alvo circular em uma parede. O raio do círculo é 2 metros. Qual é a área total que você precisa pintar?"
   ]
  },
  {
   "cell_type": "code",
   "execution_count": 83,
   "id": "e7a46d2d",
   "metadata": {},
   "outputs": [
    {
     "name": "stdout",
     "output_type": "stream",
     "text": [
      "A área total será de 4 metros\n"
     ]
    }
   ],
   "source": [
    "#seu codigo aqui!\n",
    "circ = 2\n",
    "def valor_area(circ):\n",
    "    raio = circ ** 2\n",
    "    print(f'A área total será de {raio} metros')\n",
    "valor_area(circ)"
   ]
  },
  {
   "cell_type": "markdown",
   "id": "1d16b12a",
   "metadata": {},
   "source": [
    "## Exercício 9: Converter quilômetros para milhas\n",
    "### Situação Problema: Você está planejando uma viagem de carro. O percurso tem 200 quilômetros de extensão. Qual é a distância equivalente em milhas?\n",
    "\n",
    "\n",
    "\n",
    "\n"
   ]
  },
  {
   "cell_type": "code",
   "execution_count": 84,
   "id": "1ca02ada",
   "metadata": {},
   "outputs": [
    {
     "name": "stdout",
     "output_type": "stream",
     "text": [
      "A distancia será de aproximadamente de 124.27420000000001 milhas\n"
     ]
    }
   ],
   "source": [
    "#seu codigo aqui!\n",
    "km = 200\n",
    "milhas = 0.621371\n",
    "def valor_milhas(km):\n",
    "    distanc = km * milhas\n",
    "    print(f'A distancia será de aproximadamente de {distanc} milhas')\n",
    "valor_milhas(km)"
   ]
  },
  {
   "cell_type": "markdown",
   "id": "b19544a3",
   "metadata": {},
   "source": [
    "## Exercício 10: Calcular a média aritmética de quatro números\n",
    "### Situação Problema: Você está acompanhando as notas de um aluno em quatro provas: 6.5, 7.0, 8.5 e 9.0. Qual é a média aritmética dessas quatro notas?\n",
    "\n",
    "\n"
   ]
  },
  {
   "cell_type": "code",
   "execution_count": 90,
   "id": "10c84074",
   "metadata": {},
   "outputs": [
    {
     "name": "stdout",
     "output_type": "stream",
     "text": [
      "A média será de 7.75\n"
     ]
    }
   ],
   "source": [
    "#seu codigo aqui!\n",
    "nota1 = 6.5\n",
    "nota2 = 7\n",
    "nota3 = 8.5\n",
    "nota4 = 9\n",
    "def valor_arit(nota1, nota2, nota3, nota4):\n",
    "    arit = nota1 + nota2 + nota3 + nota4\n",
    "    arit1 = arit / (4)\n",
    "    print(f'A média será de {arit1}')\n",
    "valor_arit(nota1, nota2, nota3, nota4)"
   ]
  },
  {
   "cell_type": "code",
   "execution_count": null,
   "id": "717ab6e3",
   "metadata": {},
   "outputs": [],
   "source": []
  }
 ],
 "metadata": {
  "kernelspec": {
   "display_name": "Python 3 (ipykernel)",
   "language": "python",
   "name": "python3"
  },
  "language_info": {
   "codemirror_mode": {
    "name": "ipython",
    "version": 3
   },
   "file_extension": ".py",
   "mimetype": "text/x-python",
   "name": "python",
   "nbconvert_exporter": "python",
   "pygments_lexer": "ipython3",
   "version": "3.11.3"
  }
 },
 "nbformat": 4,
 "nbformat_minor": 5
}
